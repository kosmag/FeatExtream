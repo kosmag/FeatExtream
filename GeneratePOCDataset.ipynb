{
 "cells": [
  {
   "cell_type": "code",
   "execution_count": 79,
   "metadata": {},
   "outputs": [],
   "source": [
    "import random, numpy as np, pandas as pd"
   ]
  },
  {
   "cell_type": "code",
   "execution_count": 80,
   "metadata": {},
   "outputs": [],
   "source": [
    "np.random.seed(42)"
   ]
  },
  {
   "cell_type": "code",
   "execution_count": 81,
   "metadata": {},
   "outputs": [],
   "source": [
    "N = 100000\n",
    "stdev = 0.1\n",
    "x1 = [np.random.normal(0,stdev) for i in range(0,N)]\n",
    "x2 = [np.random.normal(0,stdev) for i in range(0,N)]\n",
    "x3 = [np.random.normal(0,stdev) for i in range(0,N)]\n",
    "y = []\n",
    "fading_factor = 0.7\n",
    "b1 = 2\n",
    "b2 = 3\n",
    "b3 = 5\n",
    "\n",
    "for i in range(0,100000):\n",
    "    b3 = 5\n",
    "    if i < 10:\n",
    "        last_10_x3 = x3[:i]\n",
    "    else:\n",
    "        last_10_x3 = x3[i-10:i]\n",
    "    last_10_x3.reverse()\n",
    "    yval = x1[i] * b1 + x2[i] * b2 + x3[i] * b3\n",
    "    for j in range(0, len(last_10_x3)):\n",
    "        b3 *= fading_factor\n",
    "        yval += last_10_x3[j] * b3\n",
    "    y.append(np.random.normal(yval,stdev))"
   ]
  },
  {
   "cell_type": "code",
   "execution_count": 82,
   "metadata": {},
   "outputs": [],
   "source": [
    "df = pd.DataFrame(data={'x1':x1, 'x2':x2, 'x3':x3, 'y':y})"
   ]
  },
  {
   "cell_type": "code",
   "execution_count": 83,
   "metadata": {},
   "outputs": [
    {
     "data": {
      "text/html": [
       "<div>\n",
       "<style scoped>\n",
       "    .dataframe tbody tr th:only-of-type {\n",
       "        vertical-align: middle;\n",
       "    }\n",
       "\n",
       "    .dataframe tbody tr th {\n",
       "        vertical-align: top;\n",
       "    }\n",
       "\n",
       "    .dataframe thead th {\n",
       "        text-align: right;\n",
       "    }\n",
       "</style>\n",
       "<table border=\"1\" class=\"dataframe\">\n",
       "  <thead>\n",
       "    <tr style=\"text-align: right;\">\n",
       "      <th></th>\n",
       "      <th>x1</th>\n",
       "      <th>x2</th>\n",
       "      <th>x3</th>\n",
       "      <th>y</th>\n",
       "    </tr>\n",
       "  </thead>\n",
       "  <tbody>\n",
       "    <tr>\n",
       "      <th>0</th>\n",
       "      <td>0.049671</td>\n",
       "      <td>0.103059</td>\n",
       "      <td>0.156184</td>\n",
       "      <td>1.049459</td>\n",
       "    </tr>\n",
       "    <tr>\n",
       "      <th>1</th>\n",
       "      <td>-0.013826</td>\n",
       "      <td>-0.115535</td>\n",
       "      <td>-0.009423</td>\n",
       "      <td>0.180053</td>\n",
       "    </tr>\n",
       "    <tr>\n",
       "      <th>2</th>\n",
       "      <td>0.064769</td>\n",
       "      <td>0.057544</td>\n",
       "      <td>-0.132954</td>\n",
       "      <td>-0.025004</td>\n",
       "    </tr>\n",
       "    <tr>\n",
       "      <th>3</th>\n",
       "      <td>0.152303</td>\n",
       "      <td>-0.061924</td>\n",
       "      <td>-0.138864</td>\n",
       "      <td>-0.824379</td>\n",
       "    </tr>\n",
       "    <tr>\n",
       "      <th>4</th>\n",
       "      <td>-0.023415</td>\n",
       "      <td>-0.032740</td>\n",
       "      <td>-0.034265</td>\n",
       "      <td>-0.880041</td>\n",
       "    </tr>\n",
       "    <tr>\n",
       "      <th>...</th>\n",
       "      <td>...</td>\n",
       "      <td>...</td>\n",
       "      <td>...</td>\n",
       "      <td>...</td>\n",
       "    </tr>\n",
       "    <tr>\n",
       "      <th>99995</th>\n",
       "      <td>-0.022522</td>\n",
       "      <td>-0.126455</td>\n",
       "      <td>-0.043231</td>\n",
       "      <td>-0.449464</td>\n",
       "    </tr>\n",
       "    <tr>\n",
       "      <th>99996</th>\n",
       "      <td>-0.056978</td>\n",
       "      <td>0.056565</td>\n",
       "      <td>-0.068747</td>\n",
       "      <td>-0.497109</td>\n",
       "    </tr>\n",
       "    <tr>\n",
       "      <th>99997</th>\n",
       "      <td>0.040919</td>\n",
       "      <td>0.016002</td>\n",
       "      <td>-0.067964</td>\n",
       "      <td>-0.355138</td>\n",
       "    </tr>\n",
       "    <tr>\n",
       "      <th>99998</th>\n",
       "      <td>-0.021109</td>\n",
       "      <td>0.085567</td>\n",
       "      <td>-0.107209</td>\n",
       "      <td>-0.659804</td>\n",
       "    </tr>\n",
       "    <tr>\n",
       "      <th>99999</th>\n",
       "      <td>0.012006</td>\n",
       "      <td>-0.106495</td>\n",
       "      <td>-0.035785</td>\n",
       "      <td>-1.123809</td>\n",
       "    </tr>\n",
       "  </tbody>\n",
       "</table>\n",
       "<p>100000 rows × 4 columns</p>\n",
       "</div>"
      ],
      "text/plain": [
       "             x1        x2        x3         y\n",
       "0      0.049671  0.103059  0.156184  1.049459\n",
       "1     -0.013826 -0.115535 -0.009423  0.180053\n",
       "2      0.064769  0.057544 -0.132954 -0.025004\n",
       "3      0.152303 -0.061924 -0.138864 -0.824379\n",
       "4     -0.023415 -0.032740 -0.034265 -0.880041\n",
       "...         ...       ...       ...       ...\n",
       "99995 -0.022522 -0.126455 -0.043231 -0.449464\n",
       "99996 -0.056978  0.056565 -0.068747 -0.497109\n",
       "99997  0.040919  0.016002 -0.067964 -0.355138\n",
       "99998 -0.021109  0.085567 -0.107209 -0.659804\n",
       "99999  0.012006 -0.106495 -0.035785 -1.123809\n",
       "\n",
       "[100000 rows x 4 columns]"
      ]
     },
     "execution_count": 83,
     "metadata": {},
     "output_type": "execute_result"
    }
   ],
   "source": [
    "df"
   ]
  },
  {
   "cell_type": "code",
   "execution_count": 84,
   "metadata": {},
   "outputs": [
    {
     "data": {
      "text/plain": [
       "0        1.189442\n",
       "1       -0.421373\n",
       "2       -0.362599\n",
       "3       -0.575485\n",
       "4       -0.316377\n",
       "           ...   \n",
       "99995   -0.640567\n",
       "99996   -0.287992\n",
       "99997   -0.209976\n",
       "99998   -0.321562\n",
       "99999   -0.474395\n",
       "Length: 100000, dtype: float64"
      ]
     },
     "execution_count": 84,
     "metadata": {},
     "output_type": "execute_result"
    }
   ],
   "source": [
    "df['x1'] *2 +  df['x2'] *3 +df['x3'] *5 "
   ]
  },
  {
   "cell_type": "code",
   "execution_count": 85,
   "metadata": {},
   "outputs": [],
   "source": [
    "df.to_csv('poc_dataset.csv', index=False, sep = ';')"
   ]
  },
  {
   "cell_type": "code",
   "execution_count": null,
   "metadata": {},
   "outputs": [],
   "source": []
  }
 ],
 "metadata": {
  "kernelspec": {
   "display_name": "local-venv",
   "language": "python",
   "name": "local-venv"
  },
  "language_info": {
   "codemirror_mode": {
    "name": "ipython",
    "version": 3
   },
   "file_extension": ".py",
   "mimetype": "text/x-python",
   "name": "python",
   "nbconvert_exporter": "python",
   "pygments_lexer": "ipython3",
   "version": "3.7.0"
  }
 },
 "nbformat": 4,
 "nbformat_minor": 2
}
