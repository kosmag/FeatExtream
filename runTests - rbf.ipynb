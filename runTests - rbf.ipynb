{
 "cells": [
  {
   "cell_type": "code",
   "execution_count": 1,
   "metadata": {},
   "outputs": [],
   "source": [
    "import subprocess\n",
    "import pathlib\n",
    "import random\n",
    "import numpy as np\n",
    "import pandas as pd"
   ]
  },
  {
   "cell_type": "code",
   "execution_count": 2,
   "metadata": {},
   "outputs": [],
   "source": [
    "def random_search(f, hyperparameters, tries, set_seed=10):\n",
    "    #Random search algorithm \n",
    "    random.seed(set_seed)\n",
    "    best_result = None\n",
    "    best_params = None\n",
    "    for i in range(0, tries):\n",
    "        random_params = choose_random_hyperparameters(hyperparameters)\n",
    "        result = f(random_params)\n",
    "        if  best_result is None or result > best_result:\n",
    "            best_params = random_params\n",
    "            best_result = result\n",
    "    return best_params\n",
    "\n",
    "def choose_random_hyperparameters(hyperparameters):\n",
    "    random_params = []\n",
    "    for hyperparam in hyperparameters:\n",
    "        random_params.append(random.choice(hyperparam))\n",
    "    return random_params"
   ]
  },
  {
   "cell_type": "code",
   "execution_count": 3,
   "metadata": {},
   "outputs": [],
   "source": [
    "def greedy_search(f, hyperparameters, starting_parameters, tries_per_param, set_seed=10):\n",
    "    #Greedy algorithm - optimize one hyperparameter at a time\n",
    "    random.seed(set_seed)\n",
    "    current_parameters = starting_parameters\n",
    "    param_index = 0\n",
    "    best_result = f(starting_parameters)\n",
    "    for hyperparam in hyperparameters:\n",
    "        if tries_per_param >= len(hyperparam):\n",
    "            values = hyperparam\n",
    "        else:\n",
    "            values = random.sample(hyperparam, k=tries_per_param)\n",
    "        for value in values:\n",
    "            tested_parameters = current_parameters[:param_index] + [value] + current_parameters[param_index + 1:]\n",
    "            result = f(tested_parameters)\n",
    "            if result > best_result:\n",
    "                current_parameters = tested_parameters\n",
    "                best_result = result\n",
    "        param_index += 1\n",
    "    return current_parameters\n",
    "     "
   ]
  },
  {
   "cell_type": "code",
   "execution_count": 4,
   "metadata": {},
   "outputs": [],
   "source": [
    "test_parameters = [[1,2,3], [10,20,30], [100,200,300]]\n",
    "def test_f(numbers):\n",
    "    print(numbers)\n",
    "    return sum(numbers)\n",
    "starting_parameters = [2,30,100]"
   ]
  },
  {
   "cell_type": "code",
   "execution_count": 5,
   "metadata": {},
   "outputs": [
    {
     "name": "stdout",
     "output_type": "stream",
     "text": [
      "[3, 10, 200]\n",
      "[2, 30, 100]\n",
      "[1, 20, 200]\n",
      "[2, 30, 100]\n",
      "[1, 30, 200]\n"
     ]
    },
    {
     "data": {
      "text/plain": [
       "[1, 30, 200]"
      ]
     },
     "execution_count": 5,
     "metadata": {},
     "output_type": "execute_result"
    }
   ],
   "source": [
    "random_search(test_f, test_parameters, 5)"
   ]
  },
  {
   "cell_type": "code",
   "execution_count": 6,
   "metadata": {},
   "outputs": [
    {
     "name": "stdout",
     "output_type": "stream",
     "text": [
      "[2, 30, 100]\n",
      "[3, 30, 100]\n",
      "[1, 30, 100]\n",
      "[3, 20, 100]\n",
      "[3, 30, 100]\n",
      "[3, 30, 300]\n",
      "[3, 30, 100]\n"
     ]
    },
    {
     "data": {
      "text/plain": [
       "[3, 30, 300]"
      ]
     },
     "execution_count": 6,
     "metadata": {},
     "output_type": "execute_result"
    }
   ],
   "source": [
    "greedy_search(test_f, test_parameters, starting_parameters, 2)"
   ]
  },
  {
   "cell_type": "code",
   "execution_count": 7,
   "metadata": {},
   "outputs": [],
   "source": [
    "datasets = {\n",
    "    'airlines': (r'C:\\Users\\kosma\\Desktop\\MAGISTER\\FeatExtream\\data\\airlines.arff', 50000, True, True, True, [-1,2,3], [''], ['-1']),\n",
    "    'wisdm': (r'C:\\Users\\kosma\\Desktop\\MAGISTER\\FeatExtream\\data\\wisdm.arff',5000, True, True, True, ['-1'], [''], ['-1']),\n",
    "    'electricity': (r'C:\\Users\\kosma\\Desktop\\MAGISTER\\FeatExtream\\data\\electricity_arff.arff',45000, True, True, True, [-1,1], ['0,2'], ['-1']),\n",
    "    'vavel_sup_slim': (r'C:\\Users\\kosma\\Desktop\\MAGISTER\\FeatExtream\\result_sup_slim.arff',50000, False, True, True, [-1,13,14], ['0,5,7,9'], ['-1', '4,8', '4,8,12', '1,2,3,4,6,8,11,12']),\n",
    "    'vavel_sup': (r'C:\\Users\\kosma\\Desktop\\MAGISTER\\FeatExtream\\result_sup.arff',50000, False, True, True),\n",
    "    'vavel':  (r'C:\\Users\\kosma\\Desktop\\MAGISTER\\FeatExtream\\result.arff',50000, False, False, True),\n",
    "    'rbf':  ('generators.RandomRBFGenerator',50000, True, True, False, ['-1'], [''], ['-1']),\n",
    "    'hyperplane':  ('generators.HyperplaneGenerator',50000, True, True, False, ['-1'], [''], ['-1']),\n",
    "    'led':  ('generators.LEDGenerator',50000, True, True, False, ['-1'], [''], ['-1']),\n",
    "\n",
    "}\n",
    "\n",
    "def get_args(dataset):\n",
    "    return {\n",
    "        'name': dataset[0],\n",
    "        'size': dataset[1],\n",
    "        'classification': dataset[2],\n",
    "        'supervised': dataset[3],\n",
    "        'filebased': dataset[4],\n",
    "        'partition_ids': dataset[5],\n",
    "        'time_ids': dataset[6],\n",
    "        'buffer_ids': dataset[7],\n",
    "\n",
    "    }"
   ]
  },
  {
   "cell_type": "code",
   "execution_count": 8,
   "metadata": {},
   "outputs": [],
   "source": [
    "buffer_sizes = sorted(list({int(i) for i in np.logspace(0, 2, num=12)}))\n",
    "cluster_num = sorted(list({int(i) for i in np.logspace(0, 1.4, num=12)}))\n",
    "extractor = ['cluster','featureExtraction', 'cep']\n",
    "cluster_types = ['clustree', 'clustream']\n",
    "buffer_types = ['random', 'relevance']\n",
    "rs = list(np.linspace(0, 1, num=21)[1:])\n",
    "\n",
    "reg_buffer_learners = [\n",
    "    'rules.functions.TargetMean',\n",
    "    'rules.functions.FadingTargetMean',\n",
    "    'functions.AdaGrad',\n",
    "    'meta.AdaptiveRandomForestRegressor -s 10',\n",
    "    'meta.AdaptiveRandomForestRegressor -s 10 -m 80',\n",
    "    'rules.AMRulesRegressor',\n",
    "    'rules.functions.Perceptron',\n",
    "    'trees.ARFFIMTDD',\n",
    "\n",
    "]\n",
    "\n",
    "clf_buffer_learners = [\n",
    "    'functions.MajorityClass',\n",
    "    'functions.NoChange',\n",
    "    'lazy.SAMkNN',\n",
    "    'bayes.NaiveBayes',\n",
    "    'meta.AdaptiveRandomForest -s 10',\n",
    "    'meta.AdaptiveRandomForest -s 10 -m 80',\n",
    "    'trees.HoeffdingAdaptiveTree',\n",
    "    'meta.OzaBagAdwin',\n",
    "]\n",
    "\n",
    "class ExperimentRunner:\n",
    "    def __init__(self, dataset):\n",
    "        self.test_quotient = 1\n",
    "        self.dataset = dataset\n",
    "        self.exp_args = get_args(datasets[dataset])\n",
    "        self.task = 'EvaluatePrequential' if self.exp_args['classification'] else 'EvaluatePrequentialRegression' \n",
    "        self.learner = 'BufferLearner'\n",
    "        self.buffer_learners = clf_buffer_learners if self.exp_args['classification'] else reg_buffer_learners\n",
    "\n",
    "        self.relevance_learner = '(functions.AdaGrad)'\n",
    "        self.stream = f'(ArffFileStream -f {self.exp_args[\"name\"]})' if self.exp_args['filebased'] else self.exp_args['name']\n",
    "\n",
    "        self.sample_freq = 1000 / self.test_quotient\n",
    "        self.index = 0\n",
    "        self.outs = []\n",
    "        self.ran_params = []\n",
    "    \n",
    "    def generate_command(self, extractor, buffer_learner, n, cluster_num,  partition_id, time_ids, buffer_ids, cluster_type, buffer_type, r, target_dir = ''):\n",
    "        pathlib.Path(f'runs/tuning/{target_dir}/{self.dataset}/{extractor}').mkdir(parents=True, exist_ok=True)\n",
    "\n",
    "        target_file = f'runs/tuning/{target_dir}/{self.dataset}/{extractor}/{buffer_learner.replace(\".\",\"\").replace(\" \",\"\")}_{n}_{cluster_num}_{partition_id}_{time_ids}_{buffer_ids}_{cluster_type}_{buffer_type}_{int(r*100)}.csv'\n",
    "        start_cmd = f'{self.task} -l ({self.learner} -l ({buffer_learner}) -n {n} -m {self.relevance_learner}'\n",
    "        end_cmd = f') -s {self.stream} -i {int(self.exp_args[\"size\"] / self.test_quotient)} -f {int(self.sample_freq)} -d {target_file}'\n",
    "        cmd = f'{start_cmd} -c {extractor} -r {r} -b {buffer_type} -p {partition_id} {\"\" if time_ids == \"\" else f\"-t {time_ids}\"} -y {buffer_ids} -q {cluster_type} -x {cluster_num}{end_cmd}'\n",
    "        cmd = cmd.replace(\"\\\\\",\"/\")\n",
    "        return (cmd, target_file)\n",
    "    \n",
    "    def run_command(self, cmd, file_suffix):\n",
    "        file_contents = f'@echo off\\n\\\n",
    "        \\n\\\n",
    "        set BASEDIR=%~dp0\\..\\n\\\n",
    "        set MEMORY=6g\\n\\\n",
    "        \\n\\\n",
    "        java -Xmx%MEMORY% -cp \"%BASEDIR%/lib/*\" -javaagent:\"%BASEDIR%/lib/sizeofag-1.0.4.jar\" ^\\n\\\n",
    "        moa.DoTask ^\\n\\\n",
    "        \"{cmd} \"'\n",
    "        filename = r'..\\moa-release-2020.07.1\\bin\\moa_test_run_' + file_suffix + '.bat'\n",
    "        with open(filename, 'w') as file:\n",
    "            file.write(file_contents)\n",
    "        out = subprocess.Popen(filename)\n",
    "        return out\n",
    "\n",
    "    def run_and_get_value(self, params):\n",
    "        if str(params) in self.ran_params:\n",
    "            print(\"Params already ran - \" + str(params))\n",
    "            return float('-inf')\n",
    "        self.ran_params.append(str(params))\n",
    "        print(params)\n",
    "        self.index += 1\n",
    "        max_together = 1\n",
    "        cmd, target_file = self.generate_command(params[0], params[1], params[2], params[3], params[4], \n",
    "                               params[5], params[6], params[7], params[8], params[9], target_dir = '20210831')\n",
    "        print(f\"Running cmd = {cmd}\")\n",
    "        out = self.run_command(cmd,f'{self.dataset}{self.index}')\n",
    "        self.outs.append(out)\n",
    "\n",
    "        if len(self.outs) >= max_together:\n",
    "            self.outs[len(self.outs) - max_together].communicate()\n",
    "        \n",
    "        result_df = pd.read_csv(target_file, sep = ',')\n",
    "        col_name = 'classifications correct (percent)' if self.exp_args['classification'] else 'mean absolute error'\n",
    "        result = np.mean(result_df[col_name])\n",
    "        print (f\"Ran cmd with result {result}\")\n",
    "        run_result_file = target_file.rsplit( \"/\", 1 )[0] + \"/_run_result.csv\"\n",
    "        with open(run_result_file, 'a') as file:\n",
    "            stdev =  np.std(result_df[col_name])\n",
    "            to_write = \",\".join([str(p) for p in params]) + \",\" + \"{:.2f}\".format(stdev) + \",\" + \"{:.2f}\".format(result) + \"\\n\"\n",
    "            print(\"Writing \" + to_write)\n",
    "            file.write(to_write)\n",
    "        return result if self.exp_args['classification']  else -result\n",
    "            \n",
    "    def run(self):       \n",
    "        hyperparams_base = dict()\n",
    "        for ex in extractor:\n",
    "            hyperparams_base[ex] = [\n",
    "                [ex],\n",
    "                self.buffer_learners, \n",
    "                buffer_sizes, \n",
    "                cluster_num, \n",
    "                self.exp_args['partition_ids'], \n",
    "                self.exp_args['time_ids'], \n",
    "                self.exp_args['buffer_ids'],\n",
    "                cluster_types,\n",
    "                buffer_types,\n",
    "                rs\n",
    "            ]\n",
    "            initial_params = random_search(self.run_and_get_value, hyperparams_base[ex], 10)\n",
    "            best_params = greedy_search(self.run_and_get_value, hyperparams_base[ex], initial_params, 5)\n",
    "            print(f\"Best params for {ex}: \"  + str(best_params))"
   ]
  },
  {
   "cell_type": "code",
   "execution_count": 9,
   "metadata": {
    "scrolled": true
   },
   "outputs": [
    {
     "name": "stdout",
     "output_type": "stream",
     "text": [
      "['cluster', 'trees.HoeffdingAdaptiveTree', 28, 25, '-1', '', '-1', 'clustream', 'relevance', 0.30000000000000004]\n",
      "Running cmd = EvaluatePrequential -l (BufferLearner -l (trees.HoeffdingAdaptiveTree) -n 28 -m (functions.AdaGrad) -c cluster -r 0.30000000000000004 -b relevance -p -1  -y -1 -q clustream -x 25) -s generators.RandomRBFGenerator -i 50000 -f 1000 -d runs/tuning/20210831/rbf/cluster/treesHoeffdingAdaptiveTree_28_25_-1__-1_clustream_relevance_30.csv\n",
      "Ran cmd with result 71.90399999999998\n",
      "Writing cluster,trees.HoeffdingAdaptiveTree,28,25,-1,,-1,clustream,relevance,0.30000000000000004,6.15,71.90\n",
      "\n",
      "['cluster', 'meta.OzaBagAdwin', 12, 2, '-1', '', '-1', 'clustream', 'random', 1.0]\n",
      "Running cmd = EvaluatePrequential -l (BufferLearner -l (meta.OzaBagAdwin) -n 12 -m (functions.AdaGrad) -c cluster -r 1.0 -b random -p -1  -y -1 -q clustream -x 2) -s generators.RandomRBFGenerator -i 50000 -f 1000 -d runs/tuning/20210831/rbf/cluster/metaOzaBagAdwin_12_2_-1__-1_clustream_random_100.csv\n",
      "Ran cmd with result 73.95200000000001\n",
      "Writing cluster,meta.OzaBagAdwin,12,2,-1,,-1,clustream,random,1.0,10.22,73.95\n",
      "\n",
      "['cluster', 'trees.HoeffdingAdaptiveTree', 18, 5, '-1', '', '-1', 'clustream', 'relevance', 0.25]\n",
      "Running cmd = EvaluatePrequential -l (BufferLearner -l (trees.HoeffdingAdaptiveTree) -n 18 -m (functions.AdaGrad) -c cluster -r 0.25 -b relevance -p -1  -y -1 -q clustream -x 5) -s generators.RandomRBFGenerator -i 50000 -f 1000 -d runs/tuning/20210831/rbf/cluster/treesHoeffdingAdaptiveTree_18_5_-1__-1_clustream_relevance_25.csv\n",
      "Ran cmd with result 80.002\n",
      "Writing cluster,trees.HoeffdingAdaptiveTree,18,5,-1,,-1,clustream,relevance,0.25,5.53,80.00\n",
      "\n",
      "['cluster', 'bayes.NaiveBayes', 28, 25, '-1', '', '-1', 'clustree', 'random', 0.35000000000000003]\n",
      "Running cmd = EvaluatePrequential -l (BufferLearner -l (bayes.NaiveBayes) -n 28 -m (functions.AdaGrad) -c cluster -r 0.35000000000000003 -b random -p -1  -y -1 -q clustree -x 25) -s generators.RandomRBFGenerator -i 50000 -f 1000 -d runs/tuning/20210831/rbf/cluster/bayesNaiveBayes_28_25_-1__-1_clustree_random_35.csv\n",
      "Ran cmd with result 71.55999999999999\n",
      "Writing cluster,bayes.NaiveBayes,28,25,-1,,-1,clustree,random,0.35000000000000003,2.60,71.56\n",
      "\n",
      "['cluster', 'meta.AdaptiveRandomForest -s 10 -m 80', 5, 7, '-1', '', '-1', 'clustree', 'relevance', 0.8500000000000001]\n",
      "Running cmd = EvaluatePrequential -l (BufferLearner -l (meta.AdaptiveRandomForest -s 10 -m 80) -n 5 -m (functions.AdaGrad) -c cluster -r 0.8500000000000001 -b relevance -p -1  -y -1 -q clustree -x 7) -s generators.RandomRBFGenerator -i 50000 -f 1000 -d runs/tuning/20210831/rbf/cluster/metaAdaptiveRandomForest-s10-m80_5_7_-1__-1_clustree_relevance_85.csv\n",
      "Ran cmd with result 88.92\n",
      "Writing cluster,meta.AdaptiveRandomForest -s 10 -m 80,5,7,-1,,-1,clustree,relevance,0.8500000000000001,5.27,88.92\n",
      "\n",
      "['cluster', 'bayes.NaiveBayes', 18, 4, '-1', '', '-1', 'clustream', 'random', 0.9]\n",
      "Running cmd = EvaluatePrequential -l (BufferLearner -l (bayes.NaiveBayes) -n 18 -m (functions.AdaGrad) -c cluster -r 0.9 -b random -p -1  -y -1 -q clustream -x 4) -s generators.RandomRBFGenerator -i 50000 -f 1000 -d runs/tuning/20210831/rbf/cluster/bayesNaiveBayes_18_4_-1__-1_clustream_random_90.csv\n",
      "Ran cmd with result 71.9\n",
      "Writing cluster,bayes.NaiveBayes,18,4,-1,,-1,clustream,random,0.9,1.44,71.90\n",
      "\n",
      "['cluster', 'lazy.SAMkNN', 18, 25, '-1', '', '-1', 'clustree', 'relevance', 0.30000000000000004]\n",
      "Running cmd = EvaluatePrequential -l (BufferLearner -l (lazy.SAMkNN) -n 18 -m (functions.AdaGrad) -c cluster -r 0.30000000000000004 -b relevance -p -1  -y -1 -q clustree -x 25) -s generators.RandomRBFGenerator -i 50000 -f 1000 -d runs/tuning/20210831/rbf/cluster/lazySAMkNN_18_25_-1__-1_clustree_relevance_30.csv\n",
      "Ran cmd with result 54.52400000000001\n",
      "Writing cluster,lazy.SAMkNN,18,25,-1,,-1,clustree,relevance,0.30000000000000004,1.69,54.52\n",
      "\n",
      "['cluster', 'meta.AdaptiveRandomForest -s 10 -m 80', 18, 10, '-1', '', '-1', 'clustree', 'random', 0.2]\n",
      "Running cmd = EvaluatePrequential -l (BufferLearner -l (meta.AdaptiveRandomForest -s 10 -m 80) -n 18 -m (functions.AdaGrad) -c cluster -r 0.2 -b random -p -1  -y -1 -q clustree -x 10) -s generators.RandomRBFGenerator -i 50000 -f 1000 -d runs/tuning/20210831/rbf/cluster/metaAdaptiveRandomForest-s10-m80_18_10_-1__-1_clustree_random_20.csv\n",
      "Ran cmd with result 90.80199999999999\n",
      "Writing cluster,meta.AdaptiveRandomForest -s 10 -m 80,18,10,-1,,-1,clustree,random,0.2,3.80,90.80\n",
      "\n",
      "['cluster', 'meta.OzaBagAdwin', 8, 3, '-1', '', '-1', 'clustream', 'relevance', 0.7000000000000001]\n",
      "Running cmd = EvaluatePrequential -l (BufferLearner -l (meta.OzaBagAdwin) -n 8 -m (functions.AdaGrad) -c cluster -r 0.7000000000000001 -b relevance -p -1  -y -1 -q clustream -x 3) -s generators.RandomRBFGenerator -i 50000 -f 1000 -d runs/tuning/20210831/rbf/cluster/metaOzaBagAdwin_8_3_-1__-1_clustream_relevance_70.csv\n",
      "Ran cmd with result 81.18799999999999\n",
      "Writing cluster,meta.OzaBagAdwin,8,3,-1,,-1,clustream,relevance,0.7000000000000001,7.57,81.19\n",
      "\n",
      "['cluster', 'functions.MajorityClass', 43, 1, '-1', '', '-1', 'clustree', 'relevance', 0.75]\n",
      "Running cmd = EvaluatePrequential -l (BufferLearner -l (functions.MajorityClass) -n 43 -m (functions.AdaGrad) -c cluster -r 0.75 -b relevance -p -1  -y -1 -q clustree -x 1) -s generators.RandomRBFGenerator -i 50000 -f 1000 -d runs/tuning/20210831/rbf/cluster/functionsMajorityClass_43_1_-1__-1_clustree_relevance_75.csv\n",
      "Ran cmd with result 49.632\n",
      "Writing cluster,functions.MajorityClass,43,1,-1,,-1,clustree,relevance,0.75,1.62,49.63\n",
      "\n",
      "Params already ran - ['cluster', 'meta.AdaptiveRandomForest -s 10 -m 80', 18, 10, '-1', '', '-1', 'clustree', 'random', 0.2]\n",
      "Params already ran - ['cluster', 'meta.AdaptiveRandomForest -s 10 -m 80', 18, 10, '-1', '', '-1', 'clustree', 'random', 0.2]\n",
      "['cluster', 'functions.MajorityClass', 18, 10, '-1', '', '-1', 'clustree', 'random', 0.2]\n",
      "Running cmd = EvaluatePrequential -l (BufferLearner -l (functions.MajorityClass) -n 18 -m (functions.AdaGrad) -c cluster -r 0.2 -b random -p -1  -y -1 -q clustree -x 10) -s generators.RandomRBFGenerator -i 50000 -f 1000 -d runs/tuning/20210831/rbf/cluster/functionsMajorityClass_18_10_-1__-1_clustree_random_20.csv\n",
      "Ran cmd with result 49.632\n",
      "Writing cluster,functions.MajorityClass,18,10,-1,,-1,clustree,random,0.2,1.62,49.63\n",
      "\n",
      "['cluster', 'bayes.NaiveBayes', 18, 10, '-1', '', '-1', 'clustree', 'random', 0.2]\n",
      "Running cmd = EvaluatePrequential -l (BufferLearner -l (bayes.NaiveBayes) -n 18 -m (functions.AdaGrad) -c cluster -r 0.2 -b random -p -1  -y -1 -q clustree -x 10) -s generators.RandomRBFGenerator -i 50000 -f 1000 -d runs/tuning/20210831/rbf/cluster/bayesNaiveBayes_18_10_-1__-1_clustree_random_20.csv\n",
      "Ran cmd with result 71.72800000000001\n",
      "Writing cluster,bayes.NaiveBayes,18,10,-1,,-1,clustree,random,0.2,2.19,71.73\n",
      "\n",
      "['cluster', 'trees.HoeffdingAdaptiveTree', 18, 10, '-1', '', '-1', 'clustree', 'random', 0.2]\n",
      "Running cmd = EvaluatePrequential -l (BufferLearner -l (trees.HoeffdingAdaptiveTree) -n 18 -m (functions.AdaGrad) -c cluster -r 0.2 -b random -p -1  -y -1 -q clustree -x 10) -s generators.RandomRBFGenerator -i 50000 -f 1000 -d runs/tuning/20210831/rbf/cluster/treesHoeffdingAdaptiveTree_18_10_-1__-1_clustree_random_20.csv\n",
      "Ran cmd with result 80.42399999999999\n",
      "Writing cluster,trees.HoeffdingAdaptiveTree,18,10,-1,,-1,clustree,random,0.2,5.73,80.42\n",
      "\n",
      "['cluster', 'meta.AdaptiveRandomForest -s 10', 18, 10, '-1', '', '-1', 'clustree', 'random', 0.2]\n",
      "Running cmd = EvaluatePrequential -l (BufferLearner -l (meta.AdaptiveRandomForest -s 10) -n 18 -m (functions.AdaGrad) -c cluster -r 0.2 -b random -p -1  -y -1 -q clustree -x 10) -s generators.RandomRBFGenerator -i 50000 -f 1000 -d runs/tuning/20210831/rbf/cluster/metaAdaptiveRandomForest-s10_18_10_-1__-1_clustree_random_20.csv\n",
      "Ran cmd with result 91.36599999999999\n",
      "Writing cluster,meta.AdaptiveRandomForest -s 10,18,10,-1,,-1,clustree,random,0.2,3.55,91.37\n",
      "\n",
      "['cluster', 'meta.OzaBagAdwin', 18, 10, '-1', '', '-1', 'clustree', 'random', 0.2]\n",
      "Running cmd = EvaluatePrequential -l (BufferLearner -l (meta.OzaBagAdwin) -n 18 -m (functions.AdaGrad) -c cluster -r 0.2 -b random -p -1  -y -1 -q clustree -x 10) -s generators.RandomRBFGenerator -i 50000 -f 1000 -d runs/tuning/20210831/rbf/cluster/metaOzaBagAdwin_18_10_-1__-1_clustree_random_20.csv\n"
     ]
    },
    {
     "name": "stdout",
     "output_type": "stream",
     "text": [
      "Ran cmd with result 85.01599999999999\n",
      "Writing cluster,meta.OzaBagAdwin,18,10,-1,,-1,clustree,random,0.2,7.13,85.02\n",
      "\n",
      "['cluster', 'meta.AdaptiveRandomForest -s 10', 5, 10, '-1', '', '-1', 'clustree', 'random', 0.2]\n",
      "Running cmd = EvaluatePrequential -l (BufferLearner -l (meta.AdaptiveRandomForest -s 10) -n 5 -m (functions.AdaGrad) -c cluster -r 0.2 -b random -p -1  -y -1 -q clustree -x 10) -s generators.RandomRBFGenerator -i 50000 -f 1000 -d runs/tuning/20210831/rbf/cluster/metaAdaptiveRandomForest-s10_5_10_-1__-1_clustree_random_20.csv\n",
      "Ran cmd with result 89.488\n",
      "Writing cluster,meta.AdaptiveRandomForest -s 10,5,10,-1,,-1,clustree,random,0.2,3.98,89.49\n",
      "\n",
      "['cluster', 'meta.AdaptiveRandomForest -s 10', 28, 10, '-1', '', '-1', 'clustree', 'random', 0.2]\n",
      "Running cmd = EvaluatePrequential -l (BufferLearner -l (meta.AdaptiveRandomForest -s 10) -n 28 -m (functions.AdaGrad) -c cluster -r 0.2 -b random -p -1  -y -1 -q clustree -x 10) -s generators.RandomRBFGenerator -i 50000 -f 1000 -d runs/tuning/20210831/rbf/cluster/metaAdaptiveRandomForest-s10_28_10_-1__-1_clustree_random_20.csv\n",
      "Ran cmd with result 90.582\n",
      "Writing cluster,meta.AdaptiveRandomForest -s 10,28,10,-1,,-1,clustree,random,0.2,4.10,90.58\n",
      "\n",
      "['cluster', 'meta.AdaptiveRandomForest -s 10', 65, 10, '-1', '', '-1', 'clustree', 'random', 0.2]\n",
      "Running cmd = EvaluatePrequential -l (BufferLearner -l (meta.AdaptiveRandomForest -s 10) -n 65 -m (functions.AdaGrad) -c cluster -r 0.2 -b random -p -1  -y -1 -q clustree -x 10) -s generators.RandomRBFGenerator -i 50000 -f 1000 -d runs/tuning/20210831/rbf/cluster/metaAdaptiveRandomForest-s10_65_10_-1__-1_clustree_random_20.csv\n",
      "Ran cmd with result 91.03200000000001\n",
      "Writing cluster,meta.AdaptiveRandomForest -s 10,65,10,-1,,-1,clustree,random,0.2,4.00,91.03\n",
      "\n",
      "['cluster', 'meta.AdaptiveRandomForest -s 10', 8, 10, '-1', '', '-1', 'clustree', 'random', 0.2]\n",
      "Running cmd = EvaluatePrequential -l (BufferLearner -l (meta.AdaptiveRandomForest -s 10) -n 8 -m (functions.AdaGrad) -c cluster -r 0.2 -b random -p -1  -y -1 -q clustree -x 10) -s generators.RandomRBFGenerator -i 50000 -f 1000 -d runs/tuning/20210831/rbf/cluster/metaAdaptiveRandomForest-s10_8_10_-1__-1_clustree_random_20.csv\n",
      "Ran cmd with result 90.252\n",
      "Writing cluster,meta.AdaptiveRandomForest -s 10,8,10,-1,,-1,clustree,random,0.2,3.85,90.25\n",
      "\n",
      "['cluster', 'meta.AdaptiveRandomForest -s 10', 12, 10, '-1', '', '-1', 'clustree', 'random', 0.2]\n",
      "Running cmd = EvaluatePrequential -l (BufferLearner -l (meta.AdaptiveRandomForest -s 10) -n 12 -m (functions.AdaGrad) -c cluster -r 0.2 -b random -p -1  -y -1 -q clustree -x 10) -s generators.RandomRBFGenerator -i 50000 -f 1000 -d runs/tuning/20210831/rbf/cluster/metaAdaptiveRandomForest-s10_12_10_-1__-1_clustree_random_20.csv\n",
      "Ran cmd with result 89.35600000000001\n",
      "Writing cluster,meta.AdaptiveRandomForest -s 10,12,10,-1,,-1,clustree,random,0.2,4.43,89.36\n",
      "\n",
      "['cluster', 'meta.AdaptiveRandomForest -s 10', 18, 3, '-1', '', '-1', 'clustree', 'random', 0.2]\n",
      "Running cmd = EvaluatePrequential -l (BufferLearner -l (meta.AdaptiveRandomForest -s 10) -n 18 -m (functions.AdaGrad) -c cluster -r 0.2 -b random -p -1  -y -1 -q clustree -x 3) -s generators.RandomRBFGenerator -i 50000 -f 1000 -d runs/tuning/20210831/rbf/cluster/metaAdaptiveRandomForest-s10_18_3_-1__-1_clustree_random_20.csv\n",
      "Ran cmd with result 92.404\n",
      "Writing cluster,meta.AdaptiveRandomForest -s 10,18,3,-1,,-1,clustree,random,0.2,2.69,92.40\n",
      "\n",
      "['cluster', 'meta.AdaptiveRandomForest -s 10', 18, 1, '-1', '', '-1', 'clustree', 'random', 0.2]\n",
      "Running cmd = EvaluatePrequential -l (BufferLearner -l (meta.AdaptiveRandomForest -s 10) -n 18 -m (functions.AdaGrad) -c cluster -r 0.2 -b random -p -1  -y -1 -q clustree -x 1) -s generators.RandomRBFGenerator -i 50000 -f 1000 -d runs/tuning/20210831/rbf/cluster/metaAdaptiveRandomForest-s10_18_1_-1__-1_clustree_random_20.csv\n",
      "Ran cmd with result 92.52799999999999\n",
      "Writing cluster,meta.AdaptiveRandomForest -s 10,18,1,-1,,-1,clustree,random,0.2,2.43,92.53\n",
      "\n",
      "['cluster', 'meta.AdaptiveRandomForest -s 10', 18, 13, '-1', '', '-1', 'clustree', 'random', 0.2]\n",
      "Running cmd = EvaluatePrequential -l (BufferLearner -l (meta.AdaptiveRandomForest -s 10) -n 18 -m (functions.AdaGrad) -c cluster -r 0.2 -b random -p -1  -y -1 -q clustree -x 13) -s generators.RandomRBFGenerator -i 50000 -f 1000 -d runs/tuning/20210831/rbf/cluster/metaAdaptiveRandomForest-s10_18_13_-1__-1_clustree_random_20.csv\n",
      "Ran cmd with result 89.874\n",
      "Writing cluster,meta.AdaptiveRandomForest -s 10,18,13,-1,,-1,clustree,random,0.2,3.97,89.87\n",
      "\n",
      "['cluster', 'meta.AdaptiveRandomForest -s 10', 18, 25, '-1', '', '-1', 'clustree', 'random', 0.2]\n",
      "Running cmd = EvaluatePrequential -l (BufferLearner -l (meta.AdaptiveRandomForest -s 10) -n 18 -m (functions.AdaGrad) -c cluster -r 0.2 -b random -p -1  -y -1 -q clustree -x 25) -s generators.RandomRBFGenerator -i 50000 -f 1000 -d runs/tuning/20210831/rbf/cluster/metaAdaptiveRandomForest-s10_18_25_-1__-1_clustree_random_20.csv\n",
      "Ran cmd with result 87.13400000000001\n",
      "Writing cluster,meta.AdaptiveRandomForest -s 10,18,25,-1,,-1,clustree,random,0.2,4.41,87.13\n",
      "\n",
      "['cluster', 'meta.AdaptiveRandomForest -s 10', 18, 18, '-1', '', '-1', 'clustree', 'random', 0.2]\n",
      "Running cmd = EvaluatePrequential -l (BufferLearner -l (meta.AdaptiveRandomForest -s 10) -n 18 -m (functions.AdaGrad) -c cluster -r 0.2 -b random -p -1  -y -1 -q clustree -x 18) -s generators.RandomRBFGenerator -i 50000 -f 1000 -d runs/tuning/20210831/rbf/cluster/metaAdaptiveRandomForest-s10_18_18_-1__-1_clustree_random_20.csv\n",
      "Ran cmd with result 87.63799999999999\n",
      "Writing cluster,meta.AdaptiveRandomForest -s 10,18,18,-1,,-1,clustree,random,0.2,4.96,87.64\n",
      "\n",
      "Params already ran - ['cluster', 'meta.AdaptiveRandomForest -s 10', 18, 1, '-1', '', '-1', 'clustree', 'random', 0.2]\n",
      "Params already ran - ['cluster', 'meta.AdaptiveRandomForest -s 10', 18, 1, '-1', '', '-1', 'clustree', 'random', 0.2]\n",
      "Params already ran - ['cluster', 'meta.AdaptiveRandomForest -s 10', 18, 1, '-1', '', '-1', 'clustree', 'random', 0.2]\n",
      "Params already ran - ['cluster', 'meta.AdaptiveRandomForest -s 10', 18, 1, '-1', '', '-1', 'clustree', 'random', 0.2]\n",
      "['cluster', 'meta.AdaptiveRandomForest -s 10', 18, 1, '-1', '', '-1', 'clustream', 'random', 0.2]\n",
      "Running cmd = EvaluatePrequential -l (BufferLearner -l (meta.AdaptiveRandomForest -s 10) -n 18 -m (functions.AdaGrad) -c cluster -r 0.2 -b random -p -1  -y -1 -q clustream -x 1) -s generators.RandomRBFGenerator -i 50000 -f 1000 -d runs/tuning/20210831/rbf/cluster/metaAdaptiveRandomForest-s10_18_1_-1__-1_clustream_random_20.csv\n",
      "Ran cmd with result 92.52600000000001\n",
      "Writing cluster,meta.AdaptiveRandomForest -s 10,18,1,-1,,-1,clustream,random,0.2,2.45,92.53\n",
      "\n",
      "Params already ran - ['cluster', 'meta.AdaptiveRandomForest -s 10', 18, 1, '-1', '', '-1', 'clustree', 'random', 0.2]\n",
      "['cluster', 'meta.AdaptiveRandomForest -s 10', 18, 1, '-1', '', '-1', 'clustree', 'relevance', 0.2]\n",
      "Running cmd = EvaluatePrequential -l (BufferLearner -l (meta.AdaptiveRandomForest -s 10) -n 18 -m (functions.AdaGrad) -c cluster -r 0.2 -b relevance -p -1  -y -1 -q clustree -x 1) -s generators.RandomRBFGenerator -i 50000 -f 1000 -d runs/tuning/20210831/rbf/cluster/metaAdaptiveRandomForest-s10_18_1_-1__-1_clustree_relevance_20.csv\n",
      "Ran cmd with result 92.42200000000001\n",
      "Writing cluster,meta.AdaptiveRandomForest -s 10,18,1,-1,,-1,clustree,relevance,0.2,2.49,92.42\n",
      "\n",
      "['cluster', 'meta.AdaptiveRandomForest -s 10', 18, 1, '-1', '', '-1', 'clustree', 'random', 0.4]\n",
      "Running cmd = EvaluatePrequential -l (BufferLearner -l (meta.AdaptiveRandomForest -s 10) -n 18 -m (functions.AdaGrad) -c cluster -r 0.4 -b random -p -1  -y -1 -q clustree -x 1) -s generators.RandomRBFGenerator -i 50000 -f 1000 -d runs/tuning/20210831/rbf/cluster/metaAdaptiveRandomForest-s10_18_1_-1__-1_clustree_random_40.csv\n",
      "Ran cmd with result 92.45200000000001\n",
      "Writing cluster,meta.AdaptiveRandomForest -s 10,18,1,-1,,-1,clustree,random,0.4,2.41,92.45\n",
      "\n",
      "['cluster', 'meta.AdaptiveRandomForest -s 10', 18, 1, '-1', '', '-1', 'clustree', 'random', 0.6000000000000001]\n",
      "Running cmd = EvaluatePrequential -l (BufferLearner -l (meta.AdaptiveRandomForest -s 10) -n 18 -m (functions.AdaGrad) -c cluster -r 0.6000000000000001 -b random -p -1  -y -1 -q clustree -x 1) -s generators.RandomRBFGenerator -i 50000 -f 1000 -d runs/tuning/20210831/rbf/cluster/metaAdaptiveRandomForest-s10_18_1_-1__-1_clustree_random_60.csv\n"
     ]
    },
    {
     "name": "stdout",
     "output_type": "stream",
     "text": [
      "Ran cmd with result 92.46999999999998\n",
      "Writing cluster,meta.AdaptiveRandomForest -s 10,18,1,-1,,-1,clustree,random,0.6000000000000001,2.50,92.47\n",
      "\n",
      "['cluster', 'meta.AdaptiveRandomForest -s 10', 18, 1, '-1', '', '-1', 'clustree', 'random', 0.1]\n",
      "Running cmd = EvaluatePrequential -l (BufferLearner -l (meta.AdaptiveRandomForest -s 10) -n 18 -m (functions.AdaGrad) -c cluster -r 0.1 -b random -p -1  -y -1 -q clustree -x 1) -s generators.RandomRBFGenerator -i 50000 -f 1000 -d runs/tuning/20210831/rbf/cluster/metaAdaptiveRandomForest-s10_18_1_-1__-1_clustree_random_10.csv\n",
      "Ran cmd with result 92.574\n",
      "Writing cluster,meta.AdaptiveRandomForest -s 10,18,1,-1,,-1,clustree,random,0.1,2.51,92.57\n",
      "\n",
      "['cluster', 'meta.AdaptiveRandomForest -s 10', 18, 1, '-1', '', '-1', 'clustree', 'random', 0.7000000000000001]\n",
      "Running cmd = EvaluatePrequential -l (BufferLearner -l (meta.AdaptiveRandomForest -s 10) -n 18 -m (functions.AdaGrad) -c cluster -r 0.7000000000000001 -b random -p -1  -y -1 -q clustree -x 1) -s generators.RandomRBFGenerator -i 50000 -f 1000 -d runs/tuning/20210831/rbf/cluster/metaAdaptiveRandomForest-s10_18_1_-1__-1_clustree_random_70.csv\n",
      "Ran cmd with result 92.46799999999999\n",
      "Writing cluster,meta.AdaptiveRandomForest -s 10,18,1,-1,,-1,clustree,random,0.7000000000000001,2.37,92.47\n",
      "\n",
      "['cluster', 'meta.AdaptiveRandomForest -s 10', 18, 1, '-1', '', '-1', 'clustree', 'random', 0.25]\n",
      "Running cmd = EvaluatePrequential -l (BufferLearner -l (meta.AdaptiveRandomForest -s 10) -n 18 -m (functions.AdaGrad) -c cluster -r 0.25 -b random -p -1  -y -1 -q clustree -x 1) -s generators.RandomRBFGenerator -i 50000 -f 1000 -d runs/tuning/20210831/rbf/cluster/metaAdaptiveRandomForest-s10_18_1_-1__-1_clustree_random_25.csv\n",
      "Ran cmd with result 92.382\n",
      "Writing cluster,meta.AdaptiveRandomForest -s 10,18,1,-1,,-1,clustree,random,0.25,2.34,92.38\n",
      "\n",
      "Best params for cluster: ['cluster', 'meta.AdaptiveRandomForest -s 10', 18, 1, '-1', '', '-1', 'clustree', 'random', 0.1]\n",
      "['featureExtraction', 'trees.HoeffdingAdaptiveTree', 28, 25, '-1', '', '-1', 'clustream', 'relevance', 0.30000000000000004]\n",
      "Running cmd = EvaluatePrequential -l (BufferLearner -l (trees.HoeffdingAdaptiveTree) -n 28 -m (functions.AdaGrad) -c featureExtraction -r 0.30000000000000004 -b relevance -p -1  -y -1 -q clustream -x 25) -s generators.RandomRBFGenerator -i 50000 -f 1000 -d runs/tuning/20210831/rbf/featureExtraction/treesHoeffdingAdaptiveTree_28_25_-1__-1_clustream_relevance_30.csv\n",
      "Ran cmd with result 77.06\n",
      "Writing featureExtraction,trees.HoeffdingAdaptiveTree,28,25,-1,,-1,clustream,relevance,0.30000000000000004,8.15,77.06\n",
      "\n",
      "['featureExtraction', 'meta.OzaBagAdwin', 12, 2, '-1', '', '-1', 'clustream', 'random', 1.0]\n",
      "Running cmd = EvaluatePrequential -l (BufferLearner -l (meta.OzaBagAdwin) -n 12 -m (functions.AdaGrad) -c featureExtraction -r 1.0 -b random -p -1  -y -1 -q clustream -x 2) -s generators.RandomRBFGenerator -i 50000 -f 1000 -d runs/tuning/20210831/rbf/featureExtraction/metaOzaBagAdwin_12_2_-1__-1_clustream_random_100.csv\n",
      "Ran cmd with result 70.22800000000001\n",
      "Writing featureExtraction,meta.OzaBagAdwin,12,2,-1,,-1,clustream,random,1.0,12.99,70.23\n",
      "\n",
      "['featureExtraction', 'trees.HoeffdingAdaptiveTree', 18, 5, '-1', '', '-1', 'clustream', 'relevance', 0.25]\n",
      "Running cmd = EvaluatePrequential -l (BufferLearner -l (trees.HoeffdingAdaptiveTree) -n 18 -m (functions.AdaGrad) -c featureExtraction -r 0.25 -b relevance -p -1  -y -1 -q clustream -x 5) -s generators.RandomRBFGenerator -i 50000 -f 1000 -d runs/tuning/20210831/rbf/featureExtraction/treesHoeffdingAdaptiveTree_18_5_-1__-1_clustream_relevance_25.csv\n",
      "Ran cmd with result 77.682\n",
      "Writing featureExtraction,trees.HoeffdingAdaptiveTree,18,5,-1,,-1,clustream,relevance,0.25,6.68,77.68\n",
      "\n",
      "['featureExtraction', 'bayes.NaiveBayes', 28, 25, '-1', '', '-1', 'clustree', 'random', 0.35000000000000003]\n",
      "Running cmd = EvaluatePrequential -l (BufferLearner -l (bayes.NaiveBayes) -n 28 -m (functions.AdaGrad) -c featureExtraction -r 0.35000000000000003 -b random -p -1  -y -1 -q clustree -x 25) -s generators.RandomRBFGenerator -i 50000 -f 1000 -d runs/tuning/20210831/rbf/featureExtraction/bayesNaiveBayes_28_25_-1__-1_clustree_random_35.csv\n",
      "Ran cmd with result 70.52199999999999\n",
      "Writing featureExtraction,bayes.NaiveBayes,28,25,-1,,-1,clustree,random,0.35000000000000003,3.42,70.52\n",
      "\n",
      "['featureExtraction', 'meta.AdaptiveRandomForest -s 10 -m 80', 5, 7, '-1', '', '-1', 'clustree', 'relevance', 0.8500000000000001]\n",
      "Running cmd = EvaluatePrequential -l (BufferLearner -l (meta.AdaptiveRandomForest -s 10 -m 80) -n 5 -m (functions.AdaGrad) -c featureExtraction -r 0.8500000000000001 -b relevance -p -1  -y -1 -q clustree -x 7) -s generators.RandomRBFGenerator -i 50000 -f 1000 -d runs/tuning/20210831/rbf/featureExtraction/metaAdaptiveRandomForest-s10-m80_5_7_-1__-1_clustree_relevance_85.csv\n",
      "Ran cmd with result 92.816\n",
      "Writing featureExtraction,meta.AdaptiveRandomForest -s 10 -m 80,5,7,-1,,-1,clustree,relevance,0.8500000000000001,2.07,92.82\n",
      "\n",
      "['featureExtraction', 'bayes.NaiveBayes', 18, 4, '-1', '', '-1', 'clustream', 'random', 0.9]\n",
      "Running cmd = EvaluatePrequential -l (BufferLearner -l (bayes.NaiveBayes) -n 18 -m (functions.AdaGrad) -c featureExtraction -r 0.9 -b random -p -1  -y -1 -q clustream -x 4) -s generators.RandomRBFGenerator -i 50000 -f 1000 -d runs/tuning/20210831/rbf/featureExtraction/bayesNaiveBayes_18_4_-1__-1_clustream_random_90.csv\n",
      "Ran cmd with result 65.3\n",
      "Writing featureExtraction,bayes.NaiveBayes,18,4,-1,,-1,clustream,random,0.9,5.31,65.30\n",
      "\n",
      "['featureExtraction', 'lazy.SAMkNN', 18, 25, '-1', '', '-1', 'clustree', 'relevance', 0.30000000000000004]\n",
      "Running cmd = EvaluatePrequential -l (BufferLearner -l (lazy.SAMkNN) -n 18 -m (functions.AdaGrad) -c featureExtraction -r 0.30000000000000004 -b relevance -p -1  -y -1 -q clustree -x 25) -s generators.RandomRBFGenerator -i 50000 -f 1000 -d runs/tuning/20210831/rbf/featureExtraction/lazySAMkNN_18_25_-1__-1_clustree_relevance_30.csv\n",
      "Ran cmd with result 60.00599999999999\n",
      "Writing featureExtraction,lazy.SAMkNN,18,25,-1,,-1,clustree,relevance,0.30000000000000004,3.16,60.01\n",
      "\n",
      "['featureExtraction', 'meta.AdaptiveRandomForest -s 10 -m 80', 18, 10, '-1', '', '-1', 'clustree', 'random', 0.2]\n",
      "Running cmd = EvaluatePrequential -l (BufferLearner -l (meta.AdaptiveRandomForest -s 10 -m 80) -n 18 -m (functions.AdaGrad) -c featureExtraction -r 0.2 -b random -p -1  -y -1 -q clustree -x 10) -s generators.RandomRBFGenerator -i 50000 -f 1000 -d runs/tuning/20210831/rbf/featureExtraction/metaAdaptiveRandomForest-s10-m80_18_10_-1__-1_clustree_random_20.csv\n",
      "Ran cmd with result 91.846\n",
      "Writing featureExtraction,meta.AdaptiveRandomForest -s 10 -m 80,18,10,-1,,-1,clustree,random,0.2,3.06,91.85\n",
      "\n",
      "['featureExtraction', 'meta.OzaBagAdwin', 8, 3, '-1', '', '-1', 'clustream', 'relevance', 0.7000000000000001]\n",
      "Running cmd = EvaluatePrequential -l (BufferLearner -l (meta.OzaBagAdwin) -n 8 -m (functions.AdaGrad) -c featureExtraction -r 0.7000000000000001 -b relevance -p -1  -y -1 -q clustream -x 3) -s generators.RandomRBFGenerator -i 50000 -f 1000 -d runs/tuning/20210831/rbf/featureExtraction/metaOzaBagAdwin_8_3_-1__-1_clustream_relevance_70.csv\n",
      "Ran cmd with result 81.808\n",
      "Writing featureExtraction,meta.OzaBagAdwin,8,3,-1,,-1,clustream,relevance,0.7000000000000001,8.30,81.81\n",
      "\n",
      "['featureExtraction', 'functions.MajorityClass', 43, 1, '-1', '', '-1', 'clustree', 'relevance', 0.75]\n",
      "Running cmd = EvaluatePrequential -l (BufferLearner -l (functions.MajorityClass) -n 43 -m (functions.AdaGrad) -c featureExtraction -r 0.75 -b relevance -p -1  -y -1 -q clustree -x 1) -s generators.RandomRBFGenerator -i 50000 -f 1000 -d runs/tuning/20210831/rbf/featureExtraction/functionsMajorityClass_43_1_-1__-1_clustree_relevance_75.csv\n",
      "Ran cmd with result 49.632\n",
      "Writing featureExtraction,functions.MajorityClass,43,1,-1,,-1,clustree,relevance,0.75,1.62,49.63\n",
      "\n",
      "Params already ran - ['featureExtraction', 'meta.AdaptiveRandomForest -s 10 -m 80', 5, 7, '-1', '', '-1', 'clustree', 'relevance', 0.8500000000000001]\n",
      "Params already ran - ['featureExtraction', 'meta.AdaptiveRandomForest -s 10 -m 80', 5, 7, '-1', '', '-1', 'clustree', 'relevance', 0.8500000000000001]\n",
      "['featureExtraction', 'functions.MajorityClass', 5, 7, '-1', '', '-1', 'clustree', 'relevance', 0.8500000000000001]\n",
      "Running cmd = EvaluatePrequential -l (BufferLearner -l (functions.MajorityClass) -n 5 -m (functions.AdaGrad) -c featureExtraction -r 0.8500000000000001 -b relevance -p -1  -y -1 -q clustree -x 7) -s generators.RandomRBFGenerator -i 50000 -f 1000 -d runs/tuning/20210831/rbf/featureExtraction/functionsMajorityClass_5_7_-1__-1_clustree_relevance_85.csv\n"
     ]
    },
    {
     "name": "stdout",
     "output_type": "stream",
     "text": [
      "Ran cmd with result 49.632\n",
      "Writing featureExtraction,functions.MajorityClass,5,7,-1,,-1,clustree,relevance,0.8500000000000001,1.62,49.63\n",
      "\n",
      "['featureExtraction', 'bayes.NaiveBayes', 5, 7, '-1', '', '-1', 'clustree', 'relevance', 0.8500000000000001]\n",
      "Running cmd = EvaluatePrequential -l (BufferLearner -l (bayes.NaiveBayes) -n 5 -m (functions.AdaGrad) -c featureExtraction -r 0.8500000000000001 -b relevance -p -1  -y -1 -q clustree -x 7) -s generators.RandomRBFGenerator -i 50000 -f 1000 -d runs/tuning/20210831/rbf/featureExtraction/bayesNaiveBayes_5_7_-1__-1_clustree_relevance_85.csv\n",
      "Ran cmd with result 71.94200000000001\n",
      "Writing featureExtraction,bayes.NaiveBayes,5,7,-1,,-1,clustree,relevance,0.8500000000000001,1.51,71.94\n",
      "\n",
      "['featureExtraction', 'trees.HoeffdingAdaptiveTree', 5, 7, '-1', '', '-1', 'clustree', 'relevance', 0.8500000000000001]\n",
      "Running cmd = EvaluatePrequential -l (BufferLearner -l (trees.HoeffdingAdaptiveTree) -n 5 -m (functions.AdaGrad) -c featureExtraction -r 0.8500000000000001 -b relevance -p -1  -y -1 -q clustree -x 7) -s generators.RandomRBFGenerator -i 50000 -f 1000 -d runs/tuning/20210831/rbf/featureExtraction/treesHoeffdingAdaptiveTree_5_7_-1__-1_clustree_relevance_85.csv\n",
      "Ran cmd with result 80.758\n",
      "Writing featureExtraction,trees.HoeffdingAdaptiveTree,5,7,-1,,-1,clustree,relevance,0.8500000000000001,4.85,80.76\n",
      "\n",
      "['featureExtraction', 'meta.AdaptiveRandomForest -s 10', 5, 7, '-1', '', '-1', 'clustree', 'relevance', 0.8500000000000001]\n",
      "Running cmd = EvaluatePrequential -l (BufferLearner -l (meta.AdaptiveRandomForest -s 10) -n 5 -m (functions.AdaGrad) -c featureExtraction -r 0.8500000000000001 -b relevance -p -1  -y -1 -q clustree -x 7) -s generators.RandomRBFGenerator -i 50000 -f 1000 -d runs/tuning/20210831/rbf/featureExtraction/metaAdaptiveRandomForest-s10_5_7_-1__-1_clustree_relevance_85.csv\n",
      "Ran cmd with result 92.656\n",
      "Writing featureExtraction,meta.AdaptiveRandomForest -s 10,5,7,-1,,-1,clustree,relevance,0.8500000000000001,2.68,92.66\n",
      "\n",
      "['featureExtraction', 'meta.OzaBagAdwin', 5, 7, '-1', '', '-1', 'clustree', 'relevance', 0.8500000000000001]\n",
      "Running cmd = EvaluatePrequential -l (BufferLearner -l (meta.OzaBagAdwin) -n 5 -m (functions.AdaGrad) -c featureExtraction -r 0.8500000000000001 -b relevance -p -1  -y -1 -q clustree -x 7) -s generators.RandomRBFGenerator -i 50000 -f 1000 -d runs/tuning/20210831/rbf/featureExtraction/metaOzaBagAdwin_5_7_-1__-1_clustree_relevance_85.csv\n",
      "Ran cmd with result 85.40800000000002\n",
      "Writing featureExtraction,meta.OzaBagAdwin,5,7,-1,,-1,clustree,relevance,0.8500000000000001,6.47,85.41\n",
      "\n",
      "Params already ran - ['featureExtraction', 'meta.AdaptiveRandomForest -s 10', 5, 7, '-1', '', '-1', 'clustree', 'relevance', 0.8500000000000001]\n",
      "['featureExtraction', 'meta.AdaptiveRandomForest -s 10', 28, 7, '-1', '', '-1', 'clustree', 'relevance', 0.8500000000000001]\n",
      "Running cmd = EvaluatePrequential -l (BufferLearner -l (meta.AdaptiveRandomForest -s 10) -n 28 -m (functions.AdaGrad) -c featureExtraction -r 0.8500000000000001 -b relevance -p -1  -y -1 -q clustree -x 7) -s generators.RandomRBFGenerator -i 50000 -f 1000 -d runs/tuning/20210831/rbf/featureExtraction/metaAdaptiveRandomForest-s10_28_7_-1__-1_clustree_relevance_85.csv\n",
      "Ran cmd with result 92.436\n",
      "Writing featureExtraction,meta.AdaptiveRandomForest -s 10,28,7,-1,,-1,clustree,relevance,0.8500000000000001,2.59,92.44\n",
      "\n",
      "['featureExtraction', 'meta.AdaptiveRandomForest -s 10', 65, 7, '-1', '', '-1', 'clustree', 'relevance', 0.8500000000000001]\n",
      "Running cmd = EvaluatePrequential -l (BufferLearner -l (meta.AdaptiveRandomForest -s 10) -n 65 -m (functions.AdaGrad) -c featureExtraction -r 0.8500000000000001 -b relevance -p -1  -y -1 -q clustree -x 7) -s generators.RandomRBFGenerator -i 50000 -f 1000 -d runs/tuning/20210831/rbf/featureExtraction/metaAdaptiveRandomForest-s10_65_7_-1__-1_clustree_relevance_85.csv\n",
      "Ran cmd with result 91.99400000000001\n",
      "Writing featureExtraction,meta.AdaptiveRandomForest -s 10,65,7,-1,,-1,clustree,relevance,0.8500000000000001,2.87,91.99\n",
      "\n",
      "['featureExtraction', 'meta.AdaptiveRandomForest -s 10', 8, 7, '-1', '', '-1', 'clustree', 'relevance', 0.8500000000000001]\n",
      "Running cmd = EvaluatePrequential -l (BufferLearner -l (meta.AdaptiveRandomForest -s 10) -n 8 -m (functions.AdaGrad) -c featureExtraction -r 0.8500000000000001 -b relevance -p -1  -y -1 -q clustree -x 7) -s generators.RandomRBFGenerator -i 50000 -f 1000 -d runs/tuning/20210831/rbf/featureExtraction/metaAdaptiveRandomForest-s10_8_7_-1__-1_clustree_relevance_85.csv\n",
      "Ran cmd with result 92.686\n",
      "Writing featureExtraction,meta.AdaptiveRandomForest -s 10,8,7,-1,,-1,clustree,relevance,0.8500000000000001,2.21,92.69\n",
      "\n",
      "['featureExtraction', 'meta.AdaptiveRandomForest -s 10', 12, 7, '-1', '', '-1', 'clustree', 'relevance', 0.8500000000000001]\n",
      "Running cmd = EvaluatePrequential -l (BufferLearner -l (meta.AdaptiveRandomForest -s 10) -n 12 -m (functions.AdaGrad) -c featureExtraction -r 0.8500000000000001 -b relevance -p -1  -y -1 -q clustree -x 7) -s generators.RandomRBFGenerator -i 50000 -f 1000 -d runs/tuning/20210831/rbf/featureExtraction/metaAdaptiveRandomForest-s10_12_7_-1__-1_clustree_relevance_85.csv\n",
      "Ran cmd with result 92.306\n",
      "Writing featureExtraction,meta.AdaptiveRandomForest -s 10,12,7,-1,,-1,clustree,relevance,0.8500000000000001,2.71,92.31\n",
      "\n",
      "['featureExtraction', 'meta.AdaptiveRandomForest -s 10', 8, 3, '-1', '', '-1', 'clustree', 'relevance', 0.8500000000000001]\n",
      "Running cmd = EvaluatePrequential -l (BufferLearner -l (meta.AdaptiveRandomForest -s 10) -n 8 -m (functions.AdaGrad) -c featureExtraction -r 0.8500000000000001 -b relevance -p -1  -y -1 -q clustree -x 3) -s generators.RandomRBFGenerator -i 50000 -f 1000 -d runs/tuning/20210831/rbf/featureExtraction/metaAdaptiveRandomForest-s10_8_3_-1__-1_clustree_relevance_85.csv\n",
      "Ran cmd with result 92.686\n",
      "Writing featureExtraction,meta.AdaptiveRandomForest -s 10,8,3,-1,,-1,clustree,relevance,0.8500000000000001,2.21,92.69\n",
      "\n",
      "['featureExtraction', 'meta.AdaptiveRandomForest -s 10', 8, 1, '-1', '', '-1', 'clustree', 'relevance', 0.8500000000000001]\n",
      "Running cmd = EvaluatePrequential -l (BufferLearner -l (meta.AdaptiveRandomForest -s 10) -n 8 -m (functions.AdaGrad) -c featureExtraction -r 0.8500000000000001 -b relevance -p -1  -y -1 -q clustree -x 1) -s generators.RandomRBFGenerator -i 50000 -f 1000 -d runs/tuning/20210831/rbf/featureExtraction/metaAdaptiveRandomForest-s10_8_1_-1__-1_clustree_relevance_85.csv\n",
      "Ran cmd with result 92.686\n",
      "Writing featureExtraction,meta.AdaptiveRandomForest -s 10,8,1,-1,,-1,clustree,relevance,0.8500000000000001,2.21,92.69\n",
      "\n",
      "['featureExtraction', 'meta.AdaptiveRandomForest -s 10', 8, 13, '-1', '', '-1', 'clustree', 'relevance', 0.8500000000000001]\n",
      "Running cmd = EvaluatePrequential -l (BufferLearner -l (meta.AdaptiveRandomForest -s 10) -n 8 -m (functions.AdaGrad) -c featureExtraction -r 0.8500000000000001 -b relevance -p -1  -y -1 -q clustree -x 13) -s generators.RandomRBFGenerator -i 50000 -f 1000 -d runs/tuning/20210831/rbf/featureExtraction/metaAdaptiveRandomForest-s10_8_13_-1__-1_clustree_relevance_85.csv\n",
      "Ran cmd with result 92.686\n",
      "Writing featureExtraction,meta.AdaptiveRandomForest -s 10,8,13,-1,,-1,clustree,relevance,0.8500000000000001,2.21,92.69\n",
      "\n",
      "['featureExtraction', 'meta.AdaptiveRandomForest -s 10', 8, 25, '-1', '', '-1', 'clustree', 'relevance', 0.8500000000000001]\n",
      "Running cmd = EvaluatePrequential -l (BufferLearner -l (meta.AdaptiveRandomForest -s 10) -n 8 -m (functions.AdaGrad) -c featureExtraction -r 0.8500000000000001 -b relevance -p -1  -y -1 -q clustree -x 25) -s generators.RandomRBFGenerator -i 50000 -f 1000 -d runs/tuning/20210831/rbf/featureExtraction/metaAdaptiveRandomForest-s10_8_25_-1__-1_clustree_relevance_85.csv\n",
      "Ran cmd with result 92.686\n",
      "Writing featureExtraction,meta.AdaptiveRandomForest -s 10,8,25,-1,,-1,clustree,relevance,0.8500000000000001,2.21,92.69\n",
      "\n",
      "['featureExtraction', 'meta.AdaptiveRandomForest -s 10', 8, 18, '-1', '', '-1', 'clustree', 'relevance', 0.8500000000000001]\n",
      "Running cmd = EvaluatePrequential -l (BufferLearner -l (meta.AdaptiveRandomForest -s 10) -n 8 -m (functions.AdaGrad) -c featureExtraction -r 0.8500000000000001 -b relevance -p -1  -y -1 -q clustree -x 18) -s generators.RandomRBFGenerator -i 50000 -f 1000 -d runs/tuning/20210831/rbf/featureExtraction/metaAdaptiveRandomForest-s10_8_18_-1__-1_clustree_relevance_85.csv\n"
     ]
    },
    {
     "name": "stdout",
     "output_type": "stream",
     "text": [
      "Ran cmd with result 92.686\n",
      "Writing featureExtraction,meta.AdaptiveRandomForest -s 10,8,18,-1,,-1,clustree,relevance,0.8500000000000001,2.21,92.69\n",
      "\n",
      "Params already ran - ['featureExtraction', 'meta.AdaptiveRandomForest -s 10', 8, 7, '-1', '', '-1', 'clustree', 'relevance', 0.8500000000000001]\n",
      "Params already ran - ['featureExtraction', 'meta.AdaptiveRandomForest -s 10', 8, 7, '-1', '', '-1', 'clustree', 'relevance', 0.8500000000000001]\n",
      "Params already ran - ['featureExtraction', 'meta.AdaptiveRandomForest -s 10', 8, 7, '-1', '', '-1', 'clustree', 'relevance', 0.8500000000000001]\n",
      "Params already ran - ['featureExtraction', 'meta.AdaptiveRandomForest -s 10', 8, 7, '-1', '', '-1', 'clustree', 'relevance', 0.8500000000000001]\n",
      "['featureExtraction', 'meta.AdaptiveRandomForest -s 10', 8, 7, '-1', '', '-1', 'clustream', 'relevance', 0.8500000000000001]\n",
      "Running cmd = EvaluatePrequential -l (BufferLearner -l (meta.AdaptiveRandomForest -s 10) -n 8 -m (functions.AdaGrad) -c featureExtraction -r 0.8500000000000001 -b relevance -p -1  -y -1 -q clustream -x 7) -s generators.RandomRBFGenerator -i 50000 -f 1000 -d runs/tuning/20210831/rbf/featureExtraction/metaAdaptiveRandomForest-s10_8_7_-1__-1_clustream_relevance_85.csv\n",
      "Ran cmd with result 92.28400000000002\n",
      "Writing featureExtraction,meta.AdaptiveRandomForest -s 10,8,7,-1,,-1,clustream,relevance,0.8500000000000001,2.43,92.28\n",
      "\n",
      "['featureExtraction', 'meta.AdaptiveRandomForest -s 10', 8, 7, '-1', '', '-1', 'clustree', 'random', 0.8500000000000001]\n",
      "Running cmd = EvaluatePrequential -l (BufferLearner -l (meta.AdaptiveRandomForest -s 10) -n 8 -m (functions.AdaGrad) -c featureExtraction -r 0.8500000000000001 -b random -p -1  -y -1 -q clustree -x 7) -s generators.RandomRBFGenerator -i 50000 -f 1000 -d runs/tuning/20210831/rbf/featureExtraction/metaAdaptiveRandomForest-s10_8_7_-1__-1_clustree_random_85.csv\n",
      "Ran cmd with result 92.46\n",
      "Writing featureExtraction,meta.AdaptiveRandomForest -s 10,8,7,-1,,-1,clustree,random,0.8500000000000001,2.63,92.46\n",
      "\n",
      "Params already ran - ['featureExtraction', 'meta.AdaptiveRandomForest -s 10', 8, 7, '-1', '', '-1', 'clustree', 'relevance', 0.8500000000000001]\n",
      "['featureExtraction', 'meta.AdaptiveRandomForest -s 10', 8, 7, '-1', '', '-1', 'clustree', 'relevance', 0.4]\n",
      "Running cmd = EvaluatePrequential -l (BufferLearner -l (meta.AdaptiveRandomForest -s 10) -n 8 -m (functions.AdaGrad) -c featureExtraction -r 0.4 -b relevance -p -1  -y -1 -q clustree -x 7) -s generators.RandomRBFGenerator -i 50000 -f 1000 -d runs/tuning/20210831/rbf/featureExtraction/metaAdaptiveRandomForest-s10_8_7_-1__-1_clustree_relevance_40.csv\n",
      "Ran cmd with result 92.25\n",
      "Writing featureExtraction,meta.AdaptiveRandomForest -s 10,8,7,-1,,-1,clustree,relevance,0.4,2.56,92.25\n",
      "\n",
      "['featureExtraction', 'meta.AdaptiveRandomForest -s 10', 8, 7, '-1', '', '-1', 'clustree', 'relevance', 0.6000000000000001]\n",
      "Running cmd = EvaluatePrequential -l (BufferLearner -l (meta.AdaptiveRandomForest -s 10) -n 8 -m (functions.AdaGrad) -c featureExtraction -r 0.6000000000000001 -b relevance -p -1  -y -1 -q clustree -x 7) -s generators.RandomRBFGenerator -i 50000 -f 1000 -d runs/tuning/20210831/rbf/featureExtraction/metaAdaptiveRandomForest-s10_8_7_-1__-1_clustree_relevance_60.csv\n",
      "Ran cmd with result 92.29799999999999\n",
      "Writing featureExtraction,meta.AdaptiveRandomForest -s 10,8,7,-1,,-1,clustree,relevance,0.6000000000000001,2.53,92.30\n",
      "\n",
      "['featureExtraction', 'meta.AdaptiveRandomForest -s 10', 8, 7, '-1', '', '-1', 'clustree', 'relevance', 0.1]\n",
      "Running cmd = EvaluatePrequential -l (BufferLearner -l (meta.AdaptiveRandomForest -s 10) -n 8 -m (functions.AdaGrad) -c featureExtraction -r 0.1 -b relevance -p -1  -y -1 -q clustree -x 7) -s generators.RandomRBFGenerator -i 50000 -f 1000 -d runs/tuning/20210831/rbf/featureExtraction/metaAdaptiveRandomForest-s10_8_7_-1__-1_clustree_relevance_10.csv\n",
      "Ran cmd with result 92.428\n",
      "Writing featureExtraction,meta.AdaptiveRandomForest -s 10,8,7,-1,,-1,clustree,relevance,0.1,2.29,92.43\n",
      "\n",
      "['featureExtraction', 'meta.AdaptiveRandomForest -s 10', 8, 7, '-1', '', '-1', 'clustree', 'relevance', 0.7000000000000001]\n",
      "Running cmd = EvaluatePrequential -l (BufferLearner -l (meta.AdaptiveRandomForest -s 10) -n 8 -m (functions.AdaGrad) -c featureExtraction -r 0.7000000000000001 -b relevance -p -1  -y -1 -q clustree -x 7) -s generators.RandomRBFGenerator -i 50000 -f 1000 -d runs/tuning/20210831/rbf/featureExtraction/metaAdaptiveRandomForest-s10_8_7_-1__-1_clustree_relevance_70.csv\n",
      "Ran cmd with result 92.53000000000002\n",
      "Writing featureExtraction,meta.AdaptiveRandomForest -s 10,8,7,-1,,-1,clustree,relevance,0.7000000000000001,2.30,92.53\n",
      "\n",
      "['featureExtraction', 'meta.AdaptiveRandomForest -s 10', 8, 7, '-1', '', '-1', 'clustree', 'relevance', 0.25]\n",
      "Running cmd = EvaluatePrequential -l (BufferLearner -l (meta.AdaptiveRandomForest -s 10) -n 8 -m (functions.AdaGrad) -c featureExtraction -r 0.25 -b relevance -p -1  -y -1 -q clustree -x 7) -s generators.RandomRBFGenerator -i 50000 -f 1000 -d runs/tuning/20210831/rbf/featureExtraction/metaAdaptiveRandomForest-s10_8_7_-1__-1_clustree_relevance_25.csv\n",
      "Ran cmd with result 92.39399999999999\n",
      "Writing featureExtraction,meta.AdaptiveRandomForest -s 10,8,7,-1,,-1,clustree,relevance,0.25,2.45,92.39\n",
      "\n",
      "Best params for featureExtraction: ['featureExtraction', 'meta.AdaptiveRandomForest -s 10', 8, 7, '-1', '', '-1', 'clustree', 'relevance', 0.8500000000000001]\n",
      "['cep', 'trees.HoeffdingAdaptiveTree', 28, 25, '-1', '', '-1', 'clustream', 'relevance', 0.30000000000000004]\n",
      "Running cmd = EvaluatePrequential -l (BufferLearner -l (trees.HoeffdingAdaptiveTree) -n 28 -m (functions.AdaGrad) -c cep -r 0.30000000000000004 -b relevance -p -1  -y -1 -q clustream -x 25) -s generators.RandomRBFGenerator -i 50000 -f 1000 -d runs/tuning/20210831/rbf/cep/treesHoeffdingAdaptiveTree_28_25_-1__-1_clustream_relevance_30.csv\n",
      "Ran cmd with result 51.684000000000005\n",
      "Writing cep,trees.HoeffdingAdaptiveTree,28,25,-1,,-1,clustream,relevance,0.30000000000000004,1.86,51.68\n",
      "\n",
      "['cep', 'meta.OzaBagAdwin', 12, 2, '-1', '', '-1', 'clustream', 'random', 1.0]\n",
      "Running cmd = EvaluatePrequential -l (BufferLearner -l (meta.OzaBagAdwin) -n 12 -m (functions.AdaGrad) -c cep -r 1.0 -b random -p -1  -y -1 -q clustream -x 2) -s generators.RandomRBFGenerator -i 50000 -f 1000 -d runs/tuning/20210831/rbf/cep/metaOzaBagAdwin_12_2_-1__-1_clustream_random_100.csv\n",
      "Ran cmd with result 73.04\n",
      "Writing cep,meta.OzaBagAdwin,12,2,-1,,-1,clustream,random,1.0,10.32,73.04\n",
      "\n",
      "['cep', 'trees.HoeffdingAdaptiveTree', 18, 5, '-1', '', '-1', 'clustream', 'relevance', 0.25]\n",
      "Running cmd = EvaluatePrequential -l (BufferLearner -l (trees.HoeffdingAdaptiveTree) -n 18 -m (functions.AdaGrad) -c cep -r 0.25 -b relevance -p -1  -y -1 -q clustream -x 5) -s generators.RandomRBFGenerator -i 50000 -f 1000 -d runs/tuning/20210831/rbf/cep/treesHoeffdingAdaptiveTree_18_5_-1__-1_clustream_relevance_25.csv\n",
      "Ran cmd with result 73.892\n",
      "Writing cep,trees.HoeffdingAdaptiveTree,18,5,-1,,-1,clustream,relevance,0.25,6.07,73.89\n",
      "\n",
      "['cep', 'bayes.NaiveBayes', 28, 25, '-1', '', '-1', 'clustree', 'random', 0.35000000000000003]\n",
      "Running cmd = EvaluatePrequential -l (BufferLearner -l (bayes.NaiveBayes) -n 28 -m (functions.AdaGrad) -c cep -r 0.35000000000000003 -b random -p -1  -y -1 -q clustree -x 25) -s generators.RandomRBFGenerator -i 50000 -f 1000 -d runs/tuning/20210831/rbf/cep/bayesNaiveBayes_28_25_-1__-1_clustree_random_35.csv\n",
      "Ran cmd with result 50.141999999999996\n",
      "Writing cep,bayes.NaiveBayes,28,25,-1,,-1,clustree,random,0.35000000000000003,1.62,50.14\n",
      "\n",
      "['cep', 'meta.AdaptiveRandomForest -s 10 -m 80', 5, 7, '-1', '', '-1', 'clustree', 'relevance', 0.8500000000000001]\n",
      "Running cmd = EvaluatePrequential -l (BufferLearner -l (meta.AdaptiveRandomForest -s 10 -m 80) -n 5 -m (functions.AdaGrad) -c cep -r 0.8500000000000001 -b relevance -p -1  -y -1 -q clustree -x 7) -s generators.RandomRBFGenerator -i 50000 -f 1000 -d runs/tuning/20210831/rbf/cep/metaAdaptiveRandomForest-s10-m80_5_7_-1__-1_clustree_relevance_85.csv\n",
      "Ran cmd with result 85.714\n",
      "Writing cep,meta.AdaptiveRandomForest -s 10 -m 80,5,7,-1,,-1,clustree,relevance,0.8500000000000001,4.40,85.71\n",
      "\n",
      "['cep', 'bayes.NaiveBayes', 18, 4, '-1', '', '-1', 'clustream', 'random', 0.9]\n",
      "Running cmd = EvaluatePrequential -l (BufferLearner -l (bayes.NaiveBayes) -n 18 -m (functions.AdaGrad) -c cep -r 0.9 -b random -p -1  -y -1 -q clustream -x 4) -s generators.RandomRBFGenerator -i 50000 -f 1000 -d runs/tuning/20210831/rbf/cep/bayesNaiveBayes_18_4_-1__-1_clustream_random_90.csv\n"
     ]
    },
    {
     "name": "stdout",
     "output_type": "stream",
     "text": [
      "Ran cmd with result 64.16\n",
      "Writing cep,bayes.NaiveBayes,18,4,-1,,-1,clustream,random,0.9,6.80,64.16\n",
      "\n",
      "['cep', 'lazy.SAMkNN', 18, 25, '-1', '', '-1', 'clustree', 'relevance', 0.30000000000000004]\n",
      "Running cmd = EvaluatePrequential -l (BufferLearner -l (lazy.SAMkNN) -n 18 -m (functions.AdaGrad) -c cep -r 0.30000000000000004 -b relevance -p -1  -y -1 -q clustree -x 25) -s generators.RandomRBFGenerator -i 50000 -f 1000 -d runs/tuning/20210831/rbf/cep/lazySAMkNN_18_25_-1__-1_clustree_relevance_30.csv\n",
      "Ran cmd with result 53.06\n",
      "Writing cep,lazy.SAMkNN,18,25,-1,,-1,clustree,relevance,0.30000000000000004,1.98,53.06\n",
      "\n",
      "['cep', 'meta.AdaptiveRandomForest -s 10 -m 80', 18, 10, '-1', '', '-1', 'clustree', 'random', 0.2]\n",
      "Running cmd = EvaluatePrequential -l (BufferLearner -l (meta.AdaptiveRandomForest -s 10 -m 80) -n 18 -m (functions.AdaGrad) -c cep -r 0.2 -b random -p -1  -y -1 -q clustree -x 10) -s generators.RandomRBFGenerator -i 50000 -f 1000 -d runs/tuning/20210831/rbf/cep/metaAdaptiveRandomForest-s10-m80_18_10_-1__-1_clustree_random_20.csv\n",
      "Ran cmd with result 87.98999999999998\n",
      "Writing cep,meta.AdaptiveRandomForest -s 10 -m 80,18,10,-1,,-1,clustree,random,0.2,3.83,87.99\n",
      "\n",
      "['cep', 'meta.OzaBagAdwin', 8, 3, '-1', '', '-1', 'clustream', 'relevance', 0.7000000000000001]\n",
      "Running cmd = EvaluatePrequential -l (BufferLearner -l (meta.OzaBagAdwin) -n 8 -m (functions.AdaGrad) -c cep -r 0.7000000000000001 -b relevance -p -1  -y -1 -q clustream -x 3) -s generators.RandomRBFGenerator -i 50000 -f 1000 -d runs/tuning/20210831/rbf/cep/metaOzaBagAdwin_8_3_-1__-1_clustream_relevance_70.csv\n",
      "Ran cmd with result 75.414\n",
      "Writing cep,meta.OzaBagAdwin,8,3,-1,,-1,clustream,relevance,0.7000000000000001,8.13,75.41\n",
      "\n",
      "['cep', 'functions.MajorityClass', 43, 1, '-1', '', '-1', 'clustree', 'relevance', 0.75]\n",
      "Running cmd = EvaluatePrequential -l (BufferLearner -l (functions.MajorityClass) -n 43 -m (functions.AdaGrad) -c cep -r 0.75 -b relevance -p -1  -y -1 -q clustree -x 1) -s generators.RandomRBFGenerator -i 50000 -f 1000 -d runs/tuning/20210831/rbf/cep/functionsMajorityClass_43_1_-1__-1_clustree_relevance_75.csv\n",
      "Ran cmd with result 49.632\n",
      "Writing cep,functions.MajorityClass,43,1,-1,,-1,clustree,relevance,0.75,1.62,49.63\n",
      "\n",
      "Params already ran - ['cep', 'meta.AdaptiveRandomForest -s 10 -m 80', 18, 10, '-1', '', '-1', 'clustree', 'random', 0.2]\n",
      "Params already ran - ['cep', 'meta.AdaptiveRandomForest -s 10 -m 80', 18, 10, '-1', '', '-1', 'clustree', 'random', 0.2]\n",
      "['cep', 'functions.MajorityClass', 18, 10, '-1', '', '-1', 'clustree', 'random', 0.2]\n",
      "Running cmd = EvaluatePrequential -l (BufferLearner -l (functions.MajorityClass) -n 18 -m (functions.AdaGrad) -c cep -r 0.2 -b random -p -1  -y -1 -q clustree -x 10) -s generators.RandomRBFGenerator -i 50000 -f 1000 -d runs/tuning/20210831/rbf/cep/functionsMajorityClass_18_10_-1__-1_clustree_random_20.csv\n",
      "Ran cmd with result 49.632\n",
      "Writing cep,functions.MajorityClass,18,10,-1,,-1,clustree,random,0.2,1.62,49.63\n",
      "\n",
      "['cep', 'bayes.NaiveBayes', 18, 10, '-1', '', '-1', 'clustree', 'random', 0.2]\n",
      "Running cmd = EvaluatePrequential -l (BufferLearner -l (bayes.NaiveBayes) -n 18 -m (functions.AdaGrad) -c cep -r 0.2 -b random -p -1  -y -1 -q clustree -x 10) -s generators.RandomRBFGenerator -i 50000 -f 1000 -d runs/tuning/20210831/rbf/cep/bayesNaiveBayes_18_10_-1__-1_clustree_random_20.csv\n",
      "Ran cmd with result 67.054\n",
      "Writing cep,bayes.NaiveBayes,18,10,-1,,-1,clustree,random,0.2,3.71,67.05\n",
      "\n",
      "['cep', 'trees.HoeffdingAdaptiveTree', 18, 10, '-1', '', '-1', 'clustree', 'random', 0.2]\n",
      "Running cmd = EvaluatePrequential -l (BufferLearner -l (trees.HoeffdingAdaptiveTree) -n 18 -m (functions.AdaGrad) -c cep -r 0.2 -b random -p -1  -y -1 -q clustree -x 10) -s generators.RandomRBFGenerator -i 50000 -f 1000 -d runs/tuning/20210831/rbf/cep/treesHoeffdingAdaptiveTree_18_10_-1__-1_clustree_random_20.csv\n",
      "Ran cmd with result 71.854\n",
      "Writing cep,trees.HoeffdingAdaptiveTree,18,10,-1,,-1,clustree,random,0.2,8.64,71.85\n",
      "\n",
      "['cep', 'meta.AdaptiveRandomForest -s 10', 18, 10, '-1', '', '-1', 'clustree', 'random', 0.2]\n",
      "Running cmd = EvaluatePrequential -l (BufferLearner -l (meta.AdaptiveRandomForest -s 10) -n 18 -m (functions.AdaGrad) -c cep -r 0.2 -b random -p -1  -y -1 -q clustree -x 10) -s generators.RandomRBFGenerator -i 50000 -f 1000 -d runs/tuning/20210831/rbf/cep/metaAdaptiveRandomForest-s10_18_10_-1__-1_clustree_random_20.csv\n",
      "Ran cmd with result 87.26999999999998\n",
      "Writing cep,meta.AdaptiveRandomForest -s 10,18,10,-1,,-1,clustree,random,0.2,4.03,87.27\n",
      "\n",
      "['cep', 'meta.OzaBagAdwin', 18, 10, '-1', '', '-1', 'clustree', 'random', 0.2]\n",
      "Running cmd = EvaluatePrequential -l (BufferLearner -l (meta.OzaBagAdwin) -n 18 -m (functions.AdaGrad) -c cep -r 0.2 -b random -p -1  -y -1 -q clustree -x 10) -s generators.RandomRBFGenerator -i 50000 -f 1000 -d runs/tuning/20210831/rbf/cep/metaOzaBagAdwin_18_10_-1__-1_clustree_random_20.csv\n",
      "Ran cmd with result 76.996\n",
      "Writing cep,meta.OzaBagAdwin,18,10,-1,,-1,clustree,random,0.2,9.01,77.00\n",
      "\n",
      "['cep', 'meta.AdaptiveRandomForest -s 10', 5, 10, '-1', '', '-1', 'clustree', 'random', 0.2]\n",
      "Running cmd = EvaluatePrequential -l (BufferLearner -l (meta.AdaptiveRandomForest -s 10) -n 5 -m (functions.AdaGrad) -c cep -r 0.2 -b random -p -1  -y -1 -q clustree -x 10) -s generators.RandomRBFGenerator -i 50000 -f 1000 -d runs/tuning/20210831/rbf/cep/metaAdaptiveRandomForest-s10_5_10_-1__-1_clustree_random_20.csv\n",
      "Ran cmd with result 87.87000000000002\n",
      "Writing cep,meta.AdaptiveRandomForest -s 10,5,10,-1,,-1,clustree,random,0.2,3.09,87.87\n",
      "\n",
      "['cep', 'meta.AdaptiveRandomForest -s 10', 28, 10, '-1', '', '-1', 'clustree', 'random', 0.2]\n",
      "Running cmd = EvaluatePrequential -l (BufferLearner -l (meta.AdaptiveRandomForest -s 10) -n 28 -m (functions.AdaGrad) -c cep -r 0.2 -b random -p -1  -y -1 -q clustree -x 10) -s generators.RandomRBFGenerator -i 50000 -f 1000 -d runs/tuning/20210831/rbf/cep/metaAdaptiveRandomForest-s10_28_10_-1__-1_clustree_random_20.csv\n",
      "Ran cmd with result 87.664\n",
      "Writing cep,meta.AdaptiveRandomForest -s 10,28,10,-1,,-1,clustree,random,0.2,4.83,87.66\n",
      "\n",
      "['cep', 'meta.AdaptiveRandomForest -s 10', 65, 10, '-1', '', '-1', 'clustree', 'random', 0.2]\n",
      "Running cmd = EvaluatePrequential -l (BufferLearner -l (meta.AdaptiveRandomForest -s 10) -n 65 -m (functions.AdaGrad) -c cep -r 0.2 -b random -p -1  -y -1 -q clustree -x 10) -s generators.RandomRBFGenerator -i 50000 -f 1000 -d runs/tuning/20210831/rbf/cep/metaAdaptiveRandomForest-s10_65_10_-1__-1_clustree_random_20.csv\n",
      "Ran cmd with result 86.302\n",
      "Writing cep,meta.AdaptiveRandomForest -s 10,65,10,-1,,-1,clustree,random,0.2,5.41,86.30\n",
      "\n",
      "['cep', 'meta.AdaptiveRandomForest -s 10', 8, 10, '-1', '', '-1', 'clustree', 'random', 0.2]\n",
      "Running cmd = EvaluatePrequential -l (BufferLearner -l (meta.AdaptiveRandomForest -s 10) -n 8 -m (functions.AdaGrad) -c cep -r 0.2 -b random -p -1  -y -1 -q clustree -x 10) -s generators.RandomRBFGenerator -i 50000 -f 1000 -d runs/tuning/20210831/rbf/cep/metaAdaptiveRandomForest-s10_8_10_-1__-1_clustree_random_20.csv\n",
      "Ran cmd with result 86.944\n",
      "Writing cep,meta.AdaptiveRandomForest -s 10,8,10,-1,,-1,clustree,random,0.2,3.42,86.94\n",
      "\n",
      "['cep', 'meta.AdaptiveRandomForest -s 10', 12, 10, '-1', '', '-1', 'clustree', 'random', 0.2]\n",
      "Running cmd = EvaluatePrequential -l (BufferLearner -l (meta.AdaptiveRandomForest -s 10) -n 12 -m (functions.AdaGrad) -c cep -r 0.2 -b random -p -1  -y -1 -q clustree -x 10) -s generators.RandomRBFGenerator -i 50000 -f 1000 -d runs/tuning/20210831/rbf/cep/metaAdaptiveRandomForest-s10_12_10_-1__-1_clustree_random_20.csv\n",
      "Ran cmd with result 87.1\n",
      "Writing cep,meta.AdaptiveRandomForest -s 10,12,10,-1,,-1,clustree,random,0.2,3.35,87.10\n",
      "\n",
      "['cep', 'meta.AdaptiveRandomForest -s 10', 5, 3, '-1', '', '-1', 'clustree', 'random', 0.2]\n",
      "Running cmd = EvaluatePrequential -l (BufferLearner -l (meta.AdaptiveRandomForest -s 10) -n 5 -m (functions.AdaGrad) -c cep -r 0.2 -b random -p -1  -y -1 -q clustree -x 3) -s generators.RandomRBFGenerator -i 50000 -f 1000 -d runs/tuning/20210831/rbf/cep/metaAdaptiveRandomForest-s10_5_3_-1__-1_clustree_random_20.csv\n",
      "Ran cmd with result 91.116\n",
      "Writing cep,meta.AdaptiveRandomForest -s 10,5,3,-1,,-1,clustree,random,0.2,2.69,91.12\n",
      "\n",
      "['cep', 'meta.AdaptiveRandomForest -s 10', 5, 1, '-1', '', '-1', 'clustree', 'random', 0.2]\n",
      "Running cmd = EvaluatePrequential -l (BufferLearner -l (meta.AdaptiveRandomForest -s 10) -n 5 -m (functions.AdaGrad) -c cep -r 0.2 -b random -p -1  -y -1 -q clustree -x 1) -s generators.RandomRBFGenerator -i 50000 -f 1000 -d runs/tuning/20210831/rbf/cep/metaAdaptiveRandomForest-s10_5_1_-1__-1_clustree_random_20.csv\n"
     ]
    },
    {
     "name": "stdout",
     "output_type": "stream",
     "text": [
      "Ran cmd with result 92.566\n",
      "Writing cep,meta.AdaptiveRandomForest -s 10,5,1,-1,,-1,clustree,random,0.2,2.44,92.57\n",
      "\n",
      "['cep', 'meta.AdaptiveRandomForest -s 10', 5, 13, '-1', '', '-1', 'clustree', 'random', 0.2]\n",
      "Running cmd = EvaluatePrequential -l (BufferLearner -l (meta.AdaptiveRandomForest -s 10) -n 5 -m (functions.AdaGrad) -c cep -r 0.2 -b random -p -1  -y -1 -q clustree -x 13) -s generators.RandomRBFGenerator -i 50000 -f 1000 -d runs/tuning/20210831/rbf/cep/metaAdaptiveRandomForest-s10_5_13_-1__-1_clustree_random_20.csv\n",
      "Ran cmd with result 87.678\n",
      "Writing cep,meta.AdaptiveRandomForest -s 10,5,13,-1,,-1,clustree,random,0.2,3.32,87.68\n",
      "\n",
      "['cep', 'meta.AdaptiveRandomForest -s 10', 5, 25, '-1', '', '-1', 'clustree', 'random', 0.2]\n",
      "Running cmd = EvaluatePrequential -l (BufferLearner -l (meta.AdaptiveRandomForest -s 10) -n 5 -m (functions.AdaGrad) -c cep -r 0.2 -b random -p -1  -y -1 -q clustree -x 25) -s generators.RandomRBFGenerator -i 50000 -f 1000 -d runs/tuning/20210831/rbf/cep/metaAdaptiveRandomForest-s10_5_25_-1__-1_clustree_random_20.csv\n",
      "Ran cmd with result 85.14399999999999\n",
      "Writing cep,meta.AdaptiveRandomForest -s 10,5,25,-1,,-1,clustree,random,0.2,2.66,85.14\n",
      "\n",
      "['cep', 'meta.AdaptiveRandomForest -s 10', 5, 18, '-1', '', '-1', 'clustree', 'random', 0.2]\n",
      "Running cmd = EvaluatePrequential -l (BufferLearner -l (meta.AdaptiveRandomForest -s 10) -n 5 -m (functions.AdaGrad) -c cep -r 0.2 -b random -p -1  -y -1 -q clustree -x 18) -s generators.RandomRBFGenerator -i 50000 -f 1000 -d runs/tuning/20210831/rbf/cep/metaAdaptiveRandomForest-s10_5_18_-1__-1_clustree_random_20.csv\n",
      "Ran cmd with result 86.74999999999999\n",
      "Writing cep,meta.AdaptiveRandomForest -s 10,5,18,-1,,-1,clustree,random,0.2,3.27,86.75\n",
      "\n",
      "Params already ran - ['cep', 'meta.AdaptiveRandomForest -s 10', 5, 1, '-1', '', '-1', 'clustree', 'random', 0.2]\n",
      "Params already ran - ['cep', 'meta.AdaptiveRandomForest -s 10', 5, 1, '-1', '', '-1', 'clustree', 'random', 0.2]\n",
      "Params already ran - ['cep', 'meta.AdaptiveRandomForest -s 10', 5, 1, '-1', '', '-1', 'clustree', 'random', 0.2]\n",
      "Params already ran - ['cep', 'meta.AdaptiveRandomForest -s 10', 5, 1, '-1', '', '-1', 'clustree', 'random', 0.2]\n",
      "['cep', 'meta.AdaptiveRandomForest -s 10', 5, 1, '-1', '', '-1', 'clustream', 'random', 0.2]\n",
      "Running cmd = EvaluatePrequential -l (BufferLearner -l (meta.AdaptiveRandomForest -s 10) -n 5 -m (functions.AdaGrad) -c cep -r 0.2 -b random -p -1  -y -1 -q clustream -x 1) -s generators.RandomRBFGenerator -i 50000 -f 1000 -d runs/tuning/20210831/rbf/cep/metaAdaptiveRandomForest-s10_5_1_-1__-1_clustream_random_20.csv\n",
      "Ran cmd with result 92.566\n",
      "Writing cep,meta.AdaptiveRandomForest -s 10,5,1,-1,,-1,clustream,random,0.2,2.44,92.57\n",
      "\n",
      "Params already ran - ['cep', 'meta.AdaptiveRandomForest -s 10', 5, 1, '-1', '', '-1', 'clustree', 'random', 0.2]\n",
      "['cep', 'meta.AdaptiveRandomForest -s 10', 5, 1, '-1', '', '-1', 'clustree', 'relevance', 0.2]\n",
      "Running cmd = EvaluatePrequential -l (BufferLearner -l (meta.AdaptiveRandomForest -s 10) -n 5 -m (functions.AdaGrad) -c cep -r 0.2 -b relevance -p -1  -y -1 -q clustree -x 1) -s generators.RandomRBFGenerator -i 50000 -f 1000 -d runs/tuning/20210831/rbf/cep/metaAdaptiveRandomForest-s10_5_1_-1__-1_clustree_relevance_20.csv\n",
      "Ran cmd with result 92.566\n",
      "Writing cep,meta.AdaptiveRandomForest -s 10,5,1,-1,,-1,clustree,relevance,0.2,2.44,92.57\n",
      "\n",
      "['cep', 'meta.AdaptiveRandomForest -s 10', 5, 1, '-1', '', '-1', 'clustree', 'random', 0.4]\n",
      "Running cmd = EvaluatePrequential -l (BufferLearner -l (meta.AdaptiveRandomForest -s 10) -n 5 -m (functions.AdaGrad) -c cep -r 0.4 -b random -p -1  -y -1 -q clustree -x 1) -s generators.RandomRBFGenerator -i 50000 -f 1000 -d runs/tuning/20210831/rbf/cep/metaAdaptiveRandomForest-s10_5_1_-1__-1_clustree_random_40.csv\n",
      "Ran cmd with result 92.566\n",
      "Writing cep,meta.AdaptiveRandomForest -s 10,5,1,-1,,-1,clustree,random,0.4,2.44,92.57\n",
      "\n",
      "['cep', 'meta.AdaptiveRandomForest -s 10', 5, 1, '-1', '', '-1', 'clustree', 'random', 0.6000000000000001]\n",
      "Running cmd = EvaluatePrequential -l (BufferLearner -l (meta.AdaptiveRandomForest -s 10) -n 5 -m (functions.AdaGrad) -c cep -r 0.6000000000000001 -b random -p -1  -y -1 -q clustree -x 1) -s generators.RandomRBFGenerator -i 50000 -f 1000 -d runs/tuning/20210831/rbf/cep/metaAdaptiveRandomForest-s10_5_1_-1__-1_clustree_random_60.csv\n",
      "Ran cmd with result 92.566\n",
      "Writing cep,meta.AdaptiveRandomForest -s 10,5,1,-1,,-1,clustree,random,0.6000000000000001,2.44,92.57\n",
      "\n",
      "['cep', 'meta.AdaptiveRandomForest -s 10', 5, 1, '-1', '', '-1', 'clustree', 'random', 0.1]\n",
      "Running cmd = EvaluatePrequential -l (BufferLearner -l (meta.AdaptiveRandomForest -s 10) -n 5 -m (functions.AdaGrad) -c cep -r 0.1 -b random -p -1  -y -1 -q clustree -x 1) -s generators.RandomRBFGenerator -i 50000 -f 1000 -d runs/tuning/20210831/rbf/cep/metaAdaptiveRandomForest-s10_5_1_-1__-1_clustree_random_10.csv\n",
      "Ran cmd with result 92.566\n",
      "Writing cep,meta.AdaptiveRandomForest -s 10,5,1,-1,,-1,clustree,random,0.1,2.44,92.57\n",
      "\n",
      "['cep', 'meta.AdaptiveRandomForest -s 10', 5, 1, '-1', '', '-1', 'clustree', 'random', 0.7000000000000001]\n",
      "Running cmd = EvaluatePrequential -l (BufferLearner -l (meta.AdaptiveRandomForest -s 10) -n 5 -m (functions.AdaGrad) -c cep -r 0.7000000000000001 -b random -p -1  -y -1 -q clustree -x 1) -s generators.RandomRBFGenerator -i 50000 -f 1000 -d runs/tuning/20210831/rbf/cep/metaAdaptiveRandomForest-s10_5_1_-1__-1_clustree_random_70.csv\n",
      "Ran cmd with result 92.566\n",
      "Writing cep,meta.AdaptiveRandomForest -s 10,5,1,-1,,-1,clustree,random,0.7000000000000001,2.44,92.57\n",
      "\n",
      "['cep', 'meta.AdaptiveRandomForest -s 10', 5, 1, '-1', '', '-1', 'clustree', 'random', 0.25]\n",
      "Running cmd = EvaluatePrequential -l (BufferLearner -l (meta.AdaptiveRandomForest -s 10) -n 5 -m (functions.AdaGrad) -c cep -r 0.25 -b random -p -1  -y -1 -q clustree -x 1) -s generators.RandomRBFGenerator -i 50000 -f 1000 -d runs/tuning/20210831/rbf/cep/metaAdaptiveRandomForest-s10_5_1_-1__-1_clustree_random_25.csv\n",
      "Ran cmd with result 92.566\n",
      "Writing cep,meta.AdaptiveRandomForest -s 10,5,1,-1,,-1,clustree,random,0.25,2.44,92.57\n",
      "\n",
      "Best params for cep: ['cep', 'meta.AdaptiveRandomForest -s 10', 5, 1, '-1', '', '-1', 'clustree', 'random', 0.2]\n"
     ]
    }
   ],
   "source": [
    "runner = ExperimentRunner('rbf')\n",
    "runner.run()"
   ]
  },
  {
   "cell_type": "code",
   "execution_count": 92,
   "metadata": {},
   "outputs": [],
   "source": [
    "file =  r'C:\\Users\\kosma\\Desktop\\MAGISTER\\FeatExtream\\result_sup_slim.arff'\n",
    "task = 'EvaluatePrequentialRegression'\n",
    "learner = 'BufferLearner'\n",
    "arf_k = 14\n",
    "# buffer_learner = f'(meta.AdaptiveRandomForestRegressor -l (ARFFIMTDD -k {arf_k} -s VarianceReductionSplitCriterion -g 50 -c 0.01) -x (ADWINChangeDetector -a 0.001) -p (ADWINChangeDetector -a 0.01))'\n",
    "\n",
    "relevance_learner = '(meta.AdaptiveRandomForestRegressor -x (ADWINChangeDetector -a 0.001) -p (ADWINChangeDetector -a 0.01))'\n",
    "buffer_learner = f'(meta.AdaptiveRandomForestRegressor -l (ARFFIMTDD -k {arf_k} -s VarianceReductionSplitCriterion -g 50 -c 0.01) -m 80 -x (ADWINChangeDetector -a 0.001) -p (ADWINChangeDetector -a 0.01))'\n",
    "stream = f'(ArffFileStream -f {file})'\n",
    "\n",
    "id_index = 15\n",
    "\n",
    "i = 32000\n",
    "f = 1000\n",
    "q = 1000\n",
    "def generate_command(n, extractor, partition_id, time_ids, cluster_num, buffer_ids, cluster_type='clustree', buffer_type = 'random', r = 1, target_dir = ''):\n",
    "    pathlib.Path(f'runs/tuning/{target_dir}').mkdir(parents=True, exist_ok=True)\n",
    "    \n",
    "    target_file = f'runs/tuning/{target_dir}vavel_slim_{extractor}_{n}_{cluster_num}_{partition_id}_{time_ids}_{buffer_ids}_{cluster_type}_{buffer_type}_{int(r*100)}.csv'\n",
    "    start_cmd = f'{task} -l ({learner} -l {buffer_learner} -n {n} -m {relevance_learner}'\n",
    "    end_cmd = f') -s {stream} -i {i} -f {f} -q {q} -d {target_file}'\n",
    "    cmd = f'{start_cmd} -c {extractor} -r {r} -b {buffer_type} -p {partition_id} -t {time_ids} -y {buffer_ids} -q {cluster_type} -x {cluster_num}{end_cmd}'\n",
    "    cmd = cmd.replace(\"\\\\\",\"/\")\n",
    "    return cmd"
   ]
  },
  {
   "cell_type": "code",
   "execution_count": 93,
   "metadata": {},
   "outputs": [],
   "source": [
    "buffer_sizes = [1,5,10,25,50,100]\n",
    "cluster_num = [2,3,4,5,8,25]\n",
    "extractor = ['naive','cluster','featureExtraction', 'cep']\n",
    "vavel_slim_partition_id = [13, 14]\n",
    "time_ids = '0,5,7,9'\n",
    "buffer_ids = ['-1', '4,8', '4,8,12', '1,2,3,4,6,8,11,12']\n",
    "cluster_types = ['clustree', 'clustream']\n",
    "\n",
    "buffer_types = ['random', 'relevance']\n",
    "rs = [0.1, 0.25, 0.5]"
   ]
  },
  {
   "cell_type": "code",
   "execution_count": 94,
   "metadata": {},
   "outputs": [],
   "source": [
    "def run_command(cmd, file_suffix):\n",
    "    file_contents = f'@echo off\\n\\\n",
    "    \\n\\\n",
    "    set BASEDIR=%~dp0\\..\\n\\\n",
    "    set MEMORY=6g\\n\\\n",
    "    \\n\\\n",
    "    java -Xmx%MEMORY% -cp \"%BASEDIR%/lib/*\" -javaagent:\"%BASEDIR%/lib/sizeofag-1.0.4.jar\" ^\\n\\\n",
    "    moa.DoTask ^\\n\\\n",
    "    \"{cmd} \"'\n",
    "    filename = r'..\\moa-release-2020.07.1\\bin\\moa_test_run_' + file_suffix + '.bat'\n",
    "    with open(filename, 'w') as file:\n",
    "        file.write(file_contents)\n",
    "    out = subprocess.Popen(filename)\n",
    "    return out"
   ]
  },
  {
   "cell_type": "code",
   "execution_count": 95,
   "metadata": {},
   "outputs": [],
   "source": [
    "outs = []\n",
    "max_together = 2"
   ]
  },
  {
   "cell_type": "code",
   "execution_count": 20,
   "metadata": {},
   "outputs": [
    {
     "name": "stdout",
     "output_type": "stream",
     "text": [
      "Running with n = 1\n",
      "Running cmd = EvaluatePrequentialRegression -l (BufferLearner -l (meta.AdaptiveRandomForestRegressor -l (ARFFIMTDD -k 14 -s VarianceReductionSplitCriterion -g 50 -c 0.01) -m 80 -x (ADWINChangeDetector -a 0.001) -p (ADWINChangeDetector -a 0.01)) -n 1 -m (meta.AdaptiveRandomForestRegressor -x (ADWINChangeDetector -a 0.001) -p (ADWINChangeDetector -a 0.01)) -c cluster -r 1 -b random -p 14 -t 0,5,7,9 -y -1 -q clustree -x 8) -s (ArffFileStream -f C:/Users/kosma/Desktop/MAGISTER/FeatExtream/result_sup_slim.arff) -i 32000 -f 1000 -q 1000 -d runs/tuning/20210829/cluster/n/vavel_slim_cluster_1_8_14_0,5,7,9_-1_clustree_random_100.csv\n",
      "Running with n = 5\n",
      "Running cmd = EvaluatePrequentialRegression -l (BufferLearner -l (meta.AdaptiveRandomForestRegressor -l (ARFFIMTDD -k 14 -s VarianceReductionSplitCriterion -g 50 -c 0.01) -m 80 -x (ADWINChangeDetector -a 0.001) -p (ADWINChangeDetector -a 0.01)) -n 5 -m (meta.AdaptiveRandomForestRegressor -x (ADWINChangeDetector -a 0.001) -p (ADWINChangeDetector -a 0.01)) -c cluster -r 1 -b random -p 14 -t 0,5,7,9 -y -1 -q clustree -x 8) -s (ArffFileStream -f C:/Users/kosma/Desktop/MAGISTER/FeatExtream/result_sup_slim.arff) -i 32000 -f 1000 -q 1000 -d runs/tuning/20210829/cluster/n/vavel_slim_cluster_5_8_14_0,5,7,9_-1_clustree_random_100.csv\n",
      "Running with n = 10\n",
      "Running cmd = EvaluatePrequentialRegression -l (BufferLearner -l (meta.AdaptiveRandomForestRegressor -l (ARFFIMTDD -k 14 -s VarianceReductionSplitCriterion -g 50 -c 0.01) -m 80 -x (ADWINChangeDetector -a 0.001) -p (ADWINChangeDetector -a 0.01)) -n 10 -m (meta.AdaptiveRandomForestRegressor -x (ADWINChangeDetector -a 0.001) -p (ADWINChangeDetector -a 0.01)) -c cluster -r 1 -b random -p 14 -t 0,5,7,9 -y -1 -q clustree -x 8) -s (ArffFileStream -f C:/Users/kosma/Desktop/MAGISTER/FeatExtream/result_sup_slim.arff) -i 32000 -f 1000 -q 1000 -d runs/tuning/20210829/cluster/n/vavel_slim_cluster_10_8_14_0,5,7,9_-1_clustree_random_100.csv\n",
      "Running with n = 25\n",
      "Running cmd = EvaluatePrequentialRegression -l (BufferLearner -l (meta.AdaptiveRandomForestRegressor -l (ARFFIMTDD -k 14 -s VarianceReductionSplitCriterion -g 50 -c 0.01) -m 80 -x (ADWINChangeDetector -a 0.001) -p (ADWINChangeDetector -a 0.01)) -n 25 -m (meta.AdaptiveRandomForestRegressor -x (ADWINChangeDetector -a 0.001) -p (ADWINChangeDetector -a 0.01)) -c cluster -r 1 -b random -p 14 -t 0,5,7,9 -y -1 -q clustree -x 8) -s (ArffFileStream -f C:/Users/kosma/Desktop/MAGISTER/FeatExtream/result_sup_slim.arff) -i 32000 -f 1000 -q 1000 -d runs/tuning/20210829/cluster/n/vavel_slim_cluster_25_8_14_0,5,7,9_-1_clustree_random_100.csv\n",
      "Running with n = 50\n",
      "Running cmd = EvaluatePrequentialRegression -l (BufferLearner -l (meta.AdaptiveRandomForestRegressor -l (ARFFIMTDD -k 14 -s VarianceReductionSplitCriterion -g 50 -c 0.01) -m 80 -x (ADWINChangeDetector -a 0.001) -p (ADWINChangeDetector -a 0.01)) -n 50 -m (meta.AdaptiveRandomForestRegressor -x (ADWINChangeDetector -a 0.001) -p (ADWINChangeDetector -a 0.01)) -c cluster -r 1 -b random -p 14 -t 0,5,7,9 -y -1 -q clustree -x 8) -s (ArffFileStream -f C:/Users/kosma/Desktop/MAGISTER/FeatExtream/result_sup_slim.arff) -i 32000 -f 1000 -q 1000 -d runs/tuning/20210829/cluster/n/vavel_slim_cluster_50_8_14_0,5,7,9_-1_clustree_random_100.csv\n",
      "Running with n = 100\n",
      "Running cmd = EvaluatePrequentialRegression -l (BufferLearner -l (meta.AdaptiveRandomForestRegressor -l (ARFFIMTDD -k 14 -s VarianceReductionSplitCriterion -g 50 -c 0.01) -m 80 -x (ADWINChangeDetector -a 0.001) -p (ADWINChangeDetector -a 0.01)) -n 100 -m (meta.AdaptiveRandomForestRegressor -x (ADWINChangeDetector -a 0.001) -p (ADWINChangeDetector -a 0.01)) -c cluster -r 1 -b random -p 14 -t 0,5,7,9 -y -1 -q clustree -x 8) -s (ArffFileStream -f C:/Users/kosma/Desktop/MAGISTER/FeatExtream/result_sup_slim.arff) -i 32000 -f 1000 -q 1000 -d runs/tuning/20210829/cluster/n/vavel_slim_cluster_100_8_14_0,5,7,9_-1_clustree_random_100.csv\n"
     ]
    }
   ],
   "source": [
    "outs = []\n",
    "for n in buffer_sizes:\n",
    "    cmd = generate_command(n, 'cluster', 14, time_ids, 8, '-1', target_dir = '20210829/cluster/n/')\n",
    "    print(f\"Running with n = {n}\")\n",
    "    print(f\"Running cmd = {cmd}\")\n",
    "    out = run_command(cmd,f'n{n}')\n",
    "    outs.append(out)\n",
    "\n",
    "    if len(outs) >= max_together:\n",
    "        outs[len(outs) - max_together].communicate()"
   ]
  },
  {
   "cell_type": "code",
   "execution_count": 47,
   "metadata": {},
   "outputs": [
    {
     "name": "stdout",
     "output_type": "stream",
     "text": [
      "Running with n = 1\n",
      "Running with n = 3\n",
      "Running with n = 5\n",
      "Running with n = 10\n"
     ]
    }
   ],
   "source": [
    "for n in [1,3,5,10]:\n",
    "    cmd = generate_command(n, 'naive', 14, time_ids, 25, '4,8,12', target_dir = '20210613/naive/n/')\n",
    "    print(f\"Running with n = {n}\")\n",
    "    out = run_command(cmd,f'naive_n{n}')\n",
    "    outs.append(out)\n",
    "\n",
    "    if len(outs) >= max_together:\n",
    "        outs[len(outs) - max_together].communicate()"
   ]
  },
  {
   "cell_type": "code",
   "execution_count": 48,
   "metadata": {},
   "outputs": [
    {
     "name": "stdout",
     "output_type": "stream",
     "text": [
      "Running with n = 5\n",
      "Running with n = 10\n",
      "Running with n = 25\n",
      "Running with n = 50\n",
      "Running with n = 100\n"
     ]
    }
   ],
   "source": [
    "for n in buffer_sizes[1:]:\n",
    "    cmd = generate_command(n, 'cep', 14, time_ids, 6, '-1', target_dir = '20210613/cep/n/')\n",
    "    print(f\"Running with n = {n}\")\n",
    "    out = run_command(cmd,f'cep_n{n}')\n",
    "    outs.append(out)\n",
    "\n",
    "    if len(outs) >= max_together:\n",
    "        outs[len(outs) - max_together].communicate()"
   ]
  },
  {
   "cell_type": "code",
   "execution_count": 49,
   "metadata": {},
   "outputs": [
    {
     "name": "stdout",
     "output_type": "stream",
     "text": [
      "Running with n = 1\n",
      "Running with n = 3\n",
      "Running with n = 5\n",
      "Running with n = 10\n",
      "Running with n = 25\n"
     ]
    }
   ],
   "source": [
    "for n in [1,3,5,10,25]:\n",
    "    cmd = generate_command(n, 'featureExtraction', 14, time_ids, 25, '-1', target_dir = '20210613/extract/n/')\n",
    "    print(f\"Running with n = {n}\")\n",
    "    out = run_command(cmd,f'extract_n{n}')\n",
    "    outs.append(out)\n",
    "\n",
    "    if len(outs) >= max_together:\n",
    "        outs[len(outs) - max_together].communicate()"
   ]
  },
  {
   "cell_type": "code",
   "execution_count": null,
   "metadata": {},
   "outputs": [],
   "source": [
    "for n in [5,10,25]:\n",
    "    cmd = generate_command(n, 'featureExtraction', 14, time_ids, 25, '-1', target_dir = '20210613/extract/n/')\n",
    "    print(f\"Running with n = {n}\")\n",
    "    out = run_command(cmd,f'extract_n{n}')\n",
    "    outs.append(out)\n",
    "\n",
    "    if len(outs) >= max_together:\n",
    "        outs[len(outs) - max_together].communicate()"
   ]
  },
  {
   "cell_type": "code",
   "execution_count": 50,
   "metadata": {},
   "outputs": [
    {
     "name": "stdout",
     "output_type": "stream",
     "text": [
      "Running with c = 2\n",
      "Running with c = 3\n",
      "Running with c = 4\n",
      "Running with c = 5\n",
      "Running with c = 25\n"
     ]
    }
   ],
   "source": [
    "for c in cluster_num:\n",
    "    if c != 8:\n",
    "        cmd = generate_command(25, 'cluster', 14, time_ids, c, '-1', target_dir = '20210613/cluster/c/')\n",
    "        print(f\"Running with c = {c}\")\n",
    "        out = run_command(cmd,f'c{c}')\n",
    "        outs.append(out)\n",
    "\n",
    "        if len(outs) >= max_together:\n",
    "            outs[len(outs) - max_together].communicate()"
   ]
  },
  {
   "cell_type": "code",
   "execution_count": 53,
   "metadata": {},
   "outputs": [
    {
     "name": "stdout",
     "output_type": "stream",
     "text": [
      "Running with c = 10\n",
      "Running with c = 15\n"
     ]
    }
   ],
   "source": [
    "for c in [10,15]:\n",
    "    if c != 8:\n",
    "        cmd = generate_command(25, 'cluster', 14, time_ids, c, '-1', target_dir = '20210613/cluster/c/')\n",
    "        print(f\"Running with c = {c}\")\n",
    "        out = run_command(cmd,f'c{c}')\n",
    "        outs.append(out)\n",
    "\n",
    "        if len(outs) >= max_together:\n",
    "            outs[len(outs) - max_together].communicate()"
   ]
  },
  {
   "cell_type": "code",
   "execution_count": 52,
   "metadata": {},
   "outputs": [
    {
     "name": "stdout",
     "output_type": "stream",
     "text": [
      "Running with c = 3\n",
      "Running with c = 5\n",
      "Running with c = 10\n",
      "Running with c = 15\n",
      "Running with c = 25\n"
     ]
    }
   ],
   "source": [
    "clustream_num = [3,5,8,10,15,25]\n",
    "for c in clustream_num:\n",
    "    if c != 8:\n",
    "        cmd = generate_command(25, 'cluster', 14, time_ids, c, '-1', 'clustream', target_dir = '20210613/cluster/c/')\n",
    "        print(f\"Running with c = {c}\")\n",
    "        out = run_command(cmd,f'c{c}')\n",
    "        outs.append(out)\n",
    "\n",
    "        if len(outs) >= max_together:\n",
    "            outs[len(outs) - max_together].communicate()"
   ]
  },
  {
   "cell_type": "code",
   "execution_count": 35,
   "metadata": {},
   "outputs": [],
   "source": [
    "for c in [10,15]:\n",
    "    cmd = generate_command(100, 'cluster', 14, time_ids, c, '-1')\n",
    "    run_command(cmd,f'c{c}')"
   ]
  },
  {
   "cell_type": "code",
   "execution_count": 38,
   "metadata": {},
   "outputs": [],
   "source": [
    "clustream_num = [3,5,8,10,15,25]"
   ]
  },
  {
   "cell_type": "code",
   "execution_count": 39,
   "metadata": {},
   "outputs": [],
   "source": [
    "for c in clustream_num[:2]:\n",
    "    cmd = generate_command(100, 'cluster', 14, time_ids, c, '-1', 'clustream')\n",
    "    run_command(cmd,f'c2{c}')"
   ]
  },
  {
   "cell_type": "code",
   "execution_count": 40,
   "metadata": {},
   "outputs": [],
   "source": [
    "for c in clustream_num[2:4]:\n",
    "    cmd = generate_command(100, 'cluster', 14, time_ids, c, '-1', 'clustream')\n",
    "    run_command(cmd,f'c2{c}')"
   ]
  },
  {
   "cell_type": "code",
   "execution_count": 41,
   "metadata": {},
   "outputs": [],
   "source": [
    "for c in clustream_num[4:]:\n",
    "    cmd = generate_command(100, 'cluster', 14, time_ids, c, '-1', 'clustream')\n",
    "    run_command(cmd,f'c2{c}')"
   ]
  },
  {
   "cell_type": "code",
   "execution_count": 7,
   "metadata": {},
   "outputs": [],
   "source": [
    "max_together = 2"
   ]
  },
  {
   "cell_type": "code",
   "execution_count": 6,
   "metadata": {},
   "outputs": [
    {
     "data": {
      "text/plain": [
       "['-1', '4,8', '4,8,12', '1,2,3,4,6,8,11,12']"
      ]
     },
     "execution_count": 6,
     "metadata": {},
     "output_type": "execute_result"
    }
   ],
   "source": [
    "buffer_ids"
   ]
  },
  {
   "cell_type": "code",
   "execution_count": 7,
   "metadata": {},
   "outputs": [
    {
     "name": "stdout",
     "output_type": "stream",
     "text": [
      "Running with b = -1\n",
      "Running with b = 4,8\n",
      "Running with b = 4,8,12\n",
      "Running with b = 1,2,3,4,6,8,11,12\n"
     ]
    }
   ],
   "source": [
    "for b in buffer_ids:\n",
    "    cmd = generate_command(100, 'cluster', 14, time_ids, 25, b)\n",
    "    print(f\"Running with b = {b}\")\n",
    "    out = run_command(cmd,f'b{b.replace(\",\",\"-\")}')\n",
    "    outs.append(out)\n",
    "\n",
    "    if len(outs) >= max_together:\n",
    "        outs[len(outs) - max_together].communicate()"
   ]
  },
  {
   "cell_type": "code",
   "execution_count": 14,
   "metadata": {},
   "outputs": [
    {
     "name": "stdout",
     "output_type": "stream",
     "text": [
      "Running with n = 1\n",
      "Running with n = 3\n",
      "Running with n = 5\n",
      "Running with n = 10\n"
     ]
    }
   ],
   "source": []
  },
  {
   "cell_type": "code",
   "execution_count": 13,
   "metadata": {},
   "outputs": [
    {
     "name": "stdout",
     "output_type": "stream",
     "text": [
      "Running with n = 5\n",
      "Running with n = 10\n",
      "Running with n = 25\n",
      "Running with n = 50\n",
      "Running with n = 100\n"
     ]
    }
   ],
   "source": []
  },
  {
   "cell_type": "code",
   "execution_count": 12,
   "metadata": {},
   "outputs": [
    {
     "name": "stdout",
     "output_type": "stream",
     "text": [
      "Running with n = 1\n",
      "Running with n = 3\n",
      "Running with n = 5\n",
      "Running with n = 10\n",
      "Running with n = 25\n"
     ]
    }
   ],
   "source": []
  },
  {
   "cell_type": "code",
   "execution_count": 16,
   "metadata": {},
   "outputs": [
    {
     "name": "stdout",
     "output_type": "stream",
     "text": [
      "Running with c = 3\n",
      "Running with c = 4\n",
      "Running with c = 8\n",
      "Running with c = 10\n"
     ]
    }
   ],
   "source": [
    "for c in [3,4,8,10]:\n",
    "    cmd = generate_command(25, 'cep', 14, time_ids, c, '-1')\n",
    "    print(f\"Running with c = {c}\")\n",
    "    out = run_command(cmd,f'cep_c{c}')\n",
    "    outs.append(out)\n",
    "\n",
    "    if len(outs) >= max_together:\n",
    "        outs[len(outs) - max_together].communicate()"
   ]
  },
  {
   "cell_type": "code",
   "execution_count": 20,
   "metadata": {},
   "outputs": [
    {
     "name": "stdout",
     "output_type": "stream",
     "text": [
      "Running with c = 3\n",
      "Running with c = 4\n",
      "Running with c = 8\n",
      "Running with c = 10\n"
     ]
    }
   ],
   "source": [
    "for c in [3,4,8,10]:\n",
    "    cmd = generate_command(25, 'cep', 14, time_ids, c, '-1','clustream')\n",
    "    print(f\"Running with c = {c}\")\n",
    "    out = run_command(cmd,f'cep_c2{c}')\n",
    "    outs.append(out)\n",
    "\n",
    "    if len(outs) >= max_together:\n",
    "        outs[len(outs) - max_together].communicate()"
   ]
  },
  {
   "cell_type": "code",
   "execution_count": 18,
   "metadata": {},
   "outputs": [
    {
     "name": "stdout",
     "output_type": "stream",
     "text": [
      "Running with c = 2\n",
      "Running with c = 3\n",
      "Running with c = 4\n",
      "Running with c = 5\n",
      "Running with c = 8\n"
     ]
    }
   ],
   "source": [
    "for c in cluster_num[:-1]:\n",
    "    cmd = generate_command(25, 'featureExtraction', 14, time_ids, c, '-1')\n",
    "    print(f\"Running with c = {c}\")\n",
    "    out = run_command(cmd,f'extract_c{c}')\n",
    "    outs.append(out)\n",
    "\n",
    "    if len(outs) >= max_together:\n",
    "        outs[len(outs) - max_together].communicate()"
   ]
  },
  {
   "cell_type": "code",
   "execution_count": 19,
   "metadata": {},
   "outputs": [
    {
     "name": "stdout",
     "output_type": "stream",
     "text": [
      "Running with c = 2\n",
      "Running with c = 3\n",
      "Running with c = 4\n",
      "Running with c = 5\n",
      "Running with c = 8\n",
      "Running with c = 25\n"
     ]
    }
   ],
   "source": [
    "for c in cluster_num:\n",
    "    cmd = generate_command(25, 'featureExtraction', 14, time_ids, c, '-1', 'clustream')\n",
    "    print(f\"Running with c = {c}\")\n",
    "    out = run_command(cmd,f'extract_c2{c}')\n",
    "    outs.append(out)\n",
    "\n",
    "    if len(outs) >= max_together:\n",
    "        outs[len(outs) - max_together].communicate()"
   ]
  },
  {
   "cell_type": "code",
   "execution_count": 25,
   "metadata": {},
   "outputs": [
    {
     "name": "stdout",
     "output_type": "stream",
     "text": [
      "Running with r = 0.1\n",
      "Running with r = 0.25\n",
      "Running with r = 0.5\n"
     ]
    }
   ],
   "source": [
    "for r in rs:\n",
    "    cmd = generate_command(100, 'cluster', 14, time_ids, 25, '-1', r=r)\n",
    "    print(f\"Running with r = {r}\")\n",
    "    out = run_command(cmd,f'r{r}')\n",
    "    outs.append(out)\n",
    "\n",
    "    if len(outs) >= max_together:\n",
    "        outs[len(outs) - max_together].communicate()"
   ]
  },
  {
   "cell_type": "code",
   "execution_count": 26,
   "metadata": {},
   "outputs": [
    {
     "name": "stdout",
     "output_type": "stream",
     "text": [
      "Running with r = 0.1\n",
      "Running with r = 0.25\n",
      "Running with r = 0.5\n"
     ]
    }
   ],
   "source": [
    "for r in rs:\n",
    "    cmd = generate_command(100, 'cluster', 14, time_ids, 25, '-1', buffer_type= 'relevance',r=r)\n",
    "    print(f\"Running with r = {r}\")\n",
    "    out = run_command(cmd,f'r2{r}')\n",
    "    outs.append(out)\n",
    "\n",
    "    if len(outs) >= max_together:\n",
    "        outs[len(outs) - max_together].communicate()"
   ]
  },
  {
   "cell_type": "code",
   "execution_count": 27,
   "metadata": {},
   "outputs": [
    {
     "name": "stdout",
     "output_type": "stream",
     "text": [
      "Running with r = 0.1\n",
      "Running with r = 0.25\n",
      "Running with r = 0.5\n"
     ]
    }
   ],
   "source": [
    "for r in rs:\n",
    "    cmd = generate_command(25, 'featureExtraction', 14, time_ids, 8, '-1', 'clustream', r=r)\n",
    "    print(f\"Running with r = {r}\")\n",
    "    out = run_command(cmd,f'extract_r{r}')\n",
    "    outs.append(out)\n",
    "\n",
    "    if len(outs) >= max_together:\n",
    "        outs[len(outs) - max_together].communicate()"
   ]
  },
  {
   "cell_type": "code",
   "execution_count": 29,
   "metadata": {},
   "outputs": [
    {
     "name": "stdout",
     "output_type": "stream",
     "text": [
      "Running with r = 0.1\n",
      "Running with r = 0.25\n",
      "Running with r = 0.5\n"
     ]
    }
   ],
   "source": [
    "for r in rs:\n",
    "    cmd = generate_command(25, 'featureExtraction', 14, time_ids, 8, '-1', 'clustream', buffer_type='relevance', r=r)\n",
    "    print(f\"Running with r = {r}\")\n",
    "    out = run_command(cmd,f'extract_r2{r}')\n",
    "    outs.append(out)\n",
    "\n",
    "    if len(outs) >= max_together:\n",
    "        outs[len(outs) - max_together].communicate()"
   ]
  },
  {
   "cell_type": "code",
   "execution_count": 30,
   "metadata": {},
   "outputs": [
    {
     "name": "stdout",
     "output_type": "stream",
     "text": [
      "Running with c = 6\n"
     ]
    }
   ],
   "source": [
    "for c in [6]:\n",
    "    cmd = generate_command(25, 'cep', 14, time_ids, c, '-1','clustream')\n",
    "    print(f\"Running with c = {c}\")\n",
    "    out = run_command(cmd,f'cep_c2{c}')\n",
    "    outs.append(out)\n",
    "\n",
    "    if len(outs) >= max_together:\n",
    "        outs[len(outs) - max_together].communicate()"
   ]
  },
  {
   "cell_type": "code",
   "execution_count": 32,
   "metadata": {},
   "outputs": [
    {
     "name": "stdout",
     "output_type": "stream",
     "text": [
      "Running with r = 0.1\n",
      "Running with r = 0.25\n",
      "Running with r = 0.5\n"
     ]
    }
   ],
   "source": [
    "for r in rs:\n",
    "    cmd = generate_command(25, 'cep', 14, time_ids, 6, '-1','clustream', buffer_type='relevance', r=r)\n",
    "    print(f\"Running with r = {r}\")\n",
    "    out = run_command(cmd,f'cep_r2{r}')\n",
    "    outs.append(out)\n",
    "\n",
    "    if len(outs) >= max_together:\n",
    "        outs[len(outs) - max_together].communicate()"
   ]
  },
  {
   "cell_type": "code",
   "execution_count": 33,
   "metadata": {},
   "outputs": [
    {
     "name": "stdout",
     "output_type": "stream",
     "text": [
      "Running with r = 0.1\n",
      "Running with r = 0.25\n",
      "Running with r = 0.5\n"
     ]
    }
   ],
   "source": [
    "for r in rs:\n",
    "    cmd = generate_command(25, 'cep', 14, time_ids, 6, '-1','clustream', r=r)\n",
    "    print(f\"Running with r = {r}\")\n",
    "    out = run_command(cmd,f'cep_r{r}')\n",
    "    outs.append(out)\n",
    "\n",
    "    if len(outs) >= max_together:\n",
    "        outs[len(outs) - max_together].communicate()"
   ]
  },
  {
   "cell_type": "code",
   "execution_count": 31,
   "metadata": {},
   "outputs": [
    {
     "name": "stdout",
     "output_type": "stream",
     "text": [
      "Running with p = 13\n"
     ]
    }
   ],
   "source": [
    "for p in [13]:\n",
    "    cmd = generate_command(100, 'cluster', p, time_ids, 25, '-1', buffer_type= 'relevance',r=0.1)\n",
    "    print(f\"Running with p = {p}\")\n",
    "    out = run_command(cmd,f'p{p}')\n",
    "    outs.append(out)\n",
    "\n",
    "    if len(outs) >= max_together:\n",
    "        outs[len(outs) - max_together].communicate()"
   ]
  },
  {
   "cell_type": "code",
   "execution_count": 36,
   "metadata": {},
   "outputs": [
    {
     "name": "stdout",
     "output_type": "stream",
     "text": [
      "Running with p = 13\n"
     ]
    }
   ],
   "source": [
    "for p in [13]:\n",
    "    cmd = generate_command(25, 'featureExtraction', p, time_ids, 8, '-1', 'clustream', buffer_type='random', r=0.1)\n",
    "    print(f\"Running with p = {p}\")\n",
    "    out = run_command(cmd,f'extract_p{p}')\n",
    "    outs.append(out)\n",
    "\n",
    "    if len(outs) >= max_together:\n",
    "        outs[len(outs) - max_together].communicate()"
   ]
  },
  {
   "cell_type": "code",
   "execution_count": 37,
   "metadata": {},
   "outputs": [
    {
     "name": "stdout",
     "output_type": "stream",
     "text": [
      "Running with p = 13\n"
     ]
    }
   ],
   "source": [
    "for  p in [13]:\n",
    "    cmd = generate_command(25, 'cep', 14, time_ids, 6, '-1','clustree', r=0.5)\n",
    "    print(f\"Running with p = {p}\")\n",
    "    out = run_command(cmd,f'cep_p{p}')\n",
    "    outs.append(out)\n",
    "\n",
    "    if len(outs) >= max_together:\n",
    "        outs[len(outs) - max_together].communicate()"
   ]
  },
  {
   "cell_type": "code",
   "execution_count": 15,
   "metadata": {},
   "outputs": [],
   "source": [
    "with open(r'..\\moa-release-2020.07.1\\bin\\moa_test_run.bat', 'w') as file:\n",
    "    file.write(file_contents)"
   ]
  },
  {
   "cell_type": "code",
   "execution_count": 19,
   "metadata": {},
   "outputs": [],
   "source": [
    "out = subprocess.Popen(r'..\\moa-release-2020.07.1\\bin\\moa_test_run.bat')"
   ]
  },
  {
   "cell_type": "code",
   "execution_count": 13,
   "metadata": {},
   "outputs": [],
   "source": [
    "file_contents = f'@echo off\\n\\\n",
    "\\n\\\n",
    "set BASEDIR=%~dp0\\..\\n\\\n",
    "set MEMORY=6g\\n\\\n",
    "\\n\\\n",
    "java -Xmx%MEMORY% -cp \"%BASEDIR%/lib/*\" -javaagent:\"%BASEDIR%/lib/sizeofag-1.0.4.jar\" ^\\n\\\n",
    "moa.DoTask ^\\n\\\n",
    "\"{cmd} \"'"
   ]
  },
  {
   "cell_type": "code",
   "execution_count": 7,
   "metadata": {},
   "outputs": [],
   "source": [
    "learners = [\n",
    "    'rules.functions.TargetMean',\n",
    "    'rules.functions.FadingTargetMean',\n",
    "    'functions.AdaGrad',\n",
    "    'meta.AdaptiveRandomForestRegressor',\n",
    "    'meta.AdaptiveRandomForestRegressor -m 80',\n",
    "    'rules.AMRulesRegressor',\n",
    "    'rules.functions.Perceptron',\n",
    "    'trees.ARFFIMTDD',\n",
    "\n",
    "]\n",
    "std_set = r'C:\\Users\\kosma\\Desktop\\MAGISTER\\FeatExtream\\result_sup.arff'\n",
    "slim_set = r'C:\\Users\\kosma\\Desktop\\MAGISTER\\FeatExtream\\result_sup_slim.arff'\n",
    "\n",
    "\n",
    "std_learn = [f'EvaluatePrequentialRegression -l ({l}) -s (ArffFileStream -f {std_set} ) -i 32000 -f 1000 -q 1000 -d runs/tuning/{l.replace(\" \",\"\")}' for l in learners]\n",
    "slim_learn = [f'EvaluatePrequentialRegression -l ({l}) -s (ArffFileStream -f {slim_set} ) -i 32000 -f 1000 -q 1000 -d runs/tuning/slim_{l.replace(\" \",\"\")}' for l in learners]"
   ]
  },
  {
   "cell_type": "code",
   "execution_count": 8,
   "metadata": {},
   "outputs": [
    {
     "data": {
      "text/plain": [
       "['EvaluatePrequentialRegression -l (meta.AdaptiveRandomForestRegressor -m 80) -s (ArffFileStream -f C:\\\\Users\\\\kosma\\\\Desktop\\\\MAGISTER\\\\FeatExtream\\\\result_sup.arff ) -i 32000 -f 1000 -q 1000 -d runs/tuning/meta.AdaptiveRandomForestRegressor-m80']"
      ]
     },
     "execution_count": 8,
     "metadata": {},
     "output_type": "execute_result"
    }
   ],
   "source": [
    "std_learn[4:5]"
   ]
  },
  {
   "cell_type": "code",
   "execution_count": null,
   "metadata": {},
   "outputs": [
    {
     "name": "stdout",
     "output_type": "stream",
     "text": [
      "Running cmd EvaluatePrequentialRegression -l (rules.functions.TargetMean) -s (ArffFileStream -f C:\\Users\\kosma\\Desktop\\MAGISTER\\FeatExtream\\result_sup.arff ) -i 32000 -f 1000 -q 1000 -d runs/tuning/rules.functions.TargetMean\n",
      "Running cmd EvaluatePrequentialRegression -l (rules.functions.FadingTargetMean) -s (ArffFileStream -f C:\\Users\\kosma\\Desktop\\MAGISTER\\FeatExtream\\result_sup.arff ) -i 32000 -f 1000 -q 1000 -d runs/tuning/rules.functions.FadingTargetMean\n",
      "Running cmd EvaluatePrequentialRegression -l (functions.AdaGrad) -s (ArffFileStream -f C:\\Users\\kosma\\Desktop\\MAGISTER\\FeatExtream\\result_sup.arff ) -i 32000 -f 1000 -q 1000 -d runs/tuning/functions.AdaGrad\n",
      "Running cmd EvaluatePrequentialRegression -l (meta.AdaptiveRandomForestRegressor) -s (ArffFileStream -f C:\\Users\\kosma\\Desktop\\MAGISTER\\FeatExtream\\result_sup.arff ) -i 32000 -f 1000 -q 1000 -d runs/tuning/meta.AdaptiveRandomForestRegressor\n",
      "Running cmd EvaluatePrequentialRegression -l (meta.AdaptiveRandomForestRegressor -m 80) -s (ArffFileStream -f C:\\Users\\kosma\\Desktop\\MAGISTER\\FeatExtream\\result_sup.arff ) -i 32000 -f 1000 -q 1000 -d runs/tuning/meta.AdaptiveRandomForestRegressor -m 80\n",
      "Running cmd EvaluatePrequentialRegression -l (rules.meta.RandomAMRules) -s (ArffFileStream -f C:\\Users\\kosma\\Desktop\\MAGISTER\\FeatExtream\\result_sup.arff ) -i 32000 -f 1000 -q 1000 -d runs/tuning/rules.meta.RandomAMRules\n",
      "Running cmd EvaluatePrequentialRegression -l (rules.AMRulesRegressor) -s (ArffFileStream -f C:\\Users\\kosma\\Desktop\\MAGISTER\\FeatExtream\\result_sup.arff ) -i 32000 -f 1000 -q 1000 -d runs/tuning/rules.AMRulesRegressor\n"
     ]
    }
   ],
   "source": [
    "index = 0\n",
    "for cmd in std_learn:\n",
    "    print(f\"Running cmd {cmd}\")\n",
    "    out = run_command(cmd,f'baseline_{index}')\n",
    "    outs.append(out)\n",
    "\n",
    "    if len(outs) >= max_together:\n",
    "        outs[len(outs) - max_together].communicate()\n",
    "    index+= 1"
   ]
  },
  {
   "cell_type": "code",
   "execution_count": 10,
   "metadata": {},
   "outputs": [
    {
     "name": "stdout",
     "output_type": "stream",
     "text": [
      "Running cmd EvaluatePrequentialRegression -l (rules.functions.Perceptron) -s (ArffFileStream -f C:\\Users\\kosma\\Desktop\\MAGISTER\\FeatExtream\\result_sup.arff ) -i 32000 -f 1000 -q 1000 -d runs/tuning/rules.functions.Perceptron\n",
      "Running cmd EvaluatePrequentialRegression -l (trees.ARFFIMTDD) -s (ArffFileStream -f C:\\Users\\kosma\\Desktop\\MAGISTER\\FeatExtream\\result_sup.arff ) -i 32000 -f 1000 -q 1000 -d runs/tuning/trees.ARFFIMTDD\n"
     ]
    }
   ],
   "source": [
    "index = 0\n",
    "for cmd in std_learn[-2:]:\n",
    "    print(f\"Running cmd {cmd}\")\n",
    "    out = run_command(cmd,f'baseline_{index}')\n",
    "    outs.append(out)\n",
    "\n",
    "    if len(outs) >= max_together:\n",
    "        outs[len(outs) - max_together].communicate()\n",
    "    index+= 1"
   ]
  },
  {
   "cell_type": "code",
   "execution_count": 11,
   "metadata": {},
   "outputs": [
    {
     "name": "stdout",
     "output_type": "stream",
     "text": [
      "Running cmd EvaluatePrequentialRegression -l (rules.functions.TargetMean) -s (ArffFileStream -f C:\\Users\\kosma\\Desktop\\MAGISTER\\FeatExtream\\result_sup_slim.arff ) -i 32000 -f 1000 -q 1000 -d runs/tuning/rules.functions.TargetMean\n",
      "Running cmd EvaluatePrequentialRegression -l (rules.functions.FadingTargetMean) -s (ArffFileStream -f C:\\Users\\kosma\\Desktop\\MAGISTER\\FeatExtream\\result_sup_slim.arff ) -i 32000 -f 1000 -q 1000 -d runs/tuning/rules.functions.FadingTargetMean\n",
      "Running cmd EvaluatePrequentialRegression -l (functions.AdaGrad) -s (ArffFileStream -f C:\\Users\\kosma\\Desktop\\MAGISTER\\FeatExtream\\result_sup_slim.arff ) -i 32000 -f 1000 -q 1000 -d runs/tuning/functions.AdaGrad\n",
      "Running cmd EvaluatePrequentialRegression -l (meta.AdaptiveRandomForestRegressor) -s (ArffFileStream -f C:\\Users\\kosma\\Desktop\\MAGISTER\\FeatExtream\\result_sup_slim.arff ) -i 32000 -f 1000 -q 1000 -d runs/tuning/meta.AdaptiveRandomForestRegressor\n",
      "Running cmd EvaluatePrequentialRegression -l (meta.AdaptiveRandomForestRegressor -m 80) -s (ArffFileStream -f C:\\Users\\kosma\\Desktop\\MAGISTER\\FeatExtream\\result_sup_slim.arff ) -i 32000 -f 1000 -q 1000 -d runs/tuning/meta.AdaptiveRandomForestRegressor -m 80\n",
      "Running cmd EvaluatePrequentialRegression -l (rules.AMRulesRegressor) -s (ArffFileStream -f C:\\Users\\kosma\\Desktop\\MAGISTER\\FeatExtream\\result_sup_slim.arff ) -i 32000 -f 1000 -q 1000 -d runs/tuning/rules.AMRulesRegressor\n",
      "Running cmd EvaluatePrequentialRegression -l (rules.functions.Perceptron) -s (ArffFileStream -f C:\\Users\\kosma\\Desktop\\MAGISTER\\FeatExtream\\result_sup_slim.arff ) -i 32000 -f 1000 -q 1000 -d runs/tuning/rules.functions.Perceptron\n",
      "Running cmd EvaluatePrequentialRegression -l (trees.ARFFIMTDD) -s (ArffFileStream -f C:\\Users\\kosma\\Desktop\\MAGISTER\\FeatExtream\\result_sup_slim.arff ) -i 32000 -f 1000 -q 1000 -d runs/tuning/trees.ARFFIMTDD\n"
     ]
    }
   ],
   "source": [
    "index = 0\n",
    "for cmd in slim_learn:\n",
    "    print(f\"Running cmd {cmd}\")\n",
    "    out = run_command(cmd,f'baseline_{index}')\n",
    "    outs.append(out)\n",
    "\n",
    "    if len(outs) >= max_together:\n",
    "        outs[len(outs) - max_together].communicate()\n",
    "    index+= 1"
   ]
  },
  {
   "cell_type": "code",
   "execution_count": 16,
   "metadata": {},
   "outputs": [
    {
     "name": "stdout",
     "output_type": "stream",
     "text": [
      "Running cmd EvaluatePrequentialRegression -l (meta.AdaptiveRandomForestRegressor -m 80) -s (ArffFileStream -f C:\\Users\\kosma\\Desktop\\MAGISTER\\FeatExtream\\result_sup.arff ) -i 32000 -f 1000 -q 1000 -d runs/tuning/meta.AdaptiveRandomForestRegressor-m80\n"
     ]
    }
   ],
   "source": [
    "index = 0\n",
    "for cmd in std_learn[4:5]:\n",
    "    print(f\"Running cmd {cmd}\")\n",
    "    out = run_command(cmd,f'baseline_{index}')\n",
    "    outs.append(out)\n",
    "\n",
    "    if len(outs) >= max_together:\n",
    "        outs[len(outs) - max_together].communicate()\n",
    "    index+= 1"
   ]
  },
  {
   "cell_type": "code",
   "execution_count": 9,
   "metadata": {},
   "outputs": [
    {
     "name": "stdout",
     "output_type": "stream",
     "text": [
      "Running cmd EvaluatePrequentialRegression -l (meta.AdaptiveRandomForestRegressor -m 80) -s (ArffFileStream -f C:\\Users\\kosma\\Desktop\\MAGISTER\\FeatExtream\\result_sup_slim.arff ) -i 32000 -f 1000 -q 1000 -d runs/tuning/slim_meta.AdaptiveRandomForestRegressor-m80\n"
     ]
    }
   ],
   "source": [
    "index = 0\n",
    "for cmd in slim_learn[4:5]:\n",
    "    print(f\"Running cmd {cmd}\")\n",
    "    out = run_command(cmd,f'baseline_{index}')\n",
    "    outs.append(out)\n",
    "\n",
    "    if len(outs) >= max_together:\n",
    "        outs[len(outs) - max_together].communicate()\n",
    "    index+= 1"
   ]
  },
  {
   "cell_type": "code",
   "execution_count": 10,
   "metadata": {},
   "outputs": [],
   "source": [
    "learners_clf = [\n",
    "    'functions.MajorityClass',\n",
    "    'functions.NoChange',\n",
    "    'lazy.SAMkNN',\n",
    "    'bayes.NaiveBayes',\n",
    "    'meta.AdaptiveRandomForest',\n",
    "    'meta.AdaptiveRandomForest -m 80',\n",
    "    'trees.HoeffdingAdaptiveTree',\n",
    "    'meta.OzaBagAdwin',\n",
    "\n",
    "]\n",
    "generated_sets = ['generators.RandomRBFGenerator', 'generators.HyperplaneGenerator','generators.LEDGenerator']\n",
    "\n",
    "index = 0\n",
    "cmds = []\n",
    "for gen_set in generated_sets:\n",
    "    cmds += [f'EvaluatePrequential -l ({l}) -s ({gen_set}) -i 50000 -f 1000 -q 1000 -d runs/tuning/generator2/{l.replace(\" \",\"\")}_{gen_set}.csv' for l in learners_clf]\n"
   ]
  },
  {
   "cell_type": "code",
   "execution_count": 11,
   "metadata": {},
   "outputs": [
    {
     "name": "stdout",
     "output_type": "stream",
     "text": [
      "Running cmd EvaluatePrequential -l (functions.MajorityClass) -s (generators.RandomRBFGenerator) -i 50000 -f 1000 -q 1000 -d runs/tuning/generator2/functions.MajorityClass_generators.RandomRBFGenerator.csv\n",
      "Running cmd EvaluatePrequential -l (functions.NoChange) -s (generators.RandomRBFGenerator) -i 50000 -f 1000 -q 1000 -d runs/tuning/generator2/functions.NoChange_generators.RandomRBFGenerator.csv\n",
      "Running cmd EvaluatePrequential -l (lazy.SAMkNN) -s (generators.RandomRBFGenerator) -i 50000 -f 1000 -q 1000 -d runs/tuning/generator2/lazy.SAMkNN_generators.RandomRBFGenerator.csv\n",
      "Running cmd EvaluatePrequential -l (bayes.NaiveBayes) -s (generators.RandomRBFGenerator) -i 50000 -f 1000 -q 1000 -d runs/tuning/generator2/bayes.NaiveBayes_generators.RandomRBFGenerator.csv\n",
      "Running cmd EvaluatePrequential -l (meta.AdaptiveRandomForest) -s (generators.RandomRBFGenerator) -i 50000 -f 1000 -q 1000 -d runs/tuning/generator2/meta.AdaptiveRandomForest_generators.RandomRBFGenerator.csv\n",
      "Running cmd EvaluatePrequential -l (meta.AdaptiveRandomForest -m 80) -s (generators.RandomRBFGenerator) -i 50000 -f 1000 -q 1000 -d runs/tuning/generator2/meta.AdaptiveRandomForest-m80_generators.RandomRBFGenerator.csv\n",
      "Running cmd EvaluatePrequential -l (trees.HoeffdingAdaptiveTree) -s (generators.RandomRBFGenerator) -i 50000 -f 1000 -q 1000 -d runs/tuning/generator2/trees.HoeffdingAdaptiveTree_generators.RandomRBFGenerator.csv\n",
      "Running cmd EvaluatePrequential -l (meta.OzaBagAdwin) -s (generators.RandomRBFGenerator) -i 50000 -f 1000 -q 1000 -d runs/tuning/generator2/meta.OzaBagAdwin_generators.RandomRBFGenerator.csv\n",
      "Running cmd EvaluatePrequential -l (functions.MajorityClass) -s (generators.HyperplaneGenerator) -i 50000 -f 1000 -q 1000 -d runs/tuning/generator2/functions.MajorityClass_generators.HyperplaneGenerator.csv\n",
      "Running cmd EvaluatePrequential -l (functions.NoChange) -s (generators.HyperplaneGenerator) -i 50000 -f 1000 -q 1000 -d runs/tuning/generator2/functions.NoChange_generators.HyperplaneGenerator.csv\n",
      "Running cmd EvaluatePrequential -l (lazy.SAMkNN) -s (generators.HyperplaneGenerator) -i 50000 -f 1000 -q 1000 -d runs/tuning/generator2/lazy.SAMkNN_generators.HyperplaneGenerator.csv\n",
      "Running cmd EvaluatePrequential -l (bayes.NaiveBayes) -s (generators.HyperplaneGenerator) -i 50000 -f 1000 -q 1000 -d runs/tuning/generator2/bayes.NaiveBayes_generators.HyperplaneGenerator.csv\n",
      "Running cmd EvaluatePrequential -l (meta.AdaptiveRandomForest) -s (generators.HyperplaneGenerator) -i 50000 -f 1000 -q 1000 -d runs/tuning/generator2/meta.AdaptiveRandomForest_generators.HyperplaneGenerator.csv\n",
      "Running cmd EvaluatePrequential -l (meta.AdaptiveRandomForest -m 80) -s (generators.HyperplaneGenerator) -i 50000 -f 1000 -q 1000 -d runs/tuning/generator2/meta.AdaptiveRandomForest-m80_generators.HyperplaneGenerator.csv\n",
      "Running cmd EvaluatePrequential -l (trees.HoeffdingAdaptiveTree) -s (generators.HyperplaneGenerator) -i 50000 -f 1000 -q 1000 -d runs/tuning/generator2/trees.HoeffdingAdaptiveTree_generators.HyperplaneGenerator.csv\n",
      "Running cmd EvaluatePrequential -l (meta.OzaBagAdwin) -s (generators.HyperplaneGenerator) -i 50000 -f 1000 -q 1000 -d runs/tuning/generator2/meta.OzaBagAdwin_generators.HyperplaneGenerator.csv\n",
      "Running cmd EvaluatePrequential -l (functions.MajorityClass) -s (generators.LEDGenerator) -i 50000 -f 1000 -q 1000 -d runs/tuning/generator2/functions.MajorityClass_generators.LEDGenerator.csv\n",
      "Running cmd EvaluatePrequential -l (functions.NoChange) -s (generators.LEDGenerator) -i 50000 -f 1000 -q 1000 -d runs/tuning/generator2/functions.NoChange_generators.LEDGenerator.csv\n",
      "Running cmd EvaluatePrequential -l (lazy.SAMkNN) -s (generators.LEDGenerator) -i 50000 -f 1000 -q 1000 -d runs/tuning/generator2/lazy.SAMkNN_generators.LEDGenerator.csv\n",
      "Running cmd EvaluatePrequential -l (bayes.NaiveBayes) -s (generators.LEDGenerator) -i 50000 -f 1000 -q 1000 -d runs/tuning/generator2/bayes.NaiveBayes_generators.LEDGenerator.csv\n",
      "Running cmd EvaluatePrequential -l (meta.AdaptiveRandomForest) -s (generators.LEDGenerator) -i 50000 -f 1000 -q 1000 -d runs/tuning/generator2/meta.AdaptiveRandomForest_generators.LEDGenerator.csv\n",
      "Running cmd EvaluatePrequential -l (meta.AdaptiveRandomForest -m 80) -s (generators.LEDGenerator) -i 50000 -f 1000 -q 1000 -d runs/tuning/generator2/meta.AdaptiveRandomForest-m80_generators.LEDGenerator.csv\n",
      "Running cmd EvaluatePrequential -l (trees.HoeffdingAdaptiveTree) -s (generators.LEDGenerator) -i 50000 -f 1000 -q 1000 -d runs/tuning/generator2/trees.HoeffdingAdaptiveTree_generators.LEDGenerator.csv\n",
      "Running cmd EvaluatePrequential -l (meta.OzaBagAdwin) -s (generators.LEDGenerator) -i 50000 -f 1000 -q 1000 -d runs/tuning/generator2/meta.OzaBagAdwin_generators.LEDGenerator.csv\n"
     ]
    }
   ],
   "source": [
    "index = 0\n",
    "for cmd in cmds:\n",
    "    print(f\"Running cmd {cmd}\")\n",
    "    out = run_command(cmd,f'generator_{index}')\n",
    "    outs.append(out)\n",
    "\n",
    "    if len(outs) >= max_together:\n",
    "        outs[len(outs) - max_together].communicate()\n",
    "    index+= 1"
   ]
  },
  {
   "cell_type": "code",
   "execution_count": 17,
   "metadata": {},
   "outputs": [],
   "source": [
    "learners_clf = [\n",
    "    'functions.MajorityClass',\n",
    "    'functions.NoChange',\n",
    "    'lazy.SAMkNN',\n",
    "    'bayes.NaiveBayes',\n",
    "    'meta.AdaptiveRandomForest',\n",
    "    'meta.AdaptiveRandomForest -m 80',\n",
    "    'trees.HoeffdingAdaptiveTree',\n",
    "    'meta.OzaBagAdwin',\n",
    "\n",
    "]\n",
    "rest_sets = ['WISDM', 'electricity_arff']\n",
    "\n",
    "index = 0\n",
    "cmds = []\n",
    "wisdm_fullpath =  f'C:\\\\Users\\\\kosma\\\\Desktop\\\\MAGISTER\\\\FeatExtream\\\\data\\\\{rest_sets[0]}.arff'\n",
    "electricity_fullpath =  f'C:\\\\Users\\\\kosma\\\\Desktop\\\\MAGISTER\\\\FeatExtream\\\\data\\\\{rest_sets[1]}.arff'\n",
    "cmds += [f'EvaluatePrequential -l ({l}) -s (ArffFileStream -f {wisdm_fullpath})-e (WindowClassificationPerformanceEvaluator -w 200) -i 5400 -f 200 -q 200 -d runs/tuning/wisdm/{l.replace(\" \",\"\")}_wisdm.csv' for l in learners_clf]\n",
    "# cmds += [f'EvaluatePrequential -l ({l}) -s (ArffFileStream -f {electricity_fullpath}) -i 45000 -f 1000 -q 1000 -d runs/tuning/wisdm/{l.replace(\" \",\"\")}_electricity.csv' for l in learners_clf]\n"
   ]
  },
  {
   "cell_type": "code",
   "execution_count": 18,
   "metadata": {},
   "outputs": [
    {
     "data": {
      "text/plain": [
       "['EvaluatePrequential -l (functions.MajorityClass) -s (ArffFileStream -f C:\\\\Users\\\\kosma\\\\Desktop\\\\MAGISTER\\\\FeatExtream\\\\data\\\\WISDM.arff)-e (WindowClassificationPerformanceEvaluator -w 200) -i 5400 -f 200 -q 200 -d runs/tuning/wisdm/functions.MajorityClass_wisdm.csv',\n",
       " 'EvaluatePrequential -l (functions.NoChange) -s (ArffFileStream -f C:\\\\Users\\\\kosma\\\\Desktop\\\\MAGISTER\\\\FeatExtream\\\\data\\\\WISDM.arff)-e (WindowClassificationPerformanceEvaluator -w 200) -i 5400 -f 200 -q 200 -d runs/tuning/wisdm/functions.NoChange_wisdm.csv',\n",
       " 'EvaluatePrequential -l (lazy.SAMkNN) -s (ArffFileStream -f C:\\\\Users\\\\kosma\\\\Desktop\\\\MAGISTER\\\\FeatExtream\\\\data\\\\WISDM.arff)-e (WindowClassificationPerformanceEvaluator -w 200) -i 5400 -f 200 -q 200 -d runs/tuning/wisdm/lazy.SAMkNN_wisdm.csv',\n",
       " 'EvaluatePrequential -l (bayes.NaiveBayes) -s (ArffFileStream -f C:\\\\Users\\\\kosma\\\\Desktop\\\\MAGISTER\\\\FeatExtream\\\\data\\\\WISDM.arff)-e (WindowClassificationPerformanceEvaluator -w 200) -i 5400 -f 200 -q 200 -d runs/tuning/wisdm/bayes.NaiveBayes_wisdm.csv',\n",
       " 'EvaluatePrequential -l (meta.AdaptiveRandomForest) -s (ArffFileStream -f C:\\\\Users\\\\kosma\\\\Desktop\\\\MAGISTER\\\\FeatExtream\\\\data\\\\WISDM.arff)-e (WindowClassificationPerformanceEvaluator -w 200) -i 5400 -f 200 -q 200 -d runs/tuning/wisdm/meta.AdaptiveRandomForest_wisdm.csv',\n",
       " 'EvaluatePrequential -l (meta.AdaptiveRandomForest -m 80) -s (ArffFileStream -f C:\\\\Users\\\\kosma\\\\Desktop\\\\MAGISTER\\\\FeatExtream\\\\data\\\\WISDM.arff)-e (WindowClassificationPerformanceEvaluator -w 200) -i 5400 -f 200 -q 200 -d runs/tuning/wisdm/meta.AdaptiveRandomForest-m80_wisdm.csv',\n",
       " 'EvaluatePrequential -l (trees.HoeffdingAdaptiveTree) -s (ArffFileStream -f C:\\\\Users\\\\kosma\\\\Desktop\\\\MAGISTER\\\\FeatExtream\\\\data\\\\WISDM.arff)-e (WindowClassificationPerformanceEvaluator -w 200) -i 5400 -f 200 -q 200 -d runs/tuning/wisdm/trees.HoeffdingAdaptiveTree_wisdm.csv',\n",
       " 'EvaluatePrequential -l (meta.OzaBagAdwin) -s (ArffFileStream -f C:\\\\Users\\\\kosma\\\\Desktop\\\\MAGISTER\\\\FeatExtream\\\\data\\\\WISDM.arff)-e (WindowClassificationPerformanceEvaluator -w 200) -i 5400 -f 200 -q 200 -d runs/tuning/wisdm/meta.OzaBagAdwin_wisdm.csv']"
      ]
     },
     "execution_count": 18,
     "metadata": {},
     "output_type": "execute_result"
    }
   ],
   "source": [
    "cmds"
   ]
  },
  {
   "cell_type": "code",
   "execution_count": 19,
   "metadata": {},
   "outputs": [
    {
     "name": "stdout",
     "output_type": "stream",
     "text": [
      "Running cmd EvaluatePrequential -l (functions.MajorityClass) -s (ArffFileStream -f C:\\Users\\kosma\\Desktop\\MAGISTER\\FeatExtream\\data\\WISDM.arff)-e (WindowClassificationPerformanceEvaluator -w 200) -i 5400 -f 200 -q 200 -d runs/tuning/wisdm/functions.MajorityClass_wisdm.csv\n",
      "Running cmd EvaluatePrequential -l (functions.NoChange) -s (ArffFileStream -f C:\\Users\\kosma\\Desktop\\MAGISTER\\FeatExtream\\data\\WISDM.arff)-e (WindowClassificationPerformanceEvaluator -w 200) -i 5400 -f 200 -q 200 -d runs/tuning/wisdm/functions.NoChange_wisdm.csv\n",
      "Running cmd EvaluatePrequential -l (lazy.SAMkNN) -s (ArffFileStream -f C:\\Users\\kosma\\Desktop\\MAGISTER\\FeatExtream\\data\\WISDM.arff)-e (WindowClassificationPerformanceEvaluator -w 200) -i 5400 -f 200 -q 200 -d runs/tuning/wisdm/lazy.SAMkNN_wisdm.csv\n",
      "Running cmd EvaluatePrequential -l (bayes.NaiveBayes) -s (ArffFileStream -f C:\\Users\\kosma\\Desktop\\MAGISTER\\FeatExtream\\data\\WISDM.arff)-e (WindowClassificationPerformanceEvaluator -w 200) -i 5400 -f 200 -q 200 -d runs/tuning/wisdm/bayes.NaiveBayes_wisdm.csv\n",
      "Running cmd EvaluatePrequential -l (meta.AdaptiveRandomForest) -s (ArffFileStream -f C:\\Users\\kosma\\Desktop\\MAGISTER\\FeatExtream\\data\\WISDM.arff)-e (WindowClassificationPerformanceEvaluator -w 200) -i 5400 -f 200 -q 200 -d runs/tuning/wisdm/meta.AdaptiveRandomForest_wisdm.csv\n",
      "Running cmd EvaluatePrequential -l (meta.AdaptiveRandomForest -m 80) -s (ArffFileStream -f C:\\Users\\kosma\\Desktop\\MAGISTER\\FeatExtream\\data\\WISDM.arff)-e (WindowClassificationPerformanceEvaluator -w 200) -i 5400 -f 200 -q 200 -d runs/tuning/wisdm/meta.AdaptiveRandomForest-m80_wisdm.csv\n",
      "Running cmd EvaluatePrequential -l (trees.HoeffdingAdaptiveTree) -s (ArffFileStream -f C:\\Users\\kosma\\Desktop\\MAGISTER\\FeatExtream\\data\\WISDM.arff)-e (WindowClassificationPerformanceEvaluator -w 200) -i 5400 -f 200 -q 200 -d runs/tuning/wisdm/trees.HoeffdingAdaptiveTree_wisdm.csv\n",
      "Running cmd EvaluatePrequential -l (meta.OzaBagAdwin) -s (ArffFileStream -f C:\\Users\\kosma\\Desktop\\MAGISTER\\FeatExtream\\data\\WISDM.arff)-e (WindowClassificationPerformanceEvaluator -w 200) -i 5400 -f 200 -q 200 -d runs/tuning/wisdm/meta.OzaBagAdwin_wisdm.csv\n"
     ]
    }
   ],
   "source": [
    "max_together = 10\n",
    "index = 0\n",
    "for cmd in cmds:\n",
    "    print(f\"Running cmd {cmd}\")\n",
    "    out = run_command(cmd,f'generator_{index}')\n",
    "    outs.append(out)\n",
    "\n",
    "    if len(outs) >= max_together:\n",
    "        outs[len(outs) - max_together].communicate()\n",
    "    index+= 1"
   ]
  },
  {
   "cell_type": "code",
   "execution_count": 7,
   "metadata": {},
   "outputs": [],
   "source": [
    "learners = [\n",
    "    'rules.functions.TargetMean',\n",
    "    'rules.functions.FadingTargetMean',\n",
    "    'functions.AdaGrad',\n",
    "    'meta.AdaptiveRandomForestRegressor',\n",
    "    'meta.AdaptiveRandomForestRegressor -m 80',\n",
    "    'rules.AMRulesRegressor',\n",
    "    'rules.functions.Perceptron',\n",
    "    'trees.ARFFIMTDD',\n",
    "\n",
    "]\n",
    "air_set = r'C:\\Users\\kosma\\Desktop\\MAGISTER\\FeatExtream\\data\\airlines.arff'\n",
    "\n",
    "\n",
    "air_learn = [f'EvaluatePrequentialRegression -l ({l}) -s (ArffFileStream -f {air_set} ) -i 50000 -f 500 -q 500 -d runs/tuning/airlines/{l.replace(\" \",\"\")}' for l in learners]\n"
   ]
  },
  {
   "cell_type": "code",
   "execution_count": 9,
   "metadata": {},
   "outputs": [
    {
     "name": "stdout",
     "output_type": "stream",
     "text": [
      "Running cmd EvaluatePrequentialRegression -l (rules.functions.TargetMean) -s (ArffFileStream -f C:\\Users\\kosma\\Desktop\\MAGISTER\\FeatExtream\\data\\airlines.arff ) -i 32000 -f 1000 -q 1000 -d runs/tuning/airlines/rules.functions.TargetMean\n",
      "Running cmd EvaluatePrequentialRegression -l (rules.functions.FadingTargetMean) -s (ArffFileStream -f C:\\Users\\kosma\\Desktop\\MAGISTER\\FeatExtream\\data\\airlines.arff ) -i 32000 -f 1000 -q 1000 -d runs/tuning/airlines/rules.functions.FadingTargetMean\n",
      "Running cmd EvaluatePrequentialRegression -l (functions.AdaGrad) -s (ArffFileStream -f C:\\Users\\kosma\\Desktop\\MAGISTER\\FeatExtream\\data\\airlines.arff ) -i 32000 -f 1000 -q 1000 -d runs/tuning/airlines/functions.AdaGrad\n",
      "Running cmd EvaluatePrequentialRegression -l (meta.AdaptiveRandomForestRegressor) -s (ArffFileStream -f C:\\Users\\kosma\\Desktop\\MAGISTER\\FeatExtream\\data\\airlines.arff ) -i 32000 -f 1000 -q 1000 -d runs/tuning/airlines/meta.AdaptiveRandomForestRegressor\n",
      "Running cmd EvaluatePrequentialRegression -l (meta.AdaptiveRandomForestRegressor -m 80) -s (ArffFileStream -f C:\\Users\\kosma\\Desktop\\MAGISTER\\FeatExtream\\data\\airlines.arff ) -i 32000 -f 1000 -q 1000 -d runs/tuning/airlines/meta.AdaptiveRandomForestRegressor-m80\n",
      "Running cmd EvaluatePrequentialRegression -l (rules.AMRulesRegressor) -s (ArffFileStream -f C:\\Users\\kosma\\Desktop\\MAGISTER\\FeatExtream\\data\\airlines.arff ) -i 32000 -f 1000 -q 1000 -d runs/tuning/airlines/rules.AMRulesRegressor\n",
      "Running cmd EvaluatePrequentialRegression -l (rules.functions.Perceptron) -s (ArffFileStream -f C:\\Users\\kosma\\Desktop\\MAGISTER\\FeatExtream\\data\\airlines.arff ) -i 32000 -f 1000 -q 1000 -d runs/tuning/airlines/rules.functions.Perceptron\n",
      "Running cmd EvaluatePrequentialRegression -l (trees.ARFFIMTDD) -s (ArffFileStream -f C:\\Users\\kosma\\Desktop\\MAGISTER\\FeatExtream\\data\\airlines.arff ) -i 32000 -f 1000 -q 1000 -d runs/tuning/airlines/trees.ARFFIMTDD\n"
     ]
    }
   ],
   "source": [
    "index = 0\n",
    "max_together = 3\n",
    "for cmd in air_learn:\n",
    "    print(f\"Running cmd {cmd}\")\n",
    "    out = run_command(cmd,f'baseline_{index}')\n",
    "    outs.append(out)\n",
    "\n",
    "    if len(outs) >= max_together:\n",
    "        outs[len(outs) - max_together].communicate()\n",
    "    index+= 1"
   ]
  },
  {
   "cell_type": "code",
   "execution_count": 42,
   "metadata": {},
   "outputs": [
    {
     "data": {
      "text/plain": [
       "<subprocess.Popen at 0x18c3b1093c8>"
      ]
     },
     "execution_count": 42,
     "metadata": {},
     "output_type": "execute_result"
    }
   ],
   "source": [
    "cmd = 'EvaluatePrequentialRegression -l (rules.functions.TargetMean) -s (ArffFileStream -f C:\\\\Users\\\\kosma\\\\Desktop\\\\MAGISTER\\\\FeatExtream\\\\data\\\\airlines.arff ) -i 32000 -f 1000 -q 1000 -d runs/tuning/airlines/rules.functions.TargetMean'\n",
    "\n",
    "run_command(cmd,f'test_airlines')"
   ]
  },
  {
   "cell_type": "code",
   "execution_count": 6,
   "metadata": {},
   "outputs": [],
   "source": [
    "file =  r'C:\\Users\\kosma\\Desktop\\MAGISTER\\FeatExtream\\data\\wisdm.arff'\n",
    "task = 'EvaluatePrequential'\n",
    "learner = 'BufferLearner'\n",
    "\n",
    "relevance_learner = '(meta.AdaptiveRandomForestRegressor -x (ADWINChangeDetector -a 0.001) -p (ADWINChangeDetector -a 0.01))'\n",
    "buffer_learner = f'(meta.AdaptiveRandomForest -x (ADWINChangeDetector -a 0.001) -p (ADWINChangeDetector -a 0.01))'\n",
    "stream = f'(ArffFileStream -f {file})'\n",
    "\n",
    "\n",
    "w = 200\n",
    "i = 5400\n",
    "f = 200\n",
    "q = 200\n",
    "def generate_command(n, extractor , cluster_num, cluster_type='clustree', buffer_type = 'random', r = 1, target_dir = ''):\n",
    "    pathlib.Path(f'runs/tuning/{target_dir}').mkdir(parents=True, exist_ok=True)\n",
    "    \n",
    "    target_file = f'runs/tuning/{target_dir}wisdm_{extractor}_{n}_{cluster_num}_{cluster_type}_{buffer_type}_{int(r*100)}.csv'\n",
    "    start_cmd = f'{task} -l ({learner} -l {buffer_learner} -n {n} -m {relevance_learner}'\n",
    "    end_cmd = f') -s {stream} -e (WindowClassificationPerformanceEvaluator -w {w}) -i {i} -f {f} -q {q} -d {target_file}'\n",
    "    cmd = f'{start_cmd} -c {extractor} -r {r} -b {buffer_type} -p -1 -q {cluster_type} -x {cluster_num}{end_cmd}'\n",
    "    cmd = cmd.replace(\"\\\\\",\"/\")\n",
    "    return cmd"
   ]
  },
  {
   "cell_type": "code",
   "execution_count": 7,
   "metadata": {},
   "outputs": [
    {
     "data": {
      "text/plain": [
       "'EvaluatePrequential -l (BufferLearner -l (meta.AdaptiveRandomForest -x (ADWINChangeDetector -a 0.001) -p (ADWINChangeDetector -a 0.01)) -n 10 -m (meta.AdaptiveRandomForestRegressor -x (ADWINChangeDetector -a 0.001) -p (ADWINChangeDetector -a 0.01)) -c cluster -r 1 -b random -p -1 -q clustree -x 8) -s (ArffFileStream -f C:/Users/kosma/Desktop/MAGISTER/FeatExtream/data/wisdm.arff) -e (WindowClassificationPerformanceEvaluator -w 200) -i 5400 -f 200 -q 200 -d runs/tuning/wisdm/buffer/wisdm_cluster_10_8_clustree_random_100.csv'"
      ]
     },
     "execution_count": 7,
     "metadata": {},
     "output_type": "execute_result"
    }
   ],
   "source": [
    "generate_command(10, 'cluster', 8, 'clustree', target_dir = 'wisdm/buffer/')"
   ]
  },
  {
   "cell_type": "code",
   "execution_count": 8,
   "metadata": {},
   "outputs": [
    {
     "name": "stdout",
     "output_type": "stream",
     "text": [
      "Running with n = 1\n",
      "Running with n = 5\n",
      "Running with n = 10\n",
      "Running with n = 25\n",
      "Running with n = 50\n",
      "Running with n = 100\n"
     ]
    }
   ],
   "source": [
    "max_together = 10\n",
    "for n in [1,5,10,25,50,100]:\n",
    "    cmd = generate_command(n, 'cluster', 8, 'clustree', target_dir = 'wisdm/buffer/')\n",
    "    print(f\"Running with n = {n}\")\n",
    "    out = run_command(cmd,f'wisdm_cluster_n{n}')\n",
    "    outs.append(out)\n",
    "\n",
    "    if len(outs) >= max_together:\n",
    "        outs[len(outs) - max_together].communicate()"
   ]
  },
  {
   "cell_type": "code",
   "execution_count": 9,
   "metadata": {},
   "outputs": [
    {
     "name": "stdout",
     "output_type": "stream",
     "text": [
      "Running with n = 1\n",
      "Running with n = 5\n",
      "Running with n = 10\n",
      "Running with n = 25\n",
      "Running with n = 50\n",
      "Running with n = 100\n"
     ]
    }
   ],
   "source": [
    "max_together = 10\n",
    "for n in [1,5,10,25,50,100]:\n",
    "    cmd = generate_command(n, 'cep', 8, 'clustree', target_dir = 'wisdm/buffer/')\n",
    "    print(f\"Running with n = {n}\")\n",
    "    out = run_command(cmd,f'wisdm_cep_n{n}')\n",
    "    outs.append(out)\n",
    "\n",
    "    if len(outs) >= max_together:\n",
    "        outs[len(outs) - max_together].communicate()"
   ]
  },
  {
   "cell_type": "code",
   "execution_count": 10,
   "metadata": {},
   "outputs": [
    {
     "name": "stdout",
     "output_type": "stream",
     "text": [
      "Running with c = 2\n",
      "Running with c = 3\n",
      "Running with c = 4\n",
      "Running with c = 6\n"
     ]
    }
   ],
   "source": [
    "max_together = 10\n",
    "for c in [3,4,6]:\n",
    "    cmd = generate_command(1, 'cep', c, 'clustree', target_dir = 'wisdm/buffer/')\n",
    "    print(f\"Running with c = {c}\")\n",
    "    out = run_command(cmd,f'wisdm_cep_c{n}')\n",
    "    outs.append(out)\n",
    "\n",
    "    if len(outs) >= max_together:\n",
    "        outs[len(outs) - max_together].communicate()\n",
    "for c in [3,4,6]:\n",
    "    cmd = generate_command(1, 'cep', c, 'clustream', target_dir = 'wisdm/buffer/')\n",
    "    print(f\"Running with c = {c}\")\n",
    "    out = run_command(cmd,f'wisdm_cep_c{n}')\n",
    "    outs.append(out)\n",
    "\n",
    "    if len(outs) >= max_together:\n",
    "        outs[len(outs) - max_together].communicate()"
   ]
  },
  {
   "cell_type": "code",
   "execution_count": 22,
   "metadata": {},
   "outputs": [
    {
     "data": {
      "text/plain": [
       "<subprocess.Popen at 0x2162ecc7860>"
      ]
     },
     "execution_count": 22,
     "metadata": {},
     "output_type": "execute_result"
    }
   ],
   "source": [
    "run_command(cmd,f'tss_{1}')"
   ]
  },
  {
   "cell_type": "code",
   "execution_count": 13,
   "metadata": {},
   "outputs": [
    {
     "name": "stdout",
     "output_type": "stream",
     "text": [
      "Running with c = 4\n",
      "Running with c = 6\n",
      "Running with c = 4\n",
      "Running with c = 6\n"
     ]
    }
   ],
   "source": [
    "max_together = 10\n",
    "for c in [4,6]:\n",
    "    cmd = generate_command(1, 'cluster', c, 'clustree', target_dir = 'wisdm/buffer/')\n",
    "    print(f\"Running with c = {c}\")\n",
    "    out = run_command(cmd,f'wisdm_cluster_c{c}')\n",
    "    outs.append(out)\n",
    "\n",
    "    if len(outs) >= max_together:\n",
    "        outs[len(outs) - max_together].communicate()\n",
    "for c in [4,6]:\n",
    "    cmd = generate_command(1, 'cluster', c, 'clustream', target_dir = 'wisdm/buffer/')\n",
    "    print(f\"Running with c = {c}\")\n",
    "    out = run_command(cmd,f'wisdm_cluster_c2{c}')\n",
    "    outs.append(out)\n",
    "\n",
    "    if len(outs) >= max_together:\n",
    "        outs[len(outs) - max_together].communicate()"
   ]
  },
  {
   "cell_type": "code",
   "execution_count": 14,
   "metadata": {},
   "outputs": [
    {
     "name": "stdout",
     "output_type": "stream",
     "text": [
      "Running with c = 4\n",
      "Running with c = 6\n",
      "Running with c = 4\n",
      "Running with c = 6\n"
     ]
    }
   ],
   "source": [
    "max_together = 10\n",
    "for c in [4,6]:\n",
    "    cmd = generate_command(1, 'featureExtraction', c, 'clustree', target_dir = 'wisdm/buffer/')\n",
    "    print(f\"Running with c = {c}\")\n",
    "    out = run_command(cmd,f'wisdm_featureExtraction_c{c}')\n",
    "    outs.append(out)\n",
    "\n",
    "    if len(outs) >= max_together:\n",
    "        outs[len(outs) - max_together].communicate()\n",
    "for c in [4,6]:\n",
    "    cmd = generate_command(1, 'featureExtraction', c, 'clustream', target_dir = 'wisdm/buffer/')\n",
    "    print(f\"Running with c = {c}\")\n",
    "    out = run_command(cmd,f'wisdm_featureExtraction_c2{c}')\n",
    "    outs.append(out)\n",
    "\n",
    "    if len(outs) >= max_together:\n",
    "        outs[len(outs) - max_together].communicate()"
   ]
  },
  {
   "cell_type": "code",
   "execution_count": 16,
   "metadata": {},
   "outputs": [
    {
     "name": "stdout",
     "output_type": "stream",
     "text": [
      "Running with r = 0.1\n",
      "Running with r = 0.25\n",
      "Running with r = 0.5\n"
     ]
    }
   ],
   "source": [
    "for r in rs:\n",
    "    cmd = generate_command(1, 'featureExtraction', c, 'clustree', buffer_type='relevance', r=r, target_dir = 'wisdm/buffer/')\n",
    "\n",
    "    print(f\"Running with r = {r}\")\n",
    "    out = run_command(cmd,f'featureExtractionp_r2{r}')\n",
    "    outs.append(out)\n",
    "\n",
    "    if len(outs) >= max_together:\n",
    "        outs[len(outs) - max_together].communicate()"
   ]
  },
  {
   "cell_type": "code",
   "execution_count": 17,
   "metadata": {},
   "outputs": [
    {
     "name": "stdout",
     "output_type": "stream",
     "text": [
      "Running with r = 0.1\n",
      "Running with r = 0.25\n",
      "Running with r = 0.5\n"
     ]
    }
   ],
   "source": [
    "for r in rs:\n",
    "    cmd = generate_command(1, 'featureExtraction', c, 'clustree', buffer_type='random', r=r, target_dir = 'wisdm/buffer/')\n",
    "\n",
    "    print(f\"Running with r = {r}\")\n",
    "    out = run_command(cmd,f'featureExtractionp_r{r}')\n",
    "    outs.append(out)\n",
    "\n",
    "    if len(outs) >= max_together:\n",
    "        outs[len(outs) - max_together].communicate()"
   ]
  },
  {
   "cell_type": "code",
   "execution_count": null,
   "metadata": {},
   "outputs": [],
   "source": [
    "max_together = 10\n",
    "for r in [0.1,0.25,0.5]:\n",
    "    cmd = generate_command(1, 'featureExtraction', c, 'clustree', target_dir = 'wisdm/buffer/')\n",
    "    print(f\"Running with c = {c}\")\n",
    "    out = run_command(cmd,f'wisdm_featureExtraction_c{c}')\n",
    "    outs.append(out)\n",
    "\n",
    "    if len(outs) >= max_together:\n",
    "        outs[len(outs) - max_together].communicate()\n",
    "for c in [4,6]:\n",
    "    cmd = generate_command(1, 'featureExtraction', c, 'clustream', target_dir = 'wisdm/buffer/')\n",
    "    print(f\"Running with c = {c}\")\n",
    "    out = run_command(cmd,f'wisdm_featureExtraction_c2{c}')\n",
    "    outs.append(out)\n",
    "\n",
    "    if len(outs) >= max_together:\n",
    "        outs[len(outs) - max_together].communicate()"
   ]
  },
  {
   "cell_type": "code",
   "execution_count": 18,
   "metadata": {},
   "outputs": [],
   "source": [
    "file =  r'C:\\Users\\kosma\\Desktop\\MAGISTER\\FeatExtream\\data\\electricity_arff.arff'\n",
    "task = 'EvaluatePrequential'\n",
    "learner = 'BufferLearner'\n",
    "\n",
    "relevance_learner = '(meta.AdaptiveRandomForestRegressor -x (ADWINChangeDetector -a 0.001) -p (ADWINChangeDetector -a 0.01))'\n",
    "buffer_learner = f'(meta.AdaptiveRandomForest -x (ADWINChangeDetector -a 0.001) -p (ADWINChangeDetector -a 0.01))'\n",
    "stream = f'(ArffFileStream -f {file})'\n",
    "\n",
    "\n",
    "i = 45000\n",
    "f = 1000\n",
    "q = 1000\n",
    "def generate_command(n, extractor , cluster_num, cluster_type='clustree', buffer_type = 'random', r = 1, target_dir = ''):\n",
    "    pathlib.Path(f'runs/tuning/{target_dir}').mkdir(parents=True, exist_ok=True)\n",
    "    \n",
    "    target_file = f'runs/tuning/{target_dir}wisdm_{extractor}_{n}_{cluster_num}_{cluster_type}_{buffer_type}_{int(r*100)}.csv'\n",
    "    start_cmd = f'{task} -l ({learner} -l {buffer_learner} -n {n} -m {relevance_learner}'\n",
    "    end_cmd = f') -s {stream} -i {i} -f {f} -q {q} -d {target_file}'\n",
    "    cmd = f'{start_cmd} -c {extractor} -r {r} -b {buffer_type} -p -1 -q {cluster_type} -x {cluster_num}{end_cmd}'\n",
    "    cmd = cmd.replace(\"\\\\\",\"/\")\n",
    "    return cmd"
   ]
  },
  {
   "cell_type": "code",
   "execution_count": 19,
   "metadata": {},
   "outputs": [
    {
     "name": "stdout",
     "output_type": "stream",
     "text": [
      "Running with n = 1\n",
      "Running with n = 5\n",
      "Running with n = 10\n"
     ]
    }
   ],
   "source": [
    "max_together = 10\n",
    "for n in [1,5,10]:\n",
    "    cmd = generate_command(n, 'cluster', 8, 'clustree', target_dir = 'electricity/buffer/')\n",
    "    print(f\"Running with n = {n}\")\n",
    "    out = run_command(cmd,f'wisdm_cluster_n{n}')\n",
    "    outs.append(out)\n",
    "\n",
    "    if len(outs) >= max_together:\n",
    "        outs[len(outs) - max_together].communicate()"
   ]
  },
  {
   "cell_type": "code",
   "execution_count": 21,
   "metadata": {},
   "outputs": [
    {
     "name": "stdout",
     "output_type": "stream",
     "text": [
      "Running with n = 1\n",
      "Running with n = 3\n",
      "Running with n = 5\n",
      "Running with n = 10\n"
     ]
    }
   ],
   "source": [
    "max_together = 10\n",
    "for n in [1,3,5,10]:\n",
    "    cmd = generate_command(n, 'cep', 4, 'clustream', target_dir = 'electricity/buffer/')\n",
    "    print(f\"Running with n = {n}\")\n",
    "    out = run_command(cmd,f'wisdm_cep_n{n}')\n",
    "    outs.append(out)\n",
    "\n",
    "    if len(outs) >= max_together:\n",
    "        outs[len(outs) - max_together].communicate()"
   ]
  },
  {
   "cell_type": "code",
   "execution_count": 22,
   "metadata": {},
   "outputs": [
    {
     "name": "stdout",
     "output_type": "stream",
     "text": [
      "Running with n = 1\n",
      "Running with n = 3\n",
      "Running with n = 5\n",
      "Running with n = 10\n"
     ]
    }
   ],
   "source": [
    "max_together = 10\n",
    "for n in [1,3,5, 10]:\n",
    "    cmd = generate_command(n, 'featureExtraction', 4, 'clustream', target_dir = 'electricity/buffer/')\n",
    "    print(f\"Running with n = {n}\")\n",
    "    out = run_command(cmd,f'wisdm_featureExtraction_n{n}')\n",
    "    outs.append(out)\n",
    "\n",
    "    if len(outs) >= max_together:\n",
    "        outs[len(outs) - max_together].communicate()"
   ]
  },
  {
   "cell_type": "code",
   "execution_count": 29,
   "metadata": {},
   "outputs": [],
   "source": [
    "task = 'EvaluatePrequential'\n",
    "learner = 'BufferLearner'\n",
    "\n",
    "relevance_learner = '(meta.AdaptiveRandomForestRegressor -x (ADWINChangeDetector -a 0.001) -p (ADWINChangeDetector -a 0.01))'\n",
    "buffer_learner = f'lazy.SAMkNN'\n",
    "stream = f'generators.RandomRBFGenerator'\n",
    "\n",
    "\n",
    "i = 50000\n",
    "f = 1000\n",
    "q = 1000\n",
    "def generate_command(n, extractor , cluster_num, cluster_type='clustree', buffer_type = 'random', r = 1, target_dir = ''):\n",
    "    pathlib.Path(f'runs/tuning/{target_dir}').mkdir(parents=True, exist_ok=True)\n",
    "    \n",
    "    target_file = f'runs/tuning/{target_dir}wisdm_{extractor}_{n}_{cluster_num}_{cluster_type}_{buffer_type}_{int(r*100)}.csv'\n",
    "    start_cmd = f'{task} -l ({learner} -l {buffer_learner} -n {n} -m {relevance_learner}'\n",
    "    end_cmd = f') -s {stream} -i {i} -f {f} -q {q} -d {target_file}'\n",
    "    cmd = f'{start_cmd} -c {extractor} -r {r} -b {buffer_type} -p -1 -q {cluster_type} -x {cluster_num}{end_cmd}'\n",
    "    cmd = cmd.replace(\"\\\\\",\"/\")\n",
    "    return cmd"
   ]
  },
  {
   "cell_type": "code",
   "execution_count": 30,
   "metadata": {},
   "outputs": [
    {
     "name": "stdout",
     "output_type": "stream",
     "text": [
      "Running with n = 10\n"
     ]
    }
   ],
   "source": [
    "max_together = 10\n",
    "for n in [10]:\n",
    "    cmd = generate_command(n, 'featureExtraction', 4, 'clustream', target_dir = 'generated/buffer/')\n",
    "    print(f\"Running with n = {n}\")\n",
    "    out = run_command(cmd,f'generated_featureExtraction_n{n}')\n",
    "    outs.append(out)\n",
    "\n",
    "    if len(outs) >= max_together:\n",
    "        outs[len(outs) - max_together].communicate()"
   ]
  },
  {
   "cell_type": "code",
   "execution_count": 31,
   "metadata": {},
   "outputs": [
    {
     "name": "stdout",
     "output_type": "stream",
     "text": [
      "Running with n = 10\n"
     ]
    }
   ],
   "source": [
    "max_together = 10\n",
    "for n in [10]:\n",
    "    cmd = generate_command(n, 'cep', 4, 'clustream', target_dir = 'generated/buffer/')\n",
    "    print(f\"Running with n = {n}\")\n",
    "    out = run_command(cmd,f'generated_cep_n{n}')\n",
    "    outs.append(out)\n",
    "\n",
    "    if len(outs) >= max_together:\n",
    "        outs[len(outs) - max_together].communicate()"
   ]
  },
  {
   "cell_type": "code",
   "execution_count": 32,
   "metadata": {},
   "outputs": [
    {
     "name": "stdout",
     "output_type": "stream",
     "text": [
      "Running with n = 10\n"
     ]
    }
   ],
   "source": [
    "max_together = 10\n",
    "for n in [10]:\n",
    "    cmd = generate_command(n, 'cluster', 6, 'clustree', target_dir = 'generated/buffer/')\n",
    "    print(f\"Running with n = {n}\")\n",
    "    out = run_command(cmd,f'generated_cluster_n{n}')\n",
    "    outs.append(out)\n",
    "\n",
    "    if len(outs) >= max_together:\n",
    "        outs[len(outs) - max_together].communicate()"
   ]
  },
  {
   "cell_type": "code",
   "execution_count": 9,
   "metadata": {},
   "outputs": [],
   "source": [
    "task = 'EvaluatePrequential'\n",
    "learner = 'BufferLearner'\n",
    "\n",
    "relevance_learner = '(meta.AdaptiveRandomForestRegressor -x (ADWINChangeDetector -a 0.001) -p (ADWINChangeDetector -a 0.01))'\n",
    "buffer_learner = f'meta.OzaBagAdwin'\n",
    "stream = f'generators.HyperplaneGenerator'\n",
    "\n",
    "\n",
    "i = 50000\n",
    "f = 1000\n",
    "q = 1000\n",
    "def generate_command(n, extractor , cluster_num, cluster_type='clustree', buffer_type = 'random', r = 1, target_dir = ''):\n",
    "    pathlib.Path(f'runs/tuning/{target_dir}').mkdir(parents=True, exist_ok=True)\n",
    "    \n",
    "    target_file = f'runs/tuning/{target_dir}hyperplane_{extractor}_{n}_{cluster_num}_{cluster_type}_{buffer_type}_{int(r*100)}.csv'\n",
    "    start_cmd = f'{task} -l ({learner} -l {buffer_learner} -n {n} -m {relevance_learner}'\n",
    "    end_cmd = f') -s {stream} -i {i} -f {f} -q {q} -d {target_file}'\n",
    "    cmd = f'{start_cmd} -c {extractor} -r {r} -b {buffer_type} -p -1 -q {cluster_type} -x {cluster_num}{end_cmd}'\n",
    "    cmd = cmd.replace(\"\\\\\",\"/\")\n",
    "    return cmd"
   ]
  },
  {
   "cell_type": "code",
   "execution_count": 34,
   "metadata": {},
   "outputs": [
    {
     "name": "stdout",
     "output_type": "stream",
     "text": [
      "Running with n = 10\n",
      "Running with n = 10\n",
      "Running with n = 10\n"
     ]
    }
   ],
   "source": [
    "max_together = 10\n",
    "for t in ['cluster', 'cep', 'featureExtraction']:\n",
    "    cmd = generate_command(10, t, 6, 'clustree', target_dir = 'generated/buffer/')\n",
    "    print(f\"Running with n = {n}\")\n",
    "    out = run_command(cmd,f'generated_{t}_n{10}')\n",
    "    outs.append(out)\n",
    "\n",
    "    if len(outs) >= max_together:\n",
    "        outs[len(outs) - max_together].communicate()"
   ]
  },
  {
   "cell_type": "code",
   "execution_count": 36,
   "metadata": {},
   "outputs": [],
   "source": [
    "task = 'EvaluatePrequential'\n",
    "learner = 'BufferLearner'\n",
    "\n",
    "relevance_learner = '(meta.AdaptiveRandomForestRegressor -x (ADWINChangeDetector -a 0.001) -p (ADWINChangeDetector -a 0.01))'\n",
    "buffer_learner = f'meta.OzaBagAdwin'\n",
    "stream = f'generators.LEDGenerator'\n",
    "\n",
    "\n",
    "i = 50000\n",
    "f = 1000\n",
    "q = 1000\n",
    "def generate_command(n, extractor , cluster_num, cluster_type='clustree', buffer_type = 'random', r = 1, target_dir = ''):\n",
    "    pathlib.Path(f'runs/tuning/{target_dir}').mkdir(parents=True, exist_ok=True)\n",
    "    \n",
    "    target_file = f'runs/tuning/{target_dir}led_{extractor}_{n}_{cluster_num}_{cluster_type}_{buffer_type}_{int(r*100)}.csv'\n",
    "    start_cmd = f'{task} -l ({learner} -l {buffer_learner} -n {n} -m {relevance_learner}'\n",
    "    end_cmd = f') -s {stream} -i {i} -f {f} -q {q} -d {target_file}'\n",
    "    cmd = f'{start_cmd} -c {extractor} -r {r} -b {buffer_type} -p -1 -q {cluster_type} -x {cluster_num}{end_cmd}'\n",
    "    cmd = cmd.replace(\"\\\\\",\"/\")\n",
    "    return cmd"
   ]
  },
  {
   "cell_type": "code",
   "execution_count": 10,
   "metadata": {},
   "outputs": [
    {
     "name": "stdout",
     "output_type": "stream",
     "text": [
      "Running with n = 100\n",
      "Running with n = 100\n",
      "Running with n = 100\n"
     ]
    }
   ],
   "source": [
    "max_together = 10\n",
    "for t in ['cluster', 'cep', 'featureExtraction']:\n",
    "    cmd = generate_command(10, t, 6, 'clustree', target_dir = 'generated/buffer/')\n",
    "    print(f\"Running with n = {n}\")\n",
    "    out = run_command(cmd,f'led_{t}_n{10}')\n",
    "    outs.append(out)\n",
    "\n",
    "    if len(outs) >= max_together:\n",
    "        outs[len(outs) - max_together].communicate()"
   ]
  },
  {
   "cell_type": "code",
   "execution_count": null,
   "metadata": {},
   "outputs": [],
   "source": []
  }
 ],
 "metadata": {
  "kernelspec": {
   "display_name": "local-venv",
   "language": "python",
   "name": "local-venv"
  },
  "language_info": {
   "codemirror_mode": {
    "name": "ipython",
    "version": 3
   },
   "file_extension": ".py",
   "mimetype": "text/x-python",
   "name": "python",
   "nbconvert_exporter": "python",
   "pygments_lexer": "ipython3",
   "version": "3.7.0"
  }
 },
 "nbformat": 4,
 "nbformat_minor": 2
}
