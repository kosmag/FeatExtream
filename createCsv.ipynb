{
 "cells": [
  {
   "cell_type": "code",
   "execution_count": 1,
   "metadata": {},
   "outputs": [],
   "source": [
    "import math\n",
    "import pandas as pd\n",
    "import numpy as np\n",
    "from datetime import datetime"
   ]
  },
  {
   "cell_type": "code",
   "execution_count": 2,
   "metadata": {},
   "outputs": [],
   "source": [
    "pd.set_option('display.max_columns', None)"
   ]
  },
  {
   "cell_type": "code",
   "execution_count": 3,
   "metadata": {},
   "outputs": [],
   "source": [
    "vavel_header_raw = \"versionID;line;brigade;time;lon;lat;rawLon;rawLat;status;delay;delayAtStop;plannedLeaveTime;nearestStop;nearestStopDistance;nearestStopLon;nearestStopLat;previousStop;previousStopLon;previousStopLat;previousStopDistance;previousStopArrivalTime;previousStopLeaveTime;nextStop;nextStopLon;nextStopLat;nextStopDistance;nextStopTimetableVisitTime;courseIdentifier;courseDirection;timetableIdentifier;timetableStatus;receivedTime;processingFinishedTime;onWayToDepot;overlapsWithNextBrigade;overlapsWithNextBrigadeStopLineBrigade;atStop;speed;oldDelay;serverId;delayAtStopStopSequence;previousStopStopSequence;nextStopStopSequence;delayAtStopStopId;previousStopStopId;nextStopStopId\"\n",
    "vavel_header = vavel_header_raw.split(\";\")"
   ]
  },
  {
   "cell_type": "code",
   "execution_count": 4,
   "metadata": {},
   "outputs": [],
   "source": [
    "paths = [\n",
    "    r'C:\\Users\\kosma\\Desktop\\MAGISTER\\VAVEL\\2018-05-23',\n",
    "    r'C:\\Users\\kosma\\Desktop\\MAGISTER\\VAVEL\\2018-05-24',\n",
    "    r'C:\\Users\\kosma\\Desktop\\MAGISTER\\VAVEL\\2018-05-25',\n",
    "] # use your path"
   ]
  },
  {
   "cell_type": "code",
   "execution_count": 5,
   "metadata": {},
   "outputs": [
    {
     "name": "stderr",
     "output_type": "stream",
     "text": [
      "c:\\users\\kosma\\desktop\\magister\\featextream\\venv\\lib\\site-packages\\IPython\\core\\interactiveshell.py:3170: DtypeWarning: Columns (2) have mixed types.Specify dtype option on import or set low_memory=False.\n",
      "  interactivity=interactivity, compiler=compiler, result=result)\n"
     ]
    }
   ],
   "source": [
    "import glob\n",
    "\n",
    "\n",
    "li = []\n",
    "all_files = []\n",
    "for path in paths:\n",
    "    all_files += glob.glob(path + \"/*\")\n",
    "    \n",
    "for filename in all_files:\n",
    "    df = pd.read_csv(filename, index_col=None, names=vavel_header, sep = ';')\n",
    "    li.append(df)\n",
    "\n",
    "frame = pd.concat(li, axis=0, ignore_index=True)\n",
    "li = []"
   ]
  },
  {
   "cell_type": "code",
   "execution_count": 6,
   "metadata": {},
   "outputs": [
    {
     "data": {
      "text/plain": [
       "versionID                                 3679158\n",
       "line                                      3679158\n",
       "brigade                                   3679158\n",
       "time                                      3679158\n",
       "lon                                       3679158\n",
       "lat                                       3679158\n",
       "rawLon                                    3679158\n",
       "rawLat                                    3679158\n",
       "status                                    3679158\n",
       "delay                                     3679158\n",
       "delayAtStop                               3590452\n",
       "plannedLeaveTime                          3590452\n",
       "nearestStop                               3592128\n",
       "nearestStopDistance                       3679158\n",
       "nearestStopLon                            3679158\n",
       "nearestStopLat                            3679158\n",
       "previousStop                              3590945\n",
       "previousStopLon                           3679158\n",
       "previousStopLat                           3679158\n",
       "previousStopDistance                      3679158\n",
       "previousStopArrivalTime                   3582137\n",
       "previousStopLeaveTime                     3582137\n",
       "nextStop                                  3591489\n",
       "nextStopLon                               3591489\n",
       "nextStopLat                               3591489\n",
       "nextStopDistance                          3679158\n",
       "nextStopTimetableVisitTime                3591489\n",
       "courseIdentifier                          3592128\n",
       "courseDirection                           3592128\n",
       "timetableIdentifier                       3592128\n",
       "timetableStatus                           3679158\n",
       "receivedTime                              3679158\n",
       "processingFinishedTime                    3679158\n",
       "onWayToDepot                              3679158\n",
       "overlapsWithNextBrigade                   3679158\n",
       "overlapsWithNextBrigadeStopLineBrigade     245711\n",
       "atStop                                    3679158\n",
       "speed                                     3677226\n",
       "oldDelay                                  3679158\n",
       "serverId                                  3679158\n",
       "delayAtStopStopSequence                   3590452\n",
       "previousStopStopSequence                  3590945\n",
       "nextStopStopSequence                      3591489\n",
       "delayAtStopStopId                         3590452\n",
       "previousStopStopId                        3590945\n",
       "nextStopStopId                            3591489\n",
       "dtype: int64"
      ]
     },
     "execution_count": 6,
     "metadata": {},
     "output_type": "execute_result"
    }
   ],
   "source": [
    "frame.count()"
   ]
  },
  {
   "cell_type": "code",
   "execution_count": 4,
   "metadata": {},
   "outputs": [],
   "source": [
    "#  frame = pd.read_csv(r'C:\\Users\\kosma\\Desktop\\MAGISTER\\VAVEL\\2018-05-23\\part-0-0', index_col=None, names=vavel_header, sep = ';')"
   ]
  },
  {
   "cell_type": "code",
   "execution_count": 11,
   "metadata": {},
   "outputs": [],
   "source": [
    "drop_columns = ['versionID', 'rawLon', 'rawLat', 'receivedTime', 'processingFinishedTime','overlapsWithNextBrigadeStopLineBrigade', 'onWayToDepot', 'timetableIdentifier', 'serverId']\n",
    "time_columns = ['time','plannedLeaveTime', 'previousStopArrivalTime', 'previousStopLeaveTime', 'nextStopTimetableVisitTime']"
   ]
  },
  {
   "cell_type": "code",
   "execution_count": 12,
   "metadata": {},
   "outputs": [],
   "source": [
    "frame.drop(columns = drop_columns, inplace=True)"
   ]
  },
  {
   "cell_type": "code",
   "execution_count": 13,
   "metadata": {},
   "outputs": [],
   "source": [
    "for col in time_columns:\n",
    "    frame[col] = pd.to_numeric(pd.to_datetime(frame[col], errors='coerce')) // 10**9"
   ]
  },
  {
   "cell_type": "code",
   "execution_count": 10,
   "metadata": {},
   "outputs": [],
   "source": [
    "# frame[frame['courseIdentifier'] == '9_12_218_2403'][['time', 'previousStopArrivalTime', 'previousStopLeaveTime','nextStopTimetableVisitTime', 'delayAtStopStopSequence','previousStopStopSequence','nextStopStopSequence','delay', 'oldDelay']].to_csv('analysis.csv')"
   ]
  },
  {
   "cell_type": "code",
   "execution_count": 11,
   "metadata": {},
   "outputs": [],
   "source": [
    "# frame[(frame['courseIdentifier'] ==  '9_021_218_2343') |  (frame['courseIdentifier'] == '9_021_218_2446')][['courseIdentifier','time', 'previousStopArrivalTime', 'previousStopLeaveTime','nextStopTimetableVisitTime', 'delayAtStopStopSequence','previousStopStopSequence','nextStopStopSequence','delay', 'oldDelay']].to_csv('tworides.csv')"
   ]
  },
  {
   "cell_type": "code",
   "execution_count": 14,
   "metadata": {},
   "outputs": [],
   "source": [
    "polishLetterColumns  = ['delayAtStop','nearestStop','previousStop','nextStop','courseDirection']\n",
    "floorColumns = ['status','courseIdentifier','delayAtStopStopId','previousStopStopId','nextStopStopId']\n",
    "transColumns = polishLetterColumns + floorColumns"
   ]
  },
  {
   "cell_type": "code",
   "execution_count": 15,
   "metadata": {},
   "outputs": [],
   "source": [
    "translateFromChars = 'ąćęłńóśźż_\"'\n",
    "translateToChars = 'acelnoszz- '\n",
    "transTable = str.maketrans(translateFromChars,translateToChars)"
   ]
  },
  {
   "cell_type": "code",
   "execution_count": 16,
   "metadata": {},
   "outputs": [],
   "source": [
    "for column in transColumns:\n",
    "    frame[column] = frame[column].str.lower().str.translate(transTable)"
   ]
  },
  {
   "cell_type": "code",
   "execution_count": 17,
   "metadata": {},
   "outputs": [],
   "source": [
    "frame[\"id1\"]  = frame[\"line\"].astype(str) + \"--\" + frame[\"brigade\"].astype(str)"
   ]
  },
  {
   "cell_type": "code",
   "execution_count": 31,
   "metadata": {},
   "outputs": [],
   "source": [
    "slices = 25\n",
    "eps = 1e-4\n",
    "max_lon = 21.1203908 #frame['lon'].max() + eps\n",
    "min_lon = 20.9059783 #frame['lon'].min() - eps\n",
    "max_lat = 52.3344658 #frame['lat'].max() + eps\n",
    "min_lat = 52.1755439 #frame['lat'].min() - eps\n",
    "\n",
    "lon_space = [0] + list(np.linspace(min_lon,max_lon,slices+1)) + [360]\n",
    "lat_space = [0] + list(np.linspace(min_lat,max_lat,slices+1)) + [360]\n"
   ]
  },
  {
   "cell_type": "code",
   "execution_count": 34,
   "metadata": {},
   "outputs": [],
   "source": [
    "quadrant_df = pd.DataFrame(data= {\n",
    "    'lonMin': lon_space[:-1], 'lonMax': lon_space[1:],\n",
    "    'latMin': lat_space[:-1], 'latMax': lat_space[1:],\n",
    "    'id': range(0,slices + 2)\n",
    "})"
   ]
  },
  {
   "cell_type": "code",
   "execution_count": 36,
   "metadata": {},
   "outputs": [],
   "source": [
    "intervals_lon = quadrant_df.set_index(pd.IntervalIndex.from_arrays(quadrant_df['lonMin'], \n",
    "                                                             quadrant_df['lonMax']))['id']\n",
    "intervals_lat = quadrant_df.set_index(pd.IntervalIndex.from_arrays(quadrant_df['latMin'], \n",
    "                                                             quadrant_df['latMax']))['id']\n",
    "frame[\"lonSlice\"]  = frame['lon'].map(intervals_lon)\n",
    "frame[\"latSlice\"]  = frame['lat'].map(intervals_lat)"
   ]
  },
  {
   "cell_type": "code",
   "execution_count": 37,
   "metadata": {},
   "outputs": [],
   "source": [
    "\n",
    "\n",
    "frame[\"quadrant\"] = frame[\"lonSlice\"].astype(str) + \"--\" + frame[\"latSlice\"].astype(str)"
   ]
  },
  {
   "cell_type": "code",
   "execution_count": 38,
   "metadata": {},
   "outputs": [],
   "source": [
    "frame[\"labelId\"] = frame[\"courseIdentifier\"].astype(str) + \"--\" + frame[\"nextStopStopSequence\"].astype(str)"
   ]
  },
  {
   "cell_type": "code",
   "execution_count": 39,
   "metadata": {},
   "outputs": [],
   "source": [
    "partitionKey = ['courseIdentifier','nextStopStopSequence']\n",
    "\n",
    "\n",
    "frame['rowNo'] = frame.sort_values(['time'], ascending=False)\\\n",
    "             .groupby(partitionKey)\\\n",
    "             .cumcount() + 1\n",
    "\n"
   ]
  },
  {
   "cell_type": "code",
   "execution_count": 40,
   "metadata": {},
   "outputs": [],
   "source": [
    "frame = frame.fillna(-1)"
   ]
  },
  {
   "cell_type": "code",
   "execution_count": 41,
   "metadata": {},
   "outputs": [],
   "source": [
    "frame['label'] = np.nan\n",
    "\n",
    "frame['label'] = frame[frame['rowNo'] == 1].sort_values(by=['time'], ascending=True)\\\n",
    "                       .groupby(['courseIdentifier'])['oldDelay'].shift(-1)\n"
   ]
  },
  {
   "cell_type": "code",
   "execution_count": 24,
   "metadata": {},
   "outputs": [],
   "source": [
    "# frame[(frame['courseIdentifier'] ==  '9_021_218_2343') |  (frame['courseIdentifier'] == '9_021_218_2446')][['courseIdentifier','time', 'previousStopArrivalTime', 'nextStopTimetableVisitTime', 'delayAtStopStopSequence','previousStopStopSequence','nextStopStopSequence','delay', 'oldDelay','rowNo','label']].to_csv('tworides.csv')"
   ]
  },
  {
   "cell_type": "code",
   "execution_count": 42,
   "metadata": {},
   "outputs": [],
   "source": [
    "frame.to_csv('result.csv', sep = ';', na_rep='?', index=False)"
   ]
  },
  {
   "cell_type": "code",
   "execution_count": 43,
   "metadata": {},
   "outputs": [],
   "source": [
    "frame[~frame['label'].isna()].to_csv('result_sup.csv', sep = ';', na_rep='?', index=False)"
   ]
  },
  {
   "cell_type": "code",
   "execution_count": 44,
   "metadata": {
    "scrolled": true
   },
   "outputs": [
    {
     "name": "stdout",
     "output_type": "stream",
     "text": [
      "<class 'pandas.core.frame.DataFrame'>\n",
      "RangeIndex: 3679158 entries, 0 to 3679157\n",
      "Data columns (total 44 columns):\n",
      " #   Column                      Dtype  \n",
      "---  ------                      -----  \n",
      " 0   line                        int64  \n",
      " 1   brigade                     object \n",
      " 2   time                        int64  \n",
      " 3   lon                         float64\n",
      " 4   lat                         float64\n",
      " 5   status                      object \n",
      " 6   delay                       float64\n",
      " 7   delayAtStop                 object \n",
      " 8   plannedLeaveTime            int64  \n",
      " 9   nearestStop                 object \n",
      " 10  nearestStopDistance         float64\n",
      " 11  nearestStopLon              float64\n",
      " 12  nearestStopLat              float64\n",
      " 13  previousStop                object \n",
      " 14  previousStopLon             float64\n",
      " 15  previousStopLat             float64\n",
      " 16  previousStopDistance        float64\n",
      " 17  previousStopArrivalTime     int64  \n",
      " 18  previousStopLeaveTime       int64  \n",
      " 19  nextStop                    object \n",
      " 20  nextStopLon                 float64\n",
      " 21  nextStopLat                 float64\n",
      " 22  nextStopDistance            float64\n",
      " 23  nextStopTimetableVisitTime  int64  \n",
      " 24  courseIdentifier            object \n",
      " 25  courseDirection             object \n",
      " 26  timetableStatus             object \n",
      " 27  overlapsWithNextBrigade     bool   \n",
      " 28  atStop                      bool   \n",
      " 29  speed                       float64\n",
      " 30  oldDelay                    float64\n",
      " 31  delayAtStopStopSequence     float64\n",
      " 32  previousStopStopSequence    float64\n",
      " 33  nextStopStopSequence        float64\n",
      " 34  delayAtStopStopId           object \n",
      " 35  previousStopStopId          object \n",
      " 36  nextStopStopId              object \n",
      " 37  id1                         object \n",
      " 38  lonSlice                    int64  \n",
      " 39  latSlice                    int64  \n",
      " 40  quadrant                    object \n",
      " 41  labelId                     object \n",
      " 42  rowNo                       int64  \n",
      " 43  label                       float64\n",
      "dtypes: bool(2), float64(18), int64(9), object(15)\n",
      "memory usage: 1.2+ GB\n"
     ]
    }
   ],
   "source": [
    "frame.info()"
   ]
  },
  {
   "cell_type": "code",
   "execution_count": 46,
   "metadata": {},
   "outputs": [
    {
     "name": "stdout",
     "output_type": "stream",
     "text": [
      "<class 'pandas.core.frame.DataFrame'>\n",
      "Int64Index: 303864 entries, 159 to 3679105\n",
      "Data columns (total 44 columns):\n",
      " #   Column                      Non-Null Count   Dtype  \n",
      "---  ------                      --------------   -----  \n",
      " 0   line                        303864 non-null  int64  \n",
      " 1   brigade                     303864 non-null  object \n",
      " 2   time                        303864 non-null  int64  \n",
      " 3   lon                         303864 non-null  float64\n",
      " 4   lat                         303864 non-null  float64\n",
      " 5   status                      303864 non-null  object \n",
      " 6   delay                       303864 non-null  float64\n",
      " 7   delayAtStop                 303864 non-null  object \n",
      " 8   plannedLeaveTime            303864 non-null  int64  \n",
      " 9   nearestStop                 303864 non-null  object \n",
      " 10  nearestStopDistance         303864 non-null  float64\n",
      " 11  nearestStopLon              303864 non-null  float64\n",
      " 12  nearestStopLat              303864 non-null  float64\n",
      " 13  previousStop                303864 non-null  object \n",
      " 14  previousStopLon             303864 non-null  float64\n",
      " 15  previousStopLat             303864 non-null  float64\n",
      " 16  previousStopDistance        303864 non-null  float64\n",
      " 17  previousStopArrivalTime     303864 non-null  int64  \n",
      " 18  previousStopLeaveTime       303864 non-null  int64  \n",
      " 19  nextStop                    303864 non-null  object \n",
      " 20  nextStopLon                 303864 non-null  float64\n",
      " 21  nextStopLat                 303864 non-null  float64\n",
      " 22  nextStopDistance            303864 non-null  float64\n",
      " 23  nextStopTimetableVisitTime  303864 non-null  int64  \n",
      " 24  courseIdentifier            303864 non-null  object \n",
      " 25  courseDirection             303864 non-null  object \n",
      " 26  timetableStatus             303864 non-null  object \n",
      " 27  overlapsWithNextBrigade     303864 non-null  bool   \n",
      " 28  atStop                      303864 non-null  bool   \n",
      " 29  speed                       303864 non-null  float64\n",
      " 30  oldDelay                    303864 non-null  float64\n",
      " 31  delayAtStopStopSequence     303864 non-null  float64\n",
      " 32  previousStopStopSequence    303864 non-null  float64\n",
      " 33  nextStopStopSequence        303864 non-null  float64\n",
      " 34  delayAtStopStopId           303864 non-null  object \n",
      " 35  previousStopStopId          303864 non-null  object \n",
      " 36  nextStopStopId              303864 non-null  object \n",
      " 37  id1                         303864 non-null  object \n",
      " 38  lonSlice                    303864 non-null  int64  \n",
      " 39  latSlice                    303864 non-null  int64  \n",
      " 40  quadrant                    303864 non-null  object \n",
      " 41  labelId                     303864 non-null  object \n",
      " 42  rowNo                       303864 non-null  int64  \n",
      " 43  label                       303864 non-null  float64\n",
      "dtypes: bool(2), float64(18), int64(9), object(15)\n",
      "memory usage: 100.3+ MB\n"
     ]
    }
   ],
   "source": [
    "frame[~frame['label'].isna()].info()"
   ]
  },
  {
   "cell_type": "code",
   "execution_count": 4,
   "metadata": {},
   "outputs": [],
   "source": [
    "frame = pd.read_csv('result_sup.csv', index_col=None, sep = ';')"
   ]
  },
  {
   "cell_type": "code",
   "execution_count": 7,
   "metadata": {},
   "outputs": [],
   "source": [
    "drop_columns = ['line','brigade','delayAtStop','nearestStop',\n",
    "                'nearestStopDistance','nearestStopLon','nearestStopLat','previousStop', 'previousStopLon', 'previousStopLat',\n",
    "               'previousStopArrivalTime', 'nextStop', 'nextStopLon', 'nextStopLat', 'courseDirection','overlapsWithNextBrigade',\n",
    "               'atStop','oldDelay', 'delayAtStopStopSequence','previousStopStopSequence','nextStopStopSequence',\n",
    "               'delayAtStopStopId', 'previousStopStopId', 'nextStopStopId', 'lonSlice', 'latSlice', 'rowNo']\n",
    "frame_slim = frame.drop(columns=drop_columns)"
   ]
  },
  {
   "cell_type": "code",
   "execution_count": 10,
   "metadata": {},
   "outputs": [
    {
     "data": {
      "text/html": [
       "<div>\n",
       "<style scoped>\n",
       "    .dataframe tbody tr th:only-of-type {\n",
       "        vertical-align: middle;\n",
       "    }\n",
       "\n",
       "    .dataframe tbody tr th {\n",
       "        vertical-align: top;\n",
       "    }\n",
       "\n",
       "    .dataframe thead th {\n",
       "        text-align: right;\n",
       "    }\n",
       "</style>\n",
       "<table border=\"1\" class=\"dataframe\">\n",
       "  <thead>\n",
       "    <tr style=\"text-align: right;\">\n",
       "      <th></th>\n",
       "      <th>time</th>\n",
       "      <th>lon</th>\n",
       "      <th>lat</th>\n",
       "      <th>status</th>\n",
       "      <th>delay</th>\n",
       "      <th>plannedLeaveTime</th>\n",
       "      <th>previousStopDistance</th>\n",
       "      <th>previousStopLeaveTime</th>\n",
       "      <th>nextStopDistance</th>\n",
       "      <th>nextStopTimetableVisitTime</th>\n",
       "      <th>courseIdentifier</th>\n",
       "      <th>timetableStatus</th>\n",
       "      <th>speed</th>\n",
       "      <th>id1</th>\n",
       "      <th>quadrant</th>\n",
       "      <th>labelId</th>\n",
       "      <th>label</th>\n",
       "    </tr>\n",
       "  </thead>\n",
       "  <tbody>\n",
       "    <tr>\n",
       "      <th>14</th>\n",
       "      <td>1527033864</td>\n",
       "      <td>21.047392</td>\n",
       "      <td>52.247852</td>\n",
       "      <td>moving</td>\n",
       "      <td>0.0</td>\n",
       "      <td>1527033840</td>\n",
       "      <td>351.589339</td>\n",
       "      <td>1527033843</td>\n",
       "      <td>78.106107</td>\n",
       "      <td>1527033840</td>\n",
       "      <td>26-6-126-2355</td>\n",
       "      <td>UNSAFE</td>\n",
       "      <td>1.58</td>\n",
       "      <td>26--6</td>\n",
       "      <td>17--12</td>\n",
       "      <td>26-6-126-2355--9.0</td>\n",
       "      <td>0.0</td>\n",
       "    </tr>\n",
       "    <tr>\n",
       "      <th>45</th>\n",
       "      <td>1527034971</td>\n",
       "      <td>20.978571</td>\n",
       "      <td>52.236389</td>\n",
       "      <td>moving</td>\n",
       "      <td>0.0</td>\n",
       "      <td>1527034980</td>\n",
       "      <td>465.475888</td>\n",
       "      <td>-9223372037</td>\n",
       "      <td>49.298441</td>\n",
       "      <td>1527034980</td>\n",
       "      <td>24-11-121-2350</td>\n",
       "      <td>UNSAFE</td>\n",
       "      <td>2.32</td>\n",
       "      <td>24--11</td>\n",
       "      <td>9--10</td>\n",
       "      <td>24-11-121-2350--24.0</td>\n",
       "      <td>39.0</td>\n",
       "    </tr>\n",
       "    <tr>\n",
       "      <th>62</th>\n",
       "      <td>1527035483</td>\n",
       "      <td>21.119535</td>\n",
       "      <td>52.238224</td>\n",
       "      <td>moving</td>\n",
       "      <td>0.0</td>\n",
       "      <td>1527035400</td>\n",
       "      <td>49.277509</td>\n",
       "      <td>-9223372037</td>\n",
       "      <td>44.775775</td>\n",
       "      <td>1527035400</td>\n",
       "      <td>9-021-218-2343</td>\n",
       "      <td>UNSAFE</td>\n",
       "      <td>3.01</td>\n",
       "      <td>9--21</td>\n",
       "      <td>25--10</td>\n",
       "      <td>9-021-218-2343--36.0</td>\n",
       "      <td>0.0</td>\n",
       "    </tr>\n",
       "    <tr>\n",
       "      <th>75</th>\n",
       "      <td>1527036373</td>\n",
       "      <td>21.118382</td>\n",
       "      <td>52.238277</td>\n",
       "      <td>moving</td>\n",
       "      <td>0.0</td>\n",
       "      <td>1527036360</td>\n",
       "      <td>36.277961</td>\n",
       "      <td>1527036373</td>\n",
       "      <td>31.937305</td>\n",
       "      <td>1527036360</td>\n",
       "      <td>9-021-218-2446</td>\n",
       "      <td>UNSAFE</td>\n",
       "      <td>3.66</td>\n",
       "      <td>9--21</td>\n",
       "      <td>25--10</td>\n",
       "      <td>9-021-218-2446--3.0</td>\n",
       "      <td>29.0</td>\n",
       "    </tr>\n",
       "    <tr>\n",
       "      <th>76</th>\n",
       "      <td>1527036435</td>\n",
       "      <td>21.114327</td>\n",
       "      <td>52.239945</td>\n",
       "      <td>moving</td>\n",
       "      <td>29.0</td>\n",
       "      <td>1527036420</td>\n",
       "      <td>300.635267</td>\n",
       "      <td>1527036389</td>\n",
       "      <td>75.097609</td>\n",
       "      <td>1527036420</td>\n",
       "      <td>9-021-218-2446</td>\n",
       "      <td>UNSAFE</td>\n",
       "      <td>2.20</td>\n",
       "      <td>9--21</td>\n",
       "      <td>25--11</td>\n",
       "      <td>9-021-218-2446--4.0</td>\n",
       "      <td>26.0</td>\n",
       "    </tr>\n",
       "    <tr>\n",
       "      <th>...</th>\n",
       "      <td>...</td>\n",
       "      <td>...</td>\n",
       "      <td>...</td>\n",
       "      <td>...</td>\n",
       "      <td>...</td>\n",
       "      <td>...</td>\n",
       "      <td>...</td>\n",
       "      <td>...</td>\n",
       "      <td>...</td>\n",
       "      <td>...</td>\n",
       "      <td>...</td>\n",
       "      <td>...</td>\n",
       "      <td>...</td>\n",
       "      <td>...</td>\n",
       "      <td>...</td>\n",
       "      <td>...</td>\n",
       "      <td>...</td>\n",
       "    </tr>\n",
       "    <tr>\n",
       "      <th>303714</th>\n",
       "      <td>1527292312</td>\n",
       "      <td>21.114361</td>\n",
       "      <td>52.239967</td>\n",
       "      <td>moving</td>\n",
       "      <td>52.0</td>\n",
       "      <td>1527292260</td>\n",
       "      <td>300.123249</td>\n",
       "      <td>1527292239</td>\n",
       "      <td>76.595629</td>\n",
       "      <td>1527292260</td>\n",
       "      <td>24-11-121-2350</td>\n",
       "      <td>UNSAFE</td>\n",
       "      <td>4.24</td>\n",
       "      <td>24--11</td>\n",
       "      <td>25--11</td>\n",
       "      <td>24-11-121-2350--3.0</td>\n",
       "      <td>71.0</td>\n",
       "    </tr>\n",
       "    <tr>\n",
       "      <th>303772</th>\n",
       "      <td>1527292470</td>\n",
       "      <td>21.008724</td>\n",
       "      <td>52.220146</td>\n",
       "      <td>moving</td>\n",
       "      <td>0.0</td>\n",
       "      <td>1527292320</td>\n",
       "      <td>308.315313</td>\n",
       "      <td>1527292463</td>\n",
       "      <td>172.593985</td>\n",
       "      <td>1527292320</td>\n",
       "      <td>15-2-48-2330</td>\n",
       "      <td>UNSAFE</td>\n",
       "      <td>10.44</td>\n",
       "      <td>15--2</td>\n",
       "      <td>12--8</td>\n",
       "      <td>15-2-48-2330--19.0</td>\n",
       "      <td>165.0</td>\n",
       "    </tr>\n",
       "    <tr>\n",
       "      <th>303774</th>\n",
       "      <td>1527292478</td>\n",
       "      <td>21.022684</td>\n",
       "      <td>52.206089</td>\n",
       "      <td>moving</td>\n",
       "      <td>0.0</td>\n",
       "      <td>1527292260</td>\n",
       "      <td>362.304323</td>\n",
       "      <td>1527292458</td>\n",
       "      <td>124.324112</td>\n",
       "      <td>1527292260</td>\n",
       "      <td>4-12-152-2310</td>\n",
       "      <td>UNSAFE</td>\n",
       "      <td>18.00</td>\n",
       "      <td>4--12</td>\n",
       "      <td>14--5</td>\n",
       "      <td>4-12-152-2310--30.0</td>\n",
       "      <td>234.0</td>\n",
       "    </tr>\n",
       "    <tr>\n",
       "      <th>303803</th>\n",
       "      <td>1527292573</td>\n",
       "      <td>20.913771</td>\n",
       "      <td>52.252209</td>\n",
       "      <td>moving</td>\n",
       "      <td>0.0</td>\n",
       "      <td>1527292200</td>\n",
       "      <td>655.445031</td>\n",
       "      <td>1527292459</td>\n",
       "      <td>85.664086</td>\n",
       "      <td>1527292200</td>\n",
       "      <td>24-017-121-2300</td>\n",
       "      <td>UNSAFE</td>\n",
       "      <td>4.81</td>\n",
       "      <td>24--17</td>\n",
       "      <td>1--13</td>\n",
       "      <td>24-017-121-2300--37.0</td>\n",
       "      <td>0.0</td>\n",
       "    </tr>\n",
       "    <tr>\n",
       "      <th>303823</th>\n",
       "      <td>1527292651</td>\n",
       "      <td>20.919205</td>\n",
       "      <td>52.256519</td>\n",
       "      <td>moving</td>\n",
       "      <td>0.0</td>\n",
       "      <td>1527292320</td>\n",
       "      <td>520.171830</td>\n",
       "      <td>1527292611</td>\n",
       "      <td>43.770606</td>\n",
       "      <td>1527292320</td>\n",
       "      <td>24-017-121-2300</td>\n",
       "      <td>UNSAFE</td>\n",
       "      <td>12.08</td>\n",
       "      <td>24--17</td>\n",
       "      <td>2--13</td>\n",
       "      <td>24-017-121-2300--38.0</td>\n",
       "      <td>341.0</td>\n",
       "    </tr>\n",
       "  </tbody>\n",
       "</table>\n",
       "<p>8312 rows × 17 columns</p>\n",
       "</div>"
      ],
      "text/plain": [
       "              time        lon        lat  status  delay  plannedLeaveTime  \\\n",
       "14      1527033864  21.047392  52.247852  moving    0.0        1527033840   \n",
       "45      1527034971  20.978571  52.236389  moving    0.0        1527034980   \n",
       "62      1527035483  21.119535  52.238224  moving    0.0        1527035400   \n",
       "75      1527036373  21.118382  52.238277  moving    0.0        1527036360   \n",
       "76      1527036435  21.114327  52.239945  moving   29.0        1527036420   \n",
       "...            ...        ...        ...     ...    ...               ...   \n",
       "303714  1527292312  21.114361  52.239967  moving   52.0        1527292260   \n",
       "303772  1527292470  21.008724  52.220146  moving    0.0        1527292320   \n",
       "303774  1527292478  21.022684  52.206089  moving    0.0        1527292260   \n",
       "303803  1527292573  20.913771  52.252209  moving    0.0        1527292200   \n",
       "303823  1527292651  20.919205  52.256519  moving    0.0        1527292320   \n",
       "\n",
       "        previousStopDistance  previousStopLeaveTime  nextStopDistance  \\\n",
       "14                351.589339             1527033843         78.106107   \n",
       "45                465.475888            -9223372037         49.298441   \n",
       "62                 49.277509            -9223372037         44.775775   \n",
       "75                 36.277961             1527036373         31.937305   \n",
       "76                300.635267             1527036389         75.097609   \n",
       "...                      ...                    ...               ...   \n",
       "303714            300.123249             1527292239         76.595629   \n",
       "303772            308.315313             1527292463        172.593985   \n",
       "303774            362.304323             1527292458        124.324112   \n",
       "303803            655.445031             1527292459         85.664086   \n",
       "303823            520.171830             1527292611         43.770606   \n",
       "\n",
       "        nextStopTimetableVisitTime courseIdentifier timetableStatus  speed  \\\n",
       "14                      1527033840    26-6-126-2355          UNSAFE   1.58   \n",
       "45                      1527034980   24-11-121-2350          UNSAFE   2.32   \n",
       "62                      1527035400   9-021-218-2343          UNSAFE   3.01   \n",
       "75                      1527036360   9-021-218-2446          UNSAFE   3.66   \n",
       "76                      1527036420   9-021-218-2446          UNSAFE   2.20   \n",
       "...                            ...              ...             ...    ...   \n",
       "303714                  1527292260   24-11-121-2350          UNSAFE   4.24   \n",
       "303772                  1527292320     15-2-48-2330          UNSAFE  10.44   \n",
       "303774                  1527292260    4-12-152-2310          UNSAFE  18.00   \n",
       "303803                  1527292200  24-017-121-2300          UNSAFE   4.81   \n",
       "303823                  1527292320  24-017-121-2300          UNSAFE  12.08   \n",
       "\n",
       "           id1 quadrant                labelId  label  \n",
       "14       26--6   17--12     26-6-126-2355--9.0    0.0  \n",
       "45      24--11    9--10   24-11-121-2350--24.0   39.0  \n",
       "62       9--21   25--10   9-021-218-2343--36.0    0.0  \n",
       "75       9--21   25--10    9-021-218-2446--3.0   29.0  \n",
       "76       9--21   25--11    9-021-218-2446--4.0   26.0  \n",
       "...        ...      ...                    ...    ...  \n",
       "303714  24--11   25--11    24-11-121-2350--3.0   71.0  \n",
       "303772   15--2    12--8     15-2-48-2330--19.0  165.0  \n",
       "303774   4--12    14--5    4-12-152-2310--30.0  234.0  \n",
       "303803  24--17    1--13  24-017-121-2300--37.0    0.0  \n",
       "303823  24--17    2--13  24-017-121-2300--38.0  341.0  \n",
       "\n",
       "[8312 rows x 17 columns]"
      ]
     },
     "execution_count": 10,
     "metadata": {},
     "output_type": "execute_result"
    }
   ],
   "source": [
    "frame_slim[frame_slim['timetableStatus']!= \"SAFE\"]"
   ]
  },
  {
   "cell_type": "code",
   "execution_count": 11,
   "metadata": {},
   "outputs": [],
   "source": [
    "frame_slim.to_csv('result_sup_slim.csv', sep = ';', na_rep='?', index=False)"
   ]
  },
  {
   "cell_type": "code",
   "execution_count": 3,
   "metadata": {},
   "outputs": [],
   "source": [
    "frame_slim = pd.read_csv('result_sup_slim.csv', index_col=None, sep = ';')"
   ]
  },
  {
   "cell_type": "code",
   "execution_count": 5,
   "metadata": {},
   "outputs": [
    {
     "name": "stdout",
     "output_type": "stream",
     "text": [
      "<class 'pandas.core.frame.DataFrame'>\n",
      "RangeIndex: 303864 entries, 0 to 303863\n",
      "Data columns (total 17 columns):\n",
      " #   Column                      Non-Null Count   Dtype  \n",
      "---  ------                      --------------   -----  \n",
      " 0   time                        303864 non-null  int64  \n",
      " 1   lon                         303864 non-null  float64\n",
      " 2   lat                         303864 non-null  float64\n",
      " 3   status                      303864 non-null  object \n",
      " 4   delay                       303864 non-null  float64\n",
      " 5   plannedLeaveTime            303864 non-null  int64  \n",
      " 6   previousStopDistance        303864 non-null  float64\n",
      " 7   previousStopLeaveTime       303864 non-null  int64  \n",
      " 8   nextStopDistance            303864 non-null  float64\n",
      " 9   nextStopTimetableVisitTime  303864 non-null  int64  \n",
      " 10  courseIdentifier            303864 non-null  object \n",
      " 11  timetableStatus             303864 non-null  object \n",
      " 12  speed                       303864 non-null  float64\n",
      " 13  id1                         303864 non-null  object \n",
      " 14  quadrant                    303864 non-null  object \n",
      " 15  labelId                     303864 non-null  object \n",
      " 16  label                       303864 non-null  float64\n",
      "dtypes: float64(7), int64(4), object(6)\n",
      "memory usage: 39.4+ MB\n"
     ]
    }
   ],
   "source": [
    "frame_slim.info()"
   ]
  },
  {
   "cell_type": "code",
   "execution_count": null,
   "metadata": {},
   "outputs": [],
   "source": []
  }
 ],
 "metadata": {
  "kernelspec": {
   "display_name": "local-venv",
   "language": "python",
   "name": "local-venv"
  },
  "language_info": {
   "codemirror_mode": {
    "name": "ipython",
    "version": 3
   },
   "file_extension": ".py",
   "mimetype": "text/x-python",
   "name": "python",
   "nbconvert_exporter": "python",
   "pygments_lexer": "ipython3",
   "version": "3.7.0"
  }
 },
 "nbformat": 4,
 "nbformat_minor": 2
}
